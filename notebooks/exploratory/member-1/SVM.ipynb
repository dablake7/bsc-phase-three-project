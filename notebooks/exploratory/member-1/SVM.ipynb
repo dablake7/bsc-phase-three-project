{
 "cells": [
  {
   "cell_type": "code",
   "execution_count": 1,
   "metadata": {},
   "outputs": [],
   "source": [
    "import pandas as pd\n",
    "df = pd.read_csv('../../../data/cocolate2.csv')\n",
    "\n",
    "\n"
   ]
  },
  {
   "cell_type": "code",
   "execution_count": null,
   "metadata": {},
   "outputs": [],
   "source": []
  },
  {
   "cell_type": "code",
   "execution_count": null,
   "metadata": {},
   "outputs": [],
   "source": []
  },
  {
   "cell_type": "code",
   "execution_count": null,
   "metadata": {},
   "outputs": [],
   "source": []
  },
  {
   "cell_type": "code",
   "execution_count": null,
   "metadata": {},
   "outputs": [],
   "source": []
  },
  {
   "cell_type": "code",
   "execution_count": null,
   "metadata": {},
   "outputs": [],
   "source": []
  },
  {
   "cell_type": "code",
   "execution_count": null,
   "metadata": {},
   "outputs": [],
   "source": []
  },
  {
   "cell_type": "code",
   "execution_count": null,
   "metadata": {},
   "outputs": [],
   "source": []
  },
  {
   "cell_type": "code",
   "execution_count": 2,
   "metadata": {},
   "outputs": [
    {
     "data": {
      "text/plain": [
       "1    1702\n",
       "0     491\n",
       "Name: Rating, dtype: int64"
      ]
     },
     "execution_count": 2,
     "metadata": {},
     "output_type": "execute_result"
    }
   ],
   "source": [
    "def binarizer2(integer):\n",
    "    if integer < 3.0:\n",
    "        return 0\n",
    "    else:\n",
    "        return 1\n",
    "    \n",
    "df['Rating'] = df['Rating'].apply(binarizer2)\n",
    "\n",
    "df['Rating'].value_counts()"
   ]
  },
  {
   "cell_type": "code",
   "execution_count": 3,
   "metadata": {},
   "outputs": [],
   "source": [
    "from sklearn.model_selection import train_test_split\n",
    "y= df['Rating']\n",
    "x = df.drop(['Rating'], axis=1)\n",
    "\n",
    "x_tr, x_test, y_tr, y_test = train_test_split(x,y, random_state=42)\n",
    "x_train, x_val, y_train, y_val = train_test_split(x_tr, y_tr, random_state=57)"
   ]
  },
  {
   "cell_type": "code",
   "execution_count": null,
   "metadata": {},
   "outputs": [],
   "source": [
    "from sklearn.svm import SVC\n",
    "\n",
    "svm = SVC(C = 0.1, kernel = 'linear',degree = 1,max_iter=-1 )\n",
    "\n",
    "svm.fit(x_train,y_train)"
   ]
  },
  {
   "cell_type": "code",
   "execution_count": null,
   "metadata": {},
   "outputs": [],
   "source": [
    "train_pred = svm.predict(x_train)\n",
    "val_pred = svm.predict(x_val)\n",
    "\n",
    "from sklearn.metrics import accuracy_score\n",
    "\n",
    "train_acc = accuracy_score(y_train,train_pred)\n",
    "val_acc = accuracy_score(y_val,val_pred)\n",
    "\n",
    "print(train_acc)\n",
    "print(val_acc)"
   ]
  },
  {
   "cell_type": "markdown",
   "metadata": {},
   "source": [
    "Very good score for a baseline, let's tune up those hyper parameters with some grid searching"
   ]
  },
  {
   "cell_type": "code",
   "execution_count": null,
   "metadata": {},
   "outputs": [],
   "source": [
    "from sklearn.model_selection import GridSearchCV\n",
    "\n",
    "GS_SCV = SVC()\n",
    "\n",
    "#tried wieghts distance, lead to overfitting so it's been removed as an option\n",
    "pram_grid = {'C': [0.1], 'kernel' : ['linear'], 'degree':[1,2], 'max_iter':[-1]}\n",
    "\n",
    "GSCV = GridSearchCV(GS_SCV,pram_grid,scoring = 'accuracy')\n",
    "\n",
    "GSCV.fit(x_train,y_train)"
   ]
  },
  {
   "cell_type": "code",
   "execution_count": null,
   "metadata": {},
   "outputs": [],
   "source": [
    "GSCV.best_params_"
   ]
  },
  {
   "cell_type": "code",
   "execution_count": null,
   "metadata": {},
   "outputs": [],
   "source": [
    "train_pred = GSCV.predict(x_train)\n",
    "val_pred = GSCV.predict(x_val)\n",
    "\n",
    "\n",
    "train_acc = accuracy_score(y_train,train_pred)\n",
    "val_acc = accuracy_score(y_val,val_pred)\n",
    "\n",
    "print(train_acc)\n",
    "print(val_acc)"
   ]
  },
  {
   "cell_type": "code",
   "execution_count": null,
   "metadata": {},
   "outputs": [],
   "source": [
    "{'C': 0.5, 'degree': 1, 'kernel': 'sigmoid', 'max_iter': 10} \n",
    "0.7615571776155717\n",
    "0.7639902676399026"
   ]
  },
  {
   "cell_type": "code",
   "execution_count": null,
   "metadata": {},
   "outputs": [],
   "source": [
    "'C': 0.1, 'degree': 5, 'kernel': 'poly', 'max_iter': 1000}\n",
    "0.781021897810219\n",
    "0.781021897810219"
   ]
  },
  {
   "cell_type": "code",
   "execution_count": null,
   "metadata": {},
   "outputs": [],
   "source": [
    "{'C': 0.1, 'degree': 5, 'kernel': 'poly', 'max_iter': 5000}\n",
    "0.781021897810219\n",
    "0.781021897810219"
   ]
  },
  {
   "cell_type": "code",
   "execution_count": null,
   "metadata": {},
   "outputs": [],
   "source": [
    "'C': 0.1, 'degree': 1, 'kernel': 'linear', 'max_iter': -1}\n",
    "0.8386050283860503\n",
    "0.8418491484184915"
   ]
  }
 ],
 "metadata": {
  "kernelspec": {
   "display_name": "Python 3",
   "language": "python",
   "name": "python3"
  },
  "language_info": {
   "codemirror_mode": {
    "name": "ipython",
    "version": 3
   },
   "file_extension": ".py",
   "mimetype": "text/x-python",
   "name": "python",
   "nbconvert_exporter": "python",
   "pygments_lexer": "ipython3",
   "version": "3.8.5"
  }
 },
 "nbformat": 4,
 "nbformat_minor": 4
}
