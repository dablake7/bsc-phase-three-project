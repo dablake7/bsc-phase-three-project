{
 "cells": [
  {
   "cell_type": "code",
   "execution_count": 1,
   "id": "6bf0903b",
   "metadata": {},
   "outputs": [],
   "source": [
    "import pandas as pd"
   ]
  },
  {
   "cell_type": "code",
   "execution_count": 2,
   "id": "7aeb3671",
   "metadata": {},
   "outputs": [],
   "source": [
    "df = pd.read_csv('../../../data/chocolate_encoded.csv')\n"
   ]
  },
  {
   "cell_type": "code",
   "execution_count": 3,
   "id": "f98eb847",
   "metadata": {
    "scrolled": true
   },
   "outputs": [
    {
     "data": {
      "text/html": [
       "<div>\n",
       "<style scoped>\n",
       "    .dataframe tbody tr th:only-of-type {\n",
       "        vertical-align: middle;\n",
       "    }\n",
       "\n",
       "    .dataframe tbody tr th {\n",
       "        vertical-align: top;\n",
       "    }\n",
       "\n",
       "    .dataframe thead th {\n",
       "        text-align: right;\n",
       "    }\n",
       "</style>\n",
       "<table border=\"1\" class=\"dataframe\">\n",
       "  <thead>\n",
       "    <tr style=\"text-align: right;\">\n",
       "      <th></th>\n",
       "      <th>Unnamed: 0</th>\n",
       "      <th>REF</th>\n",
       "      <th>Cocoa Percent</th>\n",
       "      <th>fruity</th>\n",
       "      <th>sandy</th>\n",
       "      <th>honey</th>\n",
       "      <th>spice</th>\n",
       "      <th>sour</th>\n",
       "      <th>nut</th>\n",
       "      <th>berry</th>\n",
       "      <th>...</th>\n",
       "      <th>x3_2.0</th>\n",
       "      <th>x3_2.25</th>\n",
       "      <th>x3_2.5</th>\n",
       "      <th>x3_2.6</th>\n",
       "      <th>x3_2.75</th>\n",
       "      <th>x3_3.0</th>\n",
       "      <th>x3_3.25</th>\n",
       "      <th>x3_3.5</th>\n",
       "      <th>x3_3.75</th>\n",
       "      <th>x3_4.0</th>\n",
       "    </tr>\n",
       "  </thead>\n",
       "  <tbody>\n",
       "    <tr>\n",
       "      <th>0</th>\n",
       "      <td>0</td>\n",
       "      <td>5.0</td>\n",
       "      <td>0.71</td>\n",
       "      <td>0.0</td>\n",
       "      <td>1.0</td>\n",
       "      <td>0.0</td>\n",
       "      <td>0.0</td>\n",
       "      <td>0.0</td>\n",
       "      <td>0.0</td>\n",
       "      <td>0.0</td>\n",
       "      <td>...</td>\n",
       "      <td>1.0</td>\n",
       "      <td>0.0</td>\n",
       "      <td>0.0</td>\n",
       "      <td>0.0</td>\n",
       "      <td>0.0</td>\n",
       "      <td>0.0</td>\n",
       "      <td>0.0</td>\n",
       "      <td>0.0</td>\n",
       "      <td>0.0</td>\n",
       "      <td>0.0</td>\n",
       "    </tr>\n",
       "    <tr>\n",
       "      <th>1</th>\n",
       "      <td>1</td>\n",
       "      <td>15.0</td>\n",
       "      <td>0.75</td>\n",
       "      <td>0.0</td>\n",
       "      <td>0.0</td>\n",
       "      <td>0.0</td>\n",
       "      <td>0.0</td>\n",
       "      <td>0.0</td>\n",
       "      <td>0.0</td>\n",
       "      <td>0.0</td>\n",
       "      <td>...</td>\n",
       "      <td>0.0</td>\n",
       "      <td>0.0</td>\n",
       "      <td>0.0</td>\n",
       "      <td>0.0</td>\n",
       "      <td>1.0</td>\n",
       "      <td>0.0</td>\n",
       "      <td>0.0</td>\n",
       "      <td>0.0</td>\n",
       "      <td>0.0</td>\n",
       "      <td>0.0</td>\n",
       "    </tr>\n",
       "    <tr>\n",
       "      <th>2</th>\n",
       "      <td>2</td>\n",
       "      <td>15.0</td>\n",
       "      <td>0.73</td>\n",
       "      <td>0.0</td>\n",
       "      <td>0.0</td>\n",
       "      <td>0.0</td>\n",
       "      <td>0.0</td>\n",
       "      <td>0.0</td>\n",
       "      <td>0.0</td>\n",
       "      <td>0.0</td>\n",
       "      <td>...</td>\n",
       "      <td>1.0</td>\n",
       "      <td>0.0</td>\n",
       "      <td>0.0</td>\n",
       "      <td>0.0</td>\n",
       "      <td>0.0</td>\n",
       "      <td>0.0</td>\n",
       "      <td>0.0</td>\n",
       "      <td>0.0</td>\n",
       "      <td>0.0</td>\n",
       "      <td>0.0</td>\n",
       "    </tr>\n",
       "    <tr>\n",
       "      <th>3</th>\n",
       "      <td>3</td>\n",
       "      <td>15.0</td>\n",
       "      <td>0.70</td>\n",
       "      <td>0.0</td>\n",
       "      <td>0.0</td>\n",
       "      <td>0.0</td>\n",
       "      <td>0.0</td>\n",
       "      <td>0.0</td>\n",
       "      <td>0.0</td>\n",
       "      <td>1.0</td>\n",
       "      <td>...</td>\n",
       "      <td>0.0</td>\n",
       "      <td>0.0</td>\n",
       "      <td>0.0</td>\n",
       "      <td>0.0</td>\n",
       "      <td>0.0</td>\n",
       "      <td>0.0</td>\n",
       "      <td>0.0</td>\n",
       "      <td>1.0</td>\n",
       "      <td>0.0</td>\n",
       "      <td>0.0</td>\n",
       "    </tr>\n",
       "    <tr>\n",
       "      <th>4</th>\n",
       "      <td>4</td>\n",
       "      <td>15.0</td>\n",
       "      <td>0.82</td>\n",
       "      <td>0.0</td>\n",
       "      <td>1.0</td>\n",
       "      <td>0.0</td>\n",
       "      <td>0.0</td>\n",
       "      <td>0.0</td>\n",
       "      <td>0.0</td>\n",
       "      <td>0.0</td>\n",
       "      <td>...</td>\n",
       "      <td>1.0</td>\n",
       "      <td>0.0</td>\n",
       "      <td>0.0</td>\n",
       "      <td>0.0</td>\n",
       "      <td>0.0</td>\n",
       "      <td>0.0</td>\n",
       "      <td>0.0</td>\n",
       "      <td>0.0</td>\n",
       "      <td>0.0</td>\n",
       "      <td>0.0</td>\n",
       "    </tr>\n",
       "  </tbody>\n",
       "</table>\n",
       "<p>5 rows × 680 columns</p>\n",
       "</div>"
      ],
      "text/plain": [
       "   Unnamed: 0   REF  Cocoa Percent  fruity  sandy  honey  spice  sour  nut  \\\n",
       "0           0   5.0           0.71     0.0    1.0    0.0    0.0   0.0  0.0   \n",
       "1           1  15.0           0.75     0.0    0.0    0.0    0.0   0.0  0.0   \n",
       "2           2  15.0           0.73     0.0    0.0    0.0    0.0   0.0  0.0   \n",
       "3           3  15.0           0.70     0.0    0.0    0.0    0.0   0.0  0.0   \n",
       "4           4  15.0           0.82     0.0    1.0    0.0    0.0   0.0  0.0   \n",
       "\n",
       "   berry  ...  x3_2.0  x3_2.25  x3_2.5  x3_2.6  x3_2.75  x3_3.0  x3_3.25  \\\n",
       "0    0.0  ...     1.0      0.0     0.0     0.0      0.0     0.0      0.0   \n",
       "1    0.0  ...     0.0      0.0     0.0     0.0      1.0     0.0      0.0   \n",
       "2    0.0  ...     1.0      0.0     0.0     0.0      0.0     0.0      0.0   \n",
       "3    1.0  ...     0.0      0.0     0.0     0.0      0.0     0.0      0.0   \n",
       "4    0.0  ...     1.0      0.0     0.0     0.0      0.0     0.0      0.0   \n",
       "\n",
       "   x3_3.5  x3_3.75  x3_4.0  \n",
       "0     0.0      0.0     0.0  \n",
       "1     0.0      0.0     0.0  \n",
       "2     0.0      0.0     0.0  \n",
       "3     1.0      0.0     0.0  \n",
       "4     0.0      0.0     0.0  \n",
       "\n",
       "[5 rows x 680 columns]"
      ]
     },
     "execution_count": 3,
     "metadata": {},
     "output_type": "execute_result"
    }
   ],
   "source": [
    "df.head()\n"
   ]
  },
  {
   "cell_type": "code",
   "execution_count": 4,
   "id": "94486f19",
   "metadata": {},
   "outputs": [],
   "source": [
    "df = df.dropna()"
   ]
  },
  {
   "cell_type": "code",
   "execution_count": 5,
   "id": "687b13a2",
   "metadata": {},
   "outputs": [],
   "source": [
    "from sklearn.model_selection import train_test_split\n",
    "y= df[['x3_1.0','x3_1.5','x3_1.75','x3_2.0','x3_2.25','x3_2.5','x3_2.75','x3_3.0','x3_3.5','x3_3.75','x3_4.0']]\n",
    "x = df.drop(['x3_1.0','x3_1.5','x3_1.75','x3_2.0','x3_2.25','x3_2.5','x3_2.75','x3_3.0','x3_3.5','x3_3.75','x3_4.0'],axis=1)\n"
   ]
  },
  {
   "cell_type": "code",
   "execution_count": 6,
   "id": "2a8148ef",
   "metadata": {},
   "outputs": [],
   "source": [
    "x_tr, x_test, y_tr, y_test = train_test_split(x,y, random_state=42)\n",
    "x_train, x_val, y_train, y_val = train_test_split(x_tr, y_tr, random_state=57)"
   ]
  },
  {
   "cell_type": "code",
   "execution_count": 6,
   "id": "961887e7",
   "metadata": {},
   "outputs": [],
   "source": [
    "from sklearn.neighbors import KNeighborsClassifier"
   ]
  },
  {
   "cell_type": "code",
   "execution_count": 8,
   "id": "b7dbb665",
   "metadata": {},
   "outputs": [],
   "source": [
    "base_KNN = KNeighborsClassifier()\n",
    "\n",
    "base_KNN.fit(x_train, y_train)\n",
    "\n",
    "train_pred = base_KNN.predict(x_train)\n",
    "val_pred = base_KNN.predict(x_val)\n",
    "\n"
   ]
  },
  {
   "cell_type": "code",
   "execution_count": 10,
   "id": "eb9a42a0",
   "metadata": {},
   "outputs": [
    {
     "name": "stdout",
     "output_type": "stream",
     "text": [
      "0.3146796431467964\n",
      "0.21897810218978103\n"
     ]
    }
   ],
   "source": [
    "from sklearn.metrics import accuracy_score\n",
    "\n",
    "train_acc = accuracy_score(y_train,train_pred)\n",
    "val_acc = accuracy_score(y_val,val_pred)\n",
    "\n",
    "print(train_acc)\n",
    "print(val_acc)"
   ]
  },
  {
   "cell_type": "markdown",
   "id": "cc6317cf",
   "metadata": {},
   "source": [
    "Baseline KNN classifier, preforms decent with accuracy, but a grid search could likely improve it at least some"
   ]
  },
  {
   "cell_type": "code",
   "execution_count": 11,
   "id": "0781785d",
   "metadata": {},
   "outputs": [
    {
     "data": {
      "text/plain": [
       "GridSearchCV(estimator=KNeighborsClassifier(),\n",
       "             param_grid={'algorithm': ['ball_tree', 'kd_tree', 'brute'],\n",
       "                         'leaf_size': [5, 30, 100],\n",
       "                         'n_neighbors': [1, 50, 100, 200, 500], 'p': [1, 2],\n",
       "                         'weights': ['uniform']},\n",
       "             scoring='accuracy')"
      ]
     },
     "execution_count": 11,
     "metadata": {},
     "output_type": "execute_result"
    }
   ],
   "source": [
    "from sklearn.model_selection import GridSearchCV\n",
    "\n",
    "GS_KNN = KNeighborsClassifier()\n",
    "\n",
    "#tried wieghts distance, lead to overfitting so it's been removed as an option\n",
    "pram_grid = {'n_neighbors': [1,50,100,200,500], 'weights' : ['uniform'], 'algorithm':['ball_tree','kd_tree','brute'],'leaf_size':[5,30,100],'p':[1,2]}\n",
    "\n",
    "GSCV = GridSearchCV(GS_KNN,pram_grid,scoring = 'accuracy')\n",
    "\n",
    "GSCV.fit(x_train,y_train)"
   ]
  },
  {
   "cell_type": "code",
   "execution_count": 12,
   "id": "9ead66ba",
   "metadata": {},
   "outputs": [
    {
     "data": {
      "text/plain": [
       "{'algorithm': 'ball_tree',\n",
       " 'leaf_size': 30,\n",
       " 'n_neighbors': 1,\n",
       " 'p': 1,\n",
       " 'weights': 'uniform'}"
      ]
     },
     "execution_count": 12,
     "metadata": {},
     "output_type": "execute_result"
    }
   ],
   "source": [
    "GSCV.best_params_"
   ]
  },
  {
   "cell_type": "code",
   "execution_count": 14,
   "id": "539566f5",
   "metadata": {},
   "outputs": [
    {
     "name": "stdout",
     "output_type": "stream",
     "text": [
      "1.0\n",
      "0.24087591240875914\n"
     ]
    }
   ],
   "source": [
    "train_pred = GSCV.predict(x_train)\n",
    "val_pred = GSCV.predict(x_val)\n",
    "\n",
    "\n",
    "train_acc = accuracy_score(y_train,train_pred)\n",
    "val_acc = accuracy_score(y_val,val_pred)\n",
    "\n",
    "print(train_acc)\n",
    "print(val_acc)"
   ]
  },
  {
   "cell_type": "markdown",
   "id": "7b4b34ef",
   "metadata": {},
   "source": [
    "Definitely imporved the model, but there's definently work to be done, so let's try and refine further"
   ]
  },
  {
   "cell_type": "code",
   "execution_count": 15,
   "id": "ea20a657",
   "metadata": {},
   "outputs": [
    {
     "data": {
      "text/plain": [
       "GridSearchCV(estimator=KNeighborsClassifier(),\n",
       "             param_grid={'algorithm': ['ball_tree', 'kd_tree', 'brute'],\n",
       "                         'leaf_size': [20, 30, 40],\n",
       "                         'n_neighbors': [1, 5, 10, 15, 20, 25, 30], 'p': [1],\n",
       "                         'weights': ['uniform']},\n",
       "             scoring='accuracy')"
      ]
     },
     "execution_count": 15,
     "metadata": {},
     "output_type": "execute_result"
    }
   ],
   "source": [
    "GS_KNN = KNeighborsClassifier()\n",
    "\n",
    "\n",
    "pram_grid = {'n_neighbors': [1,5,10,15,20,25,30], 'weights' : ['uniform'], 'algorithm':['ball_tree','kd_tree','brute'],'leaf_size':[20,30,40],'p':[1]}\n",
    "\n",
    "GSCV = GridSearchCV(GS_KNN,pram_grid,scoring = 'accuracy')\n",
    "\n",
    "GSCV.fit(x_train,y_train)"
   ]
  },
  {
   "cell_type": "code",
   "execution_count": 16,
   "id": "ce51a15d",
   "metadata": {},
   "outputs": [
    {
     "data": {
      "text/plain": [
       "{'algorithm': 'ball_tree',\n",
       " 'leaf_size': 20,\n",
       " 'n_neighbors': 5,\n",
       " 'p': 1,\n",
       " 'weights': 'uniform'}"
      ]
     },
     "execution_count": 16,
     "metadata": {},
     "output_type": "execute_result"
    }
   ],
   "source": [
    "GSCV.best_params_"
   ]
  },
  {
   "cell_type": "code",
   "execution_count": 17,
   "id": "b2ae0ae3",
   "metadata": {},
   "outputs": [
    {
     "name": "stdout",
     "output_type": "stream",
     "text": [
      "0.30413625304136255\n",
      "0.22871046228710462\n"
     ]
    }
   ],
   "source": [
    "train_pred = GSCV.predict(x_train)\n",
    "val_pred = GSCV.predict(x_val)\n",
    "\n",
    "\n",
    "train_acc = accuracy_score(y_train,train_pred)\n",
    "val_acc = accuracy_score(y_val,val_pred)\n",
    "\n",
    "print(train_acc)\n",
    "print(val_acc)"
   ]
  },
  {
   "cell_type": "markdown",
   "id": "5b65fdf9",
   "metadata": {},
   "source": [
    "Ok so much smaller improvement, but n_neighbors boeign 1 seems super wrong, let's try narrowing down again and seeing what happens"
   ]
  },
  {
   "cell_type": "code",
   "execution_count": 18,
   "id": "be6ad787",
   "metadata": {},
   "outputs": [
    {
     "data": {
      "text/plain": [
       "GridSearchCV(estimator=KNeighborsClassifier(),\n",
       "             param_grid={'algorithm': ['ball_tree'], 'leaf_size': [15, 20, 25],\n",
       "                         'n_neighbors': [3, 4, 5, 6, 7], 'p': [1],\n",
       "                         'weights': ['uniform']},\n",
       "             scoring='accuracy')"
      ]
     },
     "execution_count": 18,
     "metadata": {},
     "output_type": "execute_result"
    }
   ],
   "source": [
    "GS_KNN = KNeighborsClassifier()\n",
    "\n",
    "\n",
    "pram_grid3 = {'n_neighbors': [3,4,5,6,7], 'weights' : ['uniform'], 'algorithm':['ball_tree'],'leaf_size':[15,20,25],'p':[1]}\n",
    "\n",
    "GSCV3 = GridSearchCV(GS_KNN,pram_grid3,scoring = 'accuracy')\n",
    "\n",
    "GSCV3.fit(x_train,y_train)"
   ]
  },
  {
   "cell_type": "code",
   "execution_count": 19,
   "id": "d8a948c6",
   "metadata": {},
   "outputs": [
    {
     "data": {
      "text/plain": [
       "{'algorithm': 'ball_tree',\n",
       " 'leaf_size': 20,\n",
       " 'n_neighbors': 3,\n",
       " 'p': 1,\n",
       " 'weights': 'uniform'}"
      ]
     },
     "execution_count": 19,
     "metadata": {},
     "output_type": "execute_result"
    }
   ],
   "source": [
    "GSCV3.best_params_"
   ]
  },
  {
   "cell_type": "code",
   "execution_count": 20,
   "id": "f63a0b73",
   "metadata": {},
   "outputs": [
    {
     "name": "stdout",
     "output_type": "stream",
     "text": [
      "0.43390105433901055\n",
      "0.22384428223844283\n"
     ]
    }
   ],
   "source": [
    "train_pred3 = GSCV3.predict(x_train)\n",
    "val_pred3 = GSCV3.predict(x_val)\n",
    "\n",
    "\n",
    "train_acc3 = accuracy_score(y_train,train_pred3)\n",
    "val_acc3 = accuracy_score(y_val,val_pred3)\n",
    "\n",
    "print(train_acc3)\n",
    "print(val_acc3)"
   ]
  },
  {
   "cell_type": "markdown",
   "id": "9f9dbfb7",
   "metadata": {},
   "source": [
    "So accuracy has lowered, but this seems overfit so let's keep trying to optimize where we can and see what happens"
   ]
  },
  {
   "cell_type": "code",
   "execution_count": null,
   "id": "e39a99bc",
   "metadata": {},
   "outputs": [],
   "source": []
  },
  {
   "cell_type": "code",
   "execution_count": 21,
   "id": "e0ffea1f",
   "metadata": {},
   "outputs": [
    {
     "data": {
      "text/plain": [
       "GridSearchCV(estimator=KNeighborsClassifier(),\n",
       "             param_grid={'algorithm': ['ball_tree', 'kd_tree', 'brute'],\n",
       "                         'leaf_size': [18, 19, 20, 21, 22],\n",
       "                         'n_neighbors': [2, 3, 4], 'p': [1, 2],\n",
       "                         'weights': ['uniform']},\n",
       "             scoring='accuracy')"
      ]
     },
     "execution_count": 21,
     "metadata": {},
     "output_type": "execute_result"
    }
   ],
   "source": [
    "GS_KNN = KNeighborsClassifier()\n",
    "\n",
    "\n",
    "pram_grid4 = {'n_neighbors': [2,3,4], 'weights' : ['uniform'], 'algorithm':['ball_tree','kd_tree','brute'],'leaf_size':[18,19,20,21,22],'p':[1,2]}\n",
    "\n",
    "GSCV4 = GridSearchCV(GS_KNN,pram_grid4,scoring = 'accuracy')\n",
    "\n",
    "GSCV4.fit(x_train,y_train)"
   ]
  },
  {
   "cell_type": "code",
   "execution_count": 22,
   "id": "f60b98eb",
   "metadata": {},
   "outputs": [
    {
     "data": {
      "text/plain": [
       "{'algorithm': 'ball_tree',\n",
       " 'leaf_size': 18,\n",
       " 'n_neighbors': 3,\n",
       " 'p': 2,\n",
       " 'weights': 'uniform'}"
      ]
     },
     "execution_count": 22,
     "metadata": {},
     "output_type": "execute_result"
    }
   ],
   "source": [
    "GSCV4.best_params_"
   ]
  },
  {
   "cell_type": "code",
   "execution_count": 23,
   "id": "e54a5696",
   "metadata": {},
   "outputs": [
    {
     "name": "stdout",
     "output_type": "stream",
     "text": [
      "0.43390105433901055\n",
      "0.19708029197080293\n"
     ]
    }
   ],
   "source": [
    "train_pred4 = GSCV4.predict(x_train)\n",
    "val_pred4 = GSCV4.predict(x_val)\n",
    "\n",
    "\n",
    "train_acc4 = accuracy_score(y_train,train_pred4)\n",
    "val_acc4 = accuracy_score(y_val,val_pred4)\n",
    "\n",
    "print(train_acc4)\n",
    "print(val_acc4)"
   ]
  },
  {
   "cell_type": "markdown",
   "id": "a2bd994a",
   "metadata": {},
   "source": [
    "So It's really feeling like this data just isn't working right now, so easy quick improvement, let's try binning the targets into larger groups and see if that helps"
   ]
  },
  {
   "cell_type": "code",
   "execution_count": 7,
   "id": "505c7b25",
   "metadata": {},
   "outputs": [
    {
     "data": {
      "text/html": [
       "<div>\n",
       "<style scoped>\n",
       "    .dataframe tbody tr th:only-of-type {\n",
       "        vertical-align: middle;\n",
       "    }\n",
       "\n",
       "    .dataframe tbody tr th {\n",
       "        vertical-align: top;\n",
       "    }\n",
       "\n",
       "    .dataframe thead th {\n",
       "        text-align: right;\n",
       "    }\n",
       "</style>\n",
       "<table border=\"1\" class=\"dataframe\">\n",
       "  <thead>\n",
       "    <tr style=\"text-align: right;\">\n",
       "      <th></th>\n",
       "      <th>Unnamed: 0</th>\n",
       "      <th>REF</th>\n",
       "      <th>Cocoa Percent</th>\n",
       "      <th>fruity</th>\n",
       "      <th>sandy</th>\n",
       "      <th>honey</th>\n",
       "      <th>spice</th>\n",
       "      <th>sour</th>\n",
       "      <th>nut</th>\n",
       "      <th>berry</th>\n",
       "      <th>...</th>\n",
       "      <th>x3_2.0</th>\n",
       "      <th>x3_2.25</th>\n",
       "      <th>x3_2.5</th>\n",
       "      <th>x3_2.6</th>\n",
       "      <th>x3_2.75</th>\n",
       "      <th>x3_3.0</th>\n",
       "      <th>x3_3.25</th>\n",
       "      <th>x3_3.5</th>\n",
       "      <th>x3_3.75</th>\n",
       "      <th>x3_4.0</th>\n",
       "    </tr>\n",
       "  </thead>\n",
       "  <tbody>\n",
       "    <tr>\n",
       "      <th>0</th>\n",
       "      <td>0</td>\n",
       "      <td>5.0</td>\n",
       "      <td>0.71</td>\n",
       "      <td>0.0</td>\n",
       "      <td>1.0</td>\n",
       "      <td>0.0</td>\n",
       "      <td>0.0</td>\n",
       "      <td>0.0</td>\n",
       "      <td>0.0</td>\n",
       "      <td>0.0</td>\n",
       "      <td>...</td>\n",
       "      <td>1.0</td>\n",
       "      <td>0.0</td>\n",
       "      <td>0.0</td>\n",
       "      <td>0.0</td>\n",
       "      <td>0.0</td>\n",
       "      <td>0.0</td>\n",
       "      <td>0.0</td>\n",
       "      <td>0.0</td>\n",
       "      <td>0.0</td>\n",
       "      <td>0.0</td>\n",
       "    </tr>\n",
       "    <tr>\n",
       "      <th>1</th>\n",
       "      <td>1</td>\n",
       "      <td>15.0</td>\n",
       "      <td>0.75</td>\n",
       "      <td>0.0</td>\n",
       "      <td>0.0</td>\n",
       "      <td>0.0</td>\n",
       "      <td>0.0</td>\n",
       "      <td>0.0</td>\n",
       "      <td>0.0</td>\n",
       "      <td>0.0</td>\n",
       "      <td>...</td>\n",
       "      <td>0.0</td>\n",
       "      <td>0.0</td>\n",
       "      <td>0.0</td>\n",
       "      <td>0.0</td>\n",
       "      <td>1.0</td>\n",
       "      <td>0.0</td>\n",
       "      <td>0.0</td>\n",
       "      <td>0.0</td>\n",
       "      <td>0.0</td>\n",
       "      <td>0.0</td>\n",
       "    </tr>\n",
       "    <tr>\n",
       "      <th>2</th>\n",
       "      <td>2</td>\n",
       "      <td>15.0</td>\n",
       "      <td>0.73</td>\n",
       "      <td>0.0</td>\n",
       "      <td>0.0</td>\n",
       "      <td>0.0</td>\n",
       "      <td>0.0</td>\n",
       "      <td>0.0</td>\n",
       "      <td>0.0</td>\n",
       "      <td>0.0</td>\n",
       "      <td>...</td>\n",
       "      <td>1.0</td>\n",
       "      <td>0.0</td>\n",
       "      <td>0.0</td>\n",
       "      <td>0.0</td>\n",
       "      <td>0.0</td>\n",
       "      <td>0.0</td>\n",
       "      <td>0.0</td>\n",
       "      <td>0.0</td>\n",
       "      <td>0.0</td>\n",
       "      <td>0.0</td>\n",
       "    </tr>\n",
       "    <tr>\n",
       "      <th>3</th>\n",
       "      <td>3</td>\n",
       "      <td>15.0</td>\n",
       "      <td>0.70</td>\n",
       "      <td>0.0</td>\n",
       "      <td>0.0</td>\n",
       "      <td>0.0</td>\n",
       "      <td>0.0</td>\n",
       "      <td>0.0</td>\n",
       "      <td>0.0</td>\n",
       "      <td>1.0</td>\n",
       "      <td>...</td>\n",
       "      <td>0.0</td>\n",
       "      <td>0.0</td>\n",
       "      <td>0.0</td>\n",
       "      <td>0.0</td>\n",
       "      <td>0.0</td>\n",
       "      <td>0.0</td>\n",
       "      <td>0.0</td>\n",
       "      <td>1.0</td>\n",
       "      <td>0.0</td>\n",
       "      <td>0.0</td>\n",
       "    </tr>\n",
       "    <tr>\n",
       "      <th>4</th>\n",
       "      <td>4</td>\n",
       "      <td>15.0</td>\n",
       "      <td>0.82</td>\n",
       "      <td>0.0</td>\n",
       "      <td>1.0</td>\n",
       "      <td>0.0</td>\n",
       "      <td>0.0</td>\n",
       "      <td>0.0</td>\n",
       "      <td>0.0</td>\n",
       "      <td>0.0</td>\n",
       "      <td>...</td>\n",
       "      <td>1.0</td>\n",
       "      <td>0.0</td>\n",
       "      <td>0.0</td>\n",
       "      <td>0.0</td>\n",
       "      <td>0.0</td>\n",
       "      <td>0.0</td>\n",
       "      <td>0.0</td>\n",
       "      <td>0.0</td>\n",
       "      <td>0.0</td>\n",
       "      <td>0.0</td>\n",
       "    </tr>\n",
       "  </tbody>\n",
       "</table>\n",
       "<p>5 rows × 680 columns</p>\n",
       "</div>"
      ],
      "text/plain": [
       "   Unnamed: 0   REF  Cocoa Percent  fruity  sandy  honey  spice  sour  nut  \\\n",
       "0           0   5.0           0.71     0.0    1.0    0.0    0.0   0.0  0.0   \n",
       "1           1  15.0           0.75     0.0    0.0    0.0    0.0   0.0  0.0   \n",
       "2           2  15.0           0.73     0.0    0.0    0.0    0.0   0.0  0.0   \n",
       "3           3  15.0           0.70     0.0    0.0    0.0    0.0   0.0  0.0   \n",
       "4           4  15.0           0.82     0.0    1.0    0.0    0.0   0.0  0.0   \n",
       "\n",
       "   berry  ...  x3_2.0  x3_2.25  x3_2.5  x3_2.6  x3_2.75  x3_3.0  x3_3.25  \\\n",
       "0    0.0  ...     1.0      0.0     0.0     0.0      0.0     0.0      0.0   \n",
       "1    0.0  ...     0.0      0.0     0.0     0.0      1.0     0.0      0.0   \n",
       "2    0.0  ...     1.0      0.0     0.0     0.0      0.0     0.0      0.0   \n",
       "3    1.0  ...     0.0      0.0     0.0     0.0      0.0     0.0      0.0   \n",
       "4    0.0  ...     1.0      0.0     0.0     0.0      0.0     0.0      0.0   \n",
       "\n",
       "   x3_3.5  x3_3.75  x3_4.0  \n",
       "0     0.0      0.0     0.0  \n",
       "1     0.0      0.0     0.0  \n",
       "2     0.0      0.0     0.0  \n",
       "3     1.0      0.0     0.0  \n",
       "4     0.0      0.0     0.0  \n",
       "\n",
       "[5 rows x 680 columns]"
      ]
     },
     "execution_count": 7,
     "metadata": {},
     "output_type": "execute_result"
    }
   ],
   "source": [
    "df.head()"
   ]
  },
  {
   "cell_type": "code",
   "execution_count": 9,
   "id": "31db31cf",
   "metadata": {},
   "outputs": [],
   "source": [
    "\n",
    "df['y_1.0'] = df['x3_1.0']\n",
    "df['y_1.5'] = df['x3_1.5'] + df['x3_1.75']\n",
    "df['y_2.0'] = df['x3_2.0'] + df['x3_2.25']\n",
    "df['y_2.5'] = df['x3_2.5'] + df['x3_2.75']\n",
    "df['y_3.0'] = df['x3_3.0'] + df['x3_3.25']\n",
    "df['y_3.5'] = df['x3_3.5'] + df['x3_3.75']\n",
    "df['y_4.0'] = df['x3_4.0']\n",
    "\n",
    "df = df.drop(['x3_1.0','x3_1.5','x3_1.75','x3_2.0','x3_2.25','x3_2.5','x3_2.75','x3_3.0','x3_3.5','x3_3.75','x3_4.0'],axis=1)"
   ]
  },
  {
   "cell_type": "code",
   "execution_count": 11,
   "id": "8529ba8f",
   "metadata": {},
   "outputs": [
    {
     "data": {
      "text/html": [
       "<div>\n",
       "<style scoped>\n",
       "    .dataframe tbody tr th:only-of-type {\n",
       "        vertical-align: middle;\n",
       "    }\n",
       "\n",
       "    .dataframe tbody tr th {\n",
       "        vertical-align: top;\n",
       "    }\n",
       "\n",
       "    .dataframe thead th {\n",
       "        text-align: right;\n",
       "    }\n",
       "</style>\n",
       "<table border=\"1\" class=\"dataframe\">\n",
       "  <thead>\n",
       "    <tr style=\"text-align: right;\">\n",
       "      <th></th>\n",
       "      <th>Unnamed: 0</th>\n",
       "      <th>REF</th>\n",
       "      <th>Cocoa Percent</th>\n",
       "      <th>fruity</th>\n",
       "      <th>sandy</th>\n",
       "      <th>honey</th>\n",
       "      <th>spice</th>\n",
       "      <th>sour</th>\n",
       "      <th>nut</th>\n",
       "      <th>berry</th>\n",
       "      <th>...</th>\n",
       "      <th>x2_Vietnam</th>\n",
       "      <th>x3_2.6</th>\n",
       "      <th>x3_3.25</th>\n",
       "      <th>y_1.0</th>\n",
       "      <th>y_1.5</th>\n",
       "      <th>y_2.0</th>\n",
       "      <th>y_2.5</th>\n",
       "      <th>y_3.0</th>\n",
       "      <th>y_3.5</th>\n",
       "      <th>y_4.0</th>\n",
       "    </tr>\n",
       "  </thead>\n",
       "  <tbody>\n",
       "    <tr>\n",
       "      <th>0</th>\n",
       "      <td>0</td>\n",
       "      <td>5.0</td>\n",
       "      <td>0.71</td>\n",
       "      <td>0.0</td>\n",
       "      <td>1.0</td>\n",
       "      <td>0.0</td>\n",
       "      <td>0.0</td>\n",
       "      <td>0.0</td>\n",
       "      <td>0.0</td>\n",
       "      <td>0.0</td>\n",
       "      <td>...</td>\n",
       "      <td>0.0</td>\n",
       "      <td>0.0</td>\n",
       "      <td>0.0</td>\n",
       "      <td>0.0</td>\n",
       "      <td>0.0</td>\n",
       "      <td>1.0</td>\n",
       "      <td>0.0</td>\n",
       "      <td>0.0</td>\n",
       "      <td>0.0</td>\n",
       "      <td>0.0</td>\n",
       "    </tr>\n",
       "    <tr>\n",
       "      <th>1</th>\n",
       "      <td>1</td>\n",
       "      <td>15.0</td>\n",
       "      <td>0.75</td>\n",
       "      <td>0.0</td>\n",
       "      <td>0.0</td>\n",
       "      <td>0.0</td>\n",
       "      <td>0.0</td>\n",
       "      <td>0.0</td>\n",
       "      <td>0.0</td>\n",
       "      <td>0.0</td>\n",
       "      <td>...</td>\n",
       "      <td>0.0</td>\n",
       "      <td>0.0</td>\n",
       "      <td>0.0</td>\n",
       "      <td>0.0</td>\n",
       "      <td>0.0</td>\n",
       "      <td>0.0</td>\n",
       "      <td>1.0</td>\n",
       "      <td>0.0</td>\n",
       "      <td>0.0</td>\n",
       "      <td>0.0</td>\n",
       "    </tr>\n",
       "    <tr>\n",
       "      <th>2</th>\n",
       "      <td>2</td>\n",
       "      <td>15.0</td>\n",
       "      <td>0.73</td>\n",
       "      <td>0.0</td>\n",
       "      <td>0.0</td>\n",
       "      <td>0.0</td>\n",
       "      <td>0.0</td>\n",
       "      <td>0.0</td>\n",
       "      <td>0.0</td>\n",
       "      <td>0.0</td>\n",
       "      <td>...</td>\n",
       "      <td>0.0</td>\n",
       "      <td>0.0</td>\n",
       "      <td>0.0</td>\n",
       "      <td>0.0</td>\n",
       "      <td>0.0</td>\n",
       "      <td>1.0</td>\n",
       "      <td>0.0</td>\n",
       "      <td>0.0</td>\n",
       "      <td>0.0</td>\n",
       "      <td>0.0</td>\n",
       "    </tr>\n",
       "    <tr>\n",
       "      <th>3</th>\n",
       "      <td>3</td>\n",
       "      <td>15.0</td>\n",
       "      <td>0.70</td>\n",
       "      <td>0.0</td>\n",
       "      <td>0.0</td>\n",
       "      <td>0.0</td>\n",
       "      <td>0.0</td>\n",
       "      <td>0.0</td>\n",
       "      <td>0.0</td>\n",
       "      <td>1.0</td>\n",
       "      <td>...</td>\n",
       "      <td>0.0</td>\n",
       "      <td>0.0</td>\n",
       "      <td>0.0</td>\n",
       "      <td>0.0</td>\n",
       "      <td>0.0</td>\n",
       "      <td>0.0</td>\n",
       "      <td>0.0</td>\n",
       "      <td>0.0</td>\n",
       "      <td>1.0</td>\n",
       "      <td>0.0</td>\n",
       "    </tr>\n",
       "    <tr>\n",
       "      <th>4</th>\n",
       "      <td>4</td>\n",
       "      <td>15.0</td>\n",
       "      <td>0.82</td>\n",
       "      <td>0.0</td>\n",
       "      <td>1.0</td>\n",
       "      <td>0.0</td>\n",
       "      <td>0.0</td>\n",
       "      <td>0.0</td>\n",
       "      <td>0.0</td>\n",
       "      <td>0.0</td>\n",
       "      <td>...</td>\n",
       "      <td>0.0</td>\n",
       "      <td>0.0</td>\n",
       "      <td>0.0</td>\n",
       "      <td>0.0</td>\n",
       "      <td>0.0</td>\n",
       "      <td>1.0</td>\n",
       "      <td>0.0</td>\n",
       "      <td>0.0</td>\n",
       "      <td>0.0</td>\n",
       "      <td>0.0</td>\n",
       "    </tr>\n",
       "  </tbody>\n",
       "</table>\n",
       "<p>5 rows × 676 columns</p>\n",
       "</div>"
      ],
      "text/plain": [
       "   Unnamed: 0   REF  Cocoa Percent  fruity  sandy  honey  spice  sour  nut  \\\n",
       "0           0   5.0           0.71     0.0    1.0    0.0    0.0   0.0  0.0   \n",
       "1           1  15.0           0.75     0.0    0.0    0.0    0.0   0.0  0.0   \n",
       "2           2  15.0           0.73     0.0    0.0    0.0    0.0   0.0  0.0   \n",
       "3           3  15.0           0.70     0.0    0.0    0.0    0.0   0.0  0.0   \n",
       "4           4  15.0           0.82     0.0    1.0    0.0    0.0   0.0  0.0   \n",
       "\n",
       "   berry  ...  x2_Vietnam  x3_2.6  x3_3.25  y_1.0  y_1.5  y_2.0  y_2.5  y_3.0  \\\n",
       "0    0.0  ...         0.0     0.0      0.0    0.0    0.0    1.0    0.0    0.0   \n",
       "1    0.0  ...         0.0     0.0      0.0    0.0    0.0    0.0    1.0    0.0   \n",
       "2    0.0  ...         0.0     0.0      0.0    0.0    0.0    1.0    0.0    0.0   \n",
       "3    1.0  ...         0.0     0.0      0.0    0.0    0.0    0.0    0.0    0.0   \n",
       "4    0.0  ...         0.0     0.0      0.0    0.0    0.0    1.0    0.0    0.0   \n",
       "\n",
       "   y_3.5  y_4.0  \n",
       "0    0.0    0.0  \n",
       "1    0.0    0.0  \n",
       "2    0.0    0.0  \n",
       "3    1.0    0.0  \n",
       "4    0.0    0.0  \n",
       "\n",
       "[5 rows x 676 columns]"
      ]
     },
     "execution_count": 11,
     "metadata": {},
     "output_type": "execute_result"
    }
   ],
   "source": [
    "df.head()"
   ]
  },
  {
   "cell_type": "code",
   "execution_count": 12,
   "id": "bdff3eb1",
   "metadata": {},
   "outputs": [],
   "source": [
    "y= df[['y_1.0','y_1.5','y_2.0','y_2.5','y_3.0','y_3.5','y_4.0']]\n",
    "x = df.drop(['y_1.0','y_1.5','y_2.0','y_2.5','y_3.0','y_3.5','y_4.0'], axis =1)\n",
    "x_tr, x_test, y_tr, y_test = train_test_split(x,y, random_state=42)\n",
    "x_train, x_val, y_train, y_val = train_test_split(x_tr, y_tr, random_state=57)"
   ]
  },
  {
   "cell_type": "code",
   "execution_count": 13,
   "id": "8217d1fa",
   "metadata": {},
   "outputs": [
    {
     "data": {
      "text/plain": [
       "GridSearchCV(estimator=KNeighborsClassifier(),\n",
       "             param_grid={'algorithm': ['ball_tree', 'kd_tree', 'brute'],\n",
       "                         'leaf_size': [5, 30, 100],\n",
       "                         'n_neighbors': [1, 50, 100, 200, 500], 'p': [1, 2],\n",
       "                         'weights': ['uniform']},\n",
       "             scoring='accuracy')"
      ]
     },
     "execution_count": 13,
     "metadata": {},
     "output_type": "execute_result"
    }
   ],
   "source": [
    "from sklearn.model_selection import GridSearchCV\n",
    "\n",
    "GS_KNN = KNeighborsClassifier()\n",
    "\n",
    "#tried wieghts distance, lead to overfitting so it's been removed as an option\n",
    "pram_grid = {'n_neighbors': [1,50,100,200,500], 'weights' : ['uniform'], 'algorithm':['ball_tree','kd_tree','brute'],'leaf_size':[5,30,100],'p':[1,2]}\n",
    "\n",
    "GSCV = GridSearchCV(GS_KNN,pram_grid,scoring = 'accuracy')\n",
    "\n",
    "GSCV.fit(x_train,y_train)"
   ]
  },
  {
   "cell_type": "code",
   "execution_count": 14,
   "id": "5b75292f",
   "metadata": {},
   "outputs": [
    {
     "data": {
      "text/plain": [
       "{'algorithm': 'brute',\n",
       " 'leaf_size': 5,\n",
       " 'n_neighbors': 1,\n",
       " 'p': 1,\n",
       " 'weights': 'uniform'}"
      ]
     },
     "execution_count": 14,
     "metadata": {},
     "output_type": "execute_result"
    }
   ],
   "source": [
    "GSCV.best_params_"
   ]
  },
  {
   "cell_type": "code",
   "execution_count": 16,
   "id": "3e7b7c98",
   "metadata": {},
   "outputs": [
    {
     "name": "stdout",
     "output_type": "stream",
     "text": [
      "1.0\n",
      "0.3795620437956204\n"
     ]
    }
   ],
   "source": [
    "from sklearn.metrics import accuracy_score\n",
    "\n",
    "\n",
    "train_pred = GSCV.predict(x_train)\n",
    "val_pred = GSCV.predict(x_val)\n",
    "\n",
    "\n",
    "train_acc = accuracy_score(y_train,train_pred)\n",
    "val_acc = accuracy_score(y_val,val_pred)\n",
    "\n",
    "print(train_acc)\n",
    "print(val_acc)"
   ]
  },
  {
   "cell_type": "markdown",
   "id": "a8fd1cd3",
   "metadata": {},
   "source": [
    "This is significantly better than before binning, but let's tune these hyper parameters up and see if it can't be improved"
   ]
  },
  {
   "cell_type": "code",
   "execution_count": 17,
   "id": "8e4189ea",
   "metadata": {},
   "outputs": [
    {
     "data": {
      "text/plain": [
       "GridSearchCV(estimator=KNeighborsClassifier(),\n",
       "             param_grid={'algorithm': ['ball_tree', 'kd_tree', 'brute'],\n",
       "                         'leaf_size': [5, 10, 15, 20],\n",
       "                         'n_neighbors': [1, 10, 20, 30], 'p': [1, 2],\n",
       "                         'weights': ['uniform']},\n",
       "             scoring='accuracy')"
      ]
     },
     "execution_count": 17,
     "metadata": {},
     "output_type": "execute_result"
    }
   ],
   "source": [
    "from sklearn.model_selection import GridSearchCV\n",
    "\n",
    "GS_KNN = KNeighborsClassifier()\n",
    "\n",
    "#tried wieghts distance, lead to overfitting so it's been removed as an option\n",
    "pram_grid = {'n_neighbors': [1,10,20,30], 'weights' : ['uniform'], 'algorithm':['ball_tree','kd_tree','brute'],'leaf_size':[5,10,15,20],'p':[1,2]}\n",
    "\n",
    "GSCV = GridSearchCV(GS_KNN,pram_grid,scoring = 'accuracy')\n",
    "\n",
    "GSCV.fit(x_train,y_train)"
   ]
  },
  {
   "cell_type": "code",
   "execution_count": 18,
   "id": "85539852",
   "metadata": {},
   "outputs": [
    {
     "data": {
      "text/plain": [
       "{'algorithm': 'brute',\n",
       " 'leaf_size': 5,\n",
       " 'n_neighbors': 1,\n",
       " 'p': 1,\n",
       " 'weights': 'uniform'}"
      ]
     },
     "execution_count": 18,
     "metadata": {},
     "output_type": "execute_result"
    }
   ],
   "source": [
    "GSCV.best_params_"
   ]
  },
  {
   "cell_type": "code",
   "execution_count": 19,
   "id": "d49654bf",
   "metadata": {},
   "outputs": [
    {
     "name": "stdout",
     "output_type": "stream",
     "text": [
      "1.0\n",
      "0.3795620437956204\n"
     ]
    }
   ],
   "source": [
    "train_pred = GSCV.predict(x_train)\n",
    "val_pred = GSCV.predict(x_val)\n",
    "\n",
    "\n",
    "train_acc = accuracy_score(y_train,train_pred)\n",
    "val_acc = accuracy_score(y_val,val_pred)\n",
    "\n",
    "print(train_acc)\n",
    "print(val_acc)"
   ]
  },
  {
   "cell_type": "markdown",
   "id": "d52ea3cd",
   "metadata": {},
   "source": [
    "So this ended up being exactly the same as the previous grid search but it has technically narrowed down on our target so on to the next model"
   ]
  },
  {
   "cell_type": "code",
   "execution_count": 20,
   "id": "e576b78f",
   "metadata": {},
   "outputs": [
    {
     "data": {
      "text/plain": [
       "GridSearchCV(estimator=KNeighborsClassifier(),\n",
       "             param_grid={'algorithm': ['ball_tree', 'kd_tree', 'brute'],\n",
       "                         'leaf_size': [1, 3, 5, 7, 9],\n",
       "                         'n_neighbors': [1, 3, 5, 7], 'p': [1, 2],\n",
       "                         'weights': ['uniform']},\n",
       "             scoring='accuracy')"
      ]
     },
     "execution_count": 20,
     "metadata": {},
     "output_type": "execute_result"
    }
   ],
   "source": [
    "from sklearn.model_selection import GridSearchCV\n",
    "\n",
    "GS_KNN = KNeighborsClassifier()\n",
    "\n",
    "#tried wieghts distance, lead to overfitting so it's been removed as an option\n",
    "pram_grid = {'n_neighbors': [1,3,5,7], 'weights' : ['uniform'], 'algorithm':['ball_tree','kd_tree','brute'],'leaf_size':[1,3,5,7,9],'p':[1,2]}\n",
    "\n",
    "GSCV = GridSearchCV(GS_KNN,pram_grid,scoring = 'accuracy')\n",
    "\n",
    "GSCV.fit(x_train,y_train)"
   ]
  },
  {
   "cell_type": "code",
   "execution_count": 21,
   "id": "b7f5ecd0",
   "metadata": {},
   "outputs": [
    {
     "data": {
      "text/plain": [
       "{'algorithm': 'kd_tree',\n",
       " 'leaf_size': 1,\n",
       " 'n_neighbors': 1,\n",
       " 'p': 1,\n",
       " 'weights': 'uniform'}"
      ]
     },
     "execution_count": 21,
     "metadata": {},
     "output_type": "execute_result"
    }
   ],
   "source": [
    "GSCV.best_params_"
   ]
  },
  {
   "cell_type": "code",
   "execution_count": 22,
   "id": "347fd8f9",
   "metadata": {},
   "outputs": [
    {
     "name": "stdout",
     "output_type": "stream",
     "text": [
      "1.0\n",
      "0.3844282238442822\n"
     ]
    }
   ],
   "source": [
    "train_pred = GSCV.predict(x_train)\n",
    "val_pred = GSCV.predict(x_val)\n",
    "\n",
    "\n",
    "train_acc = accuracy_score(y_train,train_pred)\n",
    "val_acc = accuracy_score(y_val,val_pred)\n",
    "\n",
    "print(train_acc)\n",
    "print(val_acc)"
   ]
  },
  {
   "cell_type": "markdown",
   "id": "a85beaf7",
   "metadata": {},
   "source": [
    "So there's and overfitting issue here, let's try messing with things to see if we can't fix that"
   ]
  },
  {
   "cell_type": "code",
   "execution_count": 34,
   "id": "cfd86bbe",
   "metadata": {},
   "outputs": [
    {
     "data": {
      "text/plain": [
       "GridSearchCV(estimator=KNeighborsClassifier(),\n",
       "             param_grid={'algorithm': ['ball_tree', 'kd_tree', 'brute'],\n",
       "                         'leaf_size': [1, 2, 3, 5, 7], 'n_neighbors': [2, 3, 4],\n",
       "                         'p': [1, 2], 'weights': ['uniform']},\n",
       "             scoring='accuracy')"
      ]
     },
     "execution_count": 34,
     "metadata": {},
     "output_type": "execute_result"
    }
   ],
   "source": [
    "\n",
    "GS_KNN = KNeighborsClassifier()\n",
    "\n",
    "#tried wieghts distance, lead to overfitting so it's been removed as an option\n",
    "pram_grid = {'n_neighbors': [2,3,4], 'weights' : ['uniform'], 'algorithm':['ball_tree','kd_tree','brute'],'leaf_size':[1,2,3,5,7],'p':[1,2]}\n",
    "\n",
    "GSCV = GridSearchCV(GS_KNN,pram_grid,scoring = 'accuracy')\n",
    "\n",
    "GSCV.fit(x_train,y_train)"
   ]
  },
  {
   "cell_type": "code",
   "execution_count": 35,
   "id": "137cbc69",
   "metadata": {},
   "outputs": [
    {
     "data": {
      "text/plain": [
       "{'algorithm': 'ball_tree',\n",
       " 'leaf_size': 5,\n",
       " 'n_neighbors': 3,\n",
       " 'p': 1,\n",
       " 'weights': 'uniform'}"
      ]
     },
     "execution_count": 35,
     "metadata": {},
     "output_type": "execute_result"
    }
   ],
   "source": [
    "GSCV.best_params_"
   ]
  },
  {
   "cell_type": "code",
   "execution_count": 36,
   "id": "2c13c72c",
   "metadata": {},
   "outputs": [
    {
     "name": "stdout",
     "output_type": "stream",
     "text": [
      "0.5823195458231955\n",
      "0.30656934306569344\n"
     ]
    }
   ],
   "source": [
    "train_pred = GSCV.predict(x_train)\n",
    "val_pred = GSCV.predict(x_val)\n",
    "\n",
    "\n",
    "train_acc = accuracy_score(y_train,train_pred)\n",
    "val_acc = accuracy_score(y_val,val_pred)\n",
    "\n",
    "print(train_acc)\n",
    "print(val_acc)"
   ]
  },
  {
   "cell_type": "code",
   "execution_count": null,
   "id": "8ae22bbd",
   "metadata": {},
   "outputs": [],
   "source": []
  }
 ],
 "metadata": {
  "kernelspec": {
   "display_name": "Python 3",
   "language": "python",
   "name": "python3"
  },
  "language_info": {
   "codemirror_mode": {
    "name": "ipython",
    "version": 3
   },
   "file_extension": ".py",
   "mimetype": "text/x-python",
   "name": "python",
   "nbconvert_exporter": "python",
   "pygments_lexer": "ipython3",
   "version": "3.8.8"
  }
 },
 "nbformat": 4,
 "nbformat_minor": 5
}
