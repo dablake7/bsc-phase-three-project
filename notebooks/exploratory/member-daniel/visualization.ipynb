{
 "cells": [
  {
   "cell_type": "code",
   "execution_count": 4,
   "metadata": {},
   "outputs": [],
   "source": [
    "import pandas as pd \n",
    "import numpy as np\n",
    "import matplotlib.pyplot as plt\n",
    "%matplotlib inline \n",
    "import seaborn as sns\n",
    "from sklearn.svm import SVC\n",
    "from sklearn.preprocessing import StandardScaler\n",
    "from sklearn.datasets import load_iris\n",
    "from sklearn.model_selection import StratifiedShuffleSplit\n",
    "from sklearn.model_selection import GridSearchCV\n",
    "from sklearn.model_selection import train_test_split\n",
    "\n",
    "from sklearn.model_selection import train_test_split, GridSearchCV, cross_val_score\n",
    "from sklearn.linear_model import /LogisticRegression\n",
    "from sklearn.preprocessing import StandardScaler, OneHotEncoder\n",
    "from sklearn.impute import SimpleImputer\n",
    "from sklearn.tree import DecisionTreeClassifier\n",
    "from sklearn.ensemble import RandomForestClassifier\n",
    "from sklearn.metrics import accuracy_score\n",
    "from sklearn.pipeline import Pipeline, make_pipeline\n",
    "from sklearn.compose import make_column_selector, make_column_transformer\n",
    "from sklearn.linear_model import LinearRegression"
   ]
  },
  {
   "cell_type": "code",
   "execution_count": 2,
   "metadata": {},
   "outputs": [],
   "source": [
    "df = pd.read_csv('../../../data/chocolate.csv')"
   ]
  },
  {
   "cell_type": "code",
   "execution_count": 3,
   "metadata": {},
   "outputs": [
    {
     "data": {
      "text/html": [
       "<div>\n",
       "<style scoped>\n",
       "    .dataframe tbody tr th:only-of-type {\n",
       "        vertical-align: middle;\n",
       "    }\n",
       "\n",
       "    .dataframe tbody tr th {\n",
       "        vertical-align: top;\n",
       "    }\n",
       "\n",
       "    .dataframe thead th {\n",
       "        text-align: right;\n",
       "    }\n",
       "</style>\n",
       "<table border=\"1\" class=\"dataframe\">\n",
       "  <thead>\n",
       "    <tr style=\"text-align: right;\">\n",
       "      <th></th>\n",
       "      <th>REF</th>\n",
       "      <th>Company (Manufacturer)</th>\n",
       "      <th>Company Location</th>\n",
       "      <th>Review Date</th>\n",
       "      <th>Country of Bean Origin</th>\n",
       "      <th>Specific Bean Origin or Bar Name</th>\n",
       "      <th>Cocoa Percent</th>\n",
       "      <th>Ingredients</th>\n",
       "      <th>Most Memorable Characteristics</th>\n",
       "      <th>Rating</th>\n",
       "    </tr>\n",
       "  </thead>\n",
       "  <tbody>\n",
       "    <tr>\n",
       "      <th>0</th>\n",
       "      <td>5</td>\n",
       "      <td>Jacque Torres</td>\n",
       "      <td>U.S.A.</td>\n",
       "      <td>2006</td>\n",
       "      <td>Ghana</td>\n",
       "      <td>Trinatario Treasure</td>\n",
       "      <td>71%</td>\n",
       "      <td>5- B,S,C,V,L</td>\n",
       "      <td>gritty, unrefined, off notes</td>\n",
       "      <td>2.00</td>\n",
       "    </tr>\n",
       "    <tr>\n",
       "      <th>1</th>\n",
       "      <td>15</td>\n",
       "      <td>Neuhaus (Callebaut)</td>\n",
       "      <td>Belgium</td>\n",
       "      <td>2006</td>\n",
       "      <td>Sao Tome</td>\n",
       "      <td>Sao Tome</td>\n",
       "      <td>75%</td>\n",
       "      <td>5- B,S,C,V,L</td>\n",
       "      <td>grassy, earthy, burnt</td>\n",
       "      <td>2.75</td>\n",
       "    </tr>\n",
       "    <tr>\n",
       "      <th>2</th>\n",
       "      <td>15</td>\n",
       "      <td>Neuhaus (Callebaut)</td>\n",
       "      <td>Belgium</td>\n",
       "      <td>2006</td>\n",
       "      <td>Blend</td>\n",
       "      <td>West Africa</td>\n",
       "      <td>73%</td>\n",
       "      <td>5- B,S,C,V,L</td>\n",
       "      <td>non descript, poor aftertaste</td>\n",
       "      <td>2.00</td>\n",
       "    </tr>\n",
       "    <tr>\n",
       "      <th>3</th>\n",
       "      <td>15</td>\n",
       "      <td>Scharffen Berger</td>\n",
       "      <td>U.S.A.</td>\n",
       "      <td>2006</td>\n",
       "      <td>Blend</td>\n",
       "      <td>Bittersweet</td>\n",
       "      <td>70%</td>\n",
       "      <td>5- B,S,C,V,L</td>\n",
       "      <td>cherry, mild bitter</td>\n",
       "      <td>3.50</td>\n",
       "    </tr>\n",
       "    <tr>\n",
       "      <th>4</th>\n",
       "      <td>15</td>\n",
       "      <td>Scharffen Berger</td>\n",
       "      <td>U.S.A.</td>\n",
       "      <td>2006</td>\n",
       "      <td>Blend</td>\n",
       "      <td>Extra Dark</td>\n",
       "      <td>82%</td>\n",
       "      <td>5- B,S,C,V,L</td>\n",
       "      <td>dry, bitter, poor aftertaste</td>\n",
       "      <td>2.00</td>\n",
       "    </tr>\n",
       "    <tr>\n",
       "      <th>...</th>\n",
       "      <td>...</td>\n",
       "      <td>...</td>\n",
       "      <td>...</td>\n",
       "      <td>...</td>\n",
       "      <td>...</td>\n",
       "      <td>...</td>\n",
       "      <td>...</td>\n",
       "      <td>...</td>\n",
       "      <td>...</td>\n",
       "      <td>...</td>\n",
       "    </tr>\n",
       "    <tr>\n",
       "      <th>2357</th>\n",
       "      <td>995</td>\n",
       "      <td>Bahen &amp; Co.</td>\n",
       "      <td>Australia</td>\n",
       "      <td>2012</td>\n",
       "      <td>Madagascar</td>\n",
       "      <td>Sambirano</td>\n",
       "      <td>70%</td>\n",
       "      <td>2- B,S</td>\n",
       "      <td>unrefined, flat, grassy</td>\n",
       "      <td>3.00</td>\n",
       "    </tr>\n",
       "    <tr>\n",
       "      <th>2358</th>\n",
       "      <td>999</td>\n",
       "      <td>Mast Brothers</td>\n",
       "      <td>U.S.A.</td>\n",
       "      <td>2012</td>\n",
       "      <td>Venezuela</td>\n",
       "      <td>Chuao</td>\n",
       "      <td>73%</td>\n",
       "      <td>2- B,S</td>\n",
       "      <td>gritty, sour, sweet</td>\n",
       "      <td>2.75</td>\n",
       "    </tr>\n",
       "    <tr>\n",
       "      <th>2359</th>\n",
       "      <td>999</td>\n",
       "      <td>Mast Brothers</td>\n",
       "      <td>U.S.A.</td>\n",
       "      <td>2012</td>\n",
       "      <td>Blend</td>\n",
       "      <td>Madagascar</td>\n",
       "      <td>72%</td>\n",
       "      <td>2- B,S</td>\n",
       "      <td>gritty, overly tart, sour</td>\n",
       "      <td>2.50</td>\n",
       "    </tr>\n",
       "    <tr>\n",
       "      <th>2360</th>\n",
       "      <td>999</td>\n",
       "      <td>Bahen &amp; Co.</td>\n",
       "      <td>Australia</td>\n",
       "      <td>2012</td>\n",
       "      <td>Brazil</td>\n",
       "      <td>Bahia</td>\n",
       "      <td>70%</td>\n",
       "      <td>2- B,S</td>\n",
       "      <td>chalky, intense, chemical</td>\n",
       "      <td>2.50</td>\n",
       "    </tr>\n",
       "    <tr>\n",
       "      <th>2361</th>\n",
       "      <td>999</td>\n",
       "      <td>Bahen &amp; Co.</td>\n",
       "      <td>Australia</td>\n",
       "      <td>2012</td>\n",
       "      <td>Blend</td>\n",
       "      <td>Houseblend</td>\n",
       "      <td>70%</td>\n",
       "      <td>2- B,S</td>\n",
       "      <td>chalky, fragrant, then off</td>\n",
       "      <td>2.50</td>\n",
       "    </tr>\n",
       "  </tbody>\n",
       "</table>\n",
       "<p>2362 rows × 10 columns</p>\n",
       "</div>"
      ],
      "text/plain": [
       "      REF Company (Manufacturer) Company Location  Review Date  \\\n",
       "0       5          Jacque Torres           U.S.A.         2006   \n",
       "1      15    Neuhaus (Callebaut)          Belgium         2006   \n",
       "2      15    Neuhaus (Callebaut)          Belgium         2006   \n",
       "3      15       Scharffen Berger           U.S.A.         2006   \n",
       "4      15       Scharffen Berger           U.S.A.         2006   \n",
       "...   ...                    ...              ...          ...   \n",
       "2357  995            Bahen & Co.        Australia         2012   \n",
       "2358  999          Mast Brothers           U.S.A.         2012   \n",
       "2359  999          Mast Brothers           U.S.A.         2012   \n",
       "2360  999            Bahen & Co.        Australia         2012   \n",
       "2361  999            Bahen & Co.        Australia         2012   \n",
       "\n",
       "     Country of Bean Origin Specific Bean Origin or Bar Name Cocoa Percent  \\\n",
       "0                     Ghana              Trinatario Treasure           71%   \n",
       "1                  Sao Tome                         Sao Tome           75%   \n",
       "2                     Blend                      West Africa           73%   \n",
       "3                     Blend                      Bittersweet           70%   \n",
       "4                     Blend                       Extra Dark           82%   \n",
       "...                     ...                              ...           ...   \n",
       "2357             Madagascar                        Sambirano           70%   \n",
       "2358              Venezuela                            Chuao           73%   \n",
       "2359                  Blend                       Madagascar           72%   \n",
       "2360                 Brazil                            Bahia           70%   \n",
       "2361                  Blend                       Houseblend           70%   \n",
       "\n",
       "       Ingredients Most Memorable Characteristics  Rating  \n",
       "0     5- B,S,C,V,L   gritty, unrefined, off notes    2.00  \n",
       "1     5- B,S,C,V,L          grassy, earthy, burnt    2.75  \n",
       "2     5- B,S,C,V,L  non descript, poor aftertaste    2.00  \n",
       "3     5- B,S,C,V,L            cherry, mild bitter    3.50  \n",
       "4     5- B,S,C,V,L   dry, bitter, poor aftertaste    2.00  \n",
       "...            ...                            ...     ...  \n",
       "2357        2- B,S        unrefined, flat, grassy    3.00  \n",
       "2358        2- B,S            gritty, sour, sweet    2.75  \n",
       "2359        2- B,S      gritty, overly tart, sour    2.50  \n",
       "2360        2- B,S      chalky, intense, chemical    2.50  \n",
       "2361        2- B,S     chalky, fragrant, then off    2.50  \n",
       "\n",
       "[2362 rows x 10 columns]"
      ]
     },
     "execution_count": 3,
     "metadata": {},
     "output_type": "execute_result"
    }
   ],
   "source": [
    "df"
   ]
  },
  {
   "cell_type": "code",
   "execution_count": 24,
   "metadata": {},
   "outputs": [],
   "source": [
    "df = df.dropna()"
   ]
  },
  {
   "cell_type": "code",
   "execution_count": 25,
   "metadata": {},
   "outputs": [
    {
     "data": {
      "text/plain": [
       "REF                                   int64\n",
       "Company (Manufacturer)               object\n",
       "Company Location                     object\n",
       "Review Date                           int64\n",
       "Country of Bean Origin               object\n",
       "Specific Bean Origin or Bar Name     object\n",
       "Cocoa Percent                        object\n",
       "Ingredients                          object\n",
       "Most Memorable Characteristics       object\n",
       "Rating                              float64\n",
       "dtype: object"
      ]
     },
     "execution_count": 25,
     "metadata": {},
     "output_type": "execute_result"
    }
   ],
   "source": [
    "df.dtypes"
   ]
  },
  {
   "cell_type": "code",
   "execution_count": 41,
   "metadata": {},
   "outputs": [
    {
     "name": "stderr",
     "output_type": "stream",
     "text": [
      "<ipython-input-41-75a0dff7c17f>:1: SettingWithCopyWarning: \n",
      "A value is trying to be set on a copy of a slice from a DataFrame.\n",
      "Try using .loc[row_indexer,col_indexer] = value instead\n",
      "\n",
      "See the caveats in the documentation: https://pandas.pydata.org/pandas-docs/stable/user_guide/indexing.html#returning-a-view-versus-a-copy\n",
      "  df['Company Location'] = df['Company Location'].astype('|S')\n"
     ]
    }
   ],
   "source": [
    "df['Company Location'] = df['Company Location'].astype('|S')"
   ]
  },
  {
   "cell_type": "code",
   "execution_count": 42,
   "metadata": {},
   "outputs": [
    {
     "data": {
      "text/plain": [
       "REF                                   int64\n",
       "Company (Manufacturer)               object\n",
       "Company Location                     object\n",
       "Review Date                           int64\n",
       "Country of Bean Origin               object\n",
       "Specific Bean Origin or Bar Name     object\n",
       "Cocoa Percent                        object\n",
       "Ingredients                          object\n",
       "Most Memorable Characteristics       object\n",
       "Rating                              float64\n",
       "dtype: object"
      ]
     },
     "execution_count": 42,
     "metadata": {},
     "output_type": "execute_result"
    }
   ],
   "source": [
    "df.dtypes"
   ]
  },
  {
   "cell_type": "code",
   "execution_count": 93,
   "metadata": {},
   "outputs": [],
   "source": [
    "df.drop(df.loc[df['Rating']==2.6].index, inplace=True)"
   ]
  },
  {
   "cell_type": "code",
   "execution_count": 98,
   "metadata": {},
   "outputs": [
    {
     "data": {
      "image/png": "[encoded data removed]",
      "text/plain": [
       "<Figure size 1080x360 with 1 Axes>"
      ]
     },
     "metadata": {},
     "output_type": "display_data"
    }
   ],
   "source": [
    "rating_counts = df['Rating'].value_counts()\n",
    "\n",
    "plt.figure(figsize=(15,5))\n",
    "sns.barplot(x=rating_counts.index, y=rating_counts.values, palette=\"Oranges\")\n",
    "plt.xlabel(\"Rating value\")\n",
    "plt.ylabel(\"Counts\")\n",
    "plt.title(\"Most Common Rating\")\n",
    "plt.savefig('../../../images/most_common_rating.png');"
   ]
  },
  {
   "cell_type": "code",
   "execution_count": 99,
   "metadata": {},
   "outputs": [
    {
     "data": {
      "image/png": "[encoded data removed]",
      "text/plain": [
       "<Figure size 1080x288 with 1 Axes>"
      ]
     },
     "metadata": {},
     "output_type": "display_data"
    },
    {
     "data": {
      "text/plain": [
       "<Figure size 432x288 with 0 Axes>"
      ]
     },
     "metadata": {},
     "output_type": "display_data"
    }
   ],
   "source": [
    "drate = df.groupby('Review Date').aggregate({'Rating':'mean'})\n",
    "drate = drate.reset_index()\n",
    "\n",
    "sns.set()\n",
    "plt.figure(figsize=(15, 4))\n",
    "ax = sns.lineplot(x='Review Date', y='Rating', data=drate)\n",
    "\n",
    "plt.xlabel(\"Date of Review\")\n",
    "plt.ylabel(\"Average Rating\")\n",
    "plt.title(\"Average Rating over the years\")\n",
    "plt.show()\n",
    "plt.savefig('../../../images/average_rating_over_years.png');"
   ]
  },
  {
   "cell_type": "code",
   "execution_count": 70,
   "metadata": {},
   "outputs": [
    {
     "name": "stdout",
     "output_type": "stream",
     "text": [
      "<class 'pandas.core.frame.DataFrame'>\n",
      "Int64Index: 2274 entries, 0 to 2361\n",
      "Data columns (total 10 columns):\n",
      " #   Column                            Non-Null Count  Dtype  \n",
      "---  ------                            --------------  -----  \n",
      " 0   REF                               2274 non-null   int64  \n",
      " 1   Company (Manufacturer)            2274 non-null   object \n",
      " 2   Company Location                  2274 non-null   object \n",
      " 3   Review Date                       2274 non-null   int64  \n",
      " 4   Country of Bean Origin            2274 non-null   object \n",
      " 5   Specific Bean Origin or Bar Name  2274 non-null   object \n",
      " 6   Cocoa Percent                     2274 non-null   object \n",
      " 7   Ingredients                       2274 non-null   object \n",
      " 8   Most Memorable Characteristics    2274 non-null   object \n",
      " 9   Rating                            2274 non-null   float64\n",
      "dtypes: float64(1), int64(2), object(7)\n",
      "memory usage: 275.4+ KB\n"
     ]
    }
   ],
   "source": [
    "df.info()"
   ]
  },
  {
   "cell_type": "code",
   "execution_count": 101,
   "metadata": {},
   "outputs": [
    {
     "data": {
      "image/png": "[encoded data removed]",
      "text/plain": [
       "<Figure size 720x288 with 1 Axes>"
      ]
     },
     "metadata": {},
     "output_type": "display_data"
    },
    {
     "data": {
      "text/plain": [
       "<Figure size 432x288 with 0 Axes>"
      ]
     },
     "metadata": {},
     "output_type": "display_data"
    }
   ],
   "source": [
    "d = df['Company (Manufacturer)'].value_counts().sort_values(ascending=False).head(5)\n",
    "d = pd.DataFrame(d)\n",
    "d = d.reset_index()\n",
    "\n",
    "\n",
    "sns.set()\n",
    "plt.figure(figsize=(10,4))\n",
    "sns.barplot(x='index', y='Company (Manufacturer)', data=d)\n",
    "plt.xlabel(\"\\nChocolate Company\")\n",
    "plt.ylabel(\"Number of Bars\")\n",
    "plt.title(\"Top 5 Companies in terms of Chocolate Bars\\n\")\n",
    "plt.show()\n",
    "plt.savefig('../../../images/top_5_companies_chocolate_bars.png');"
   ]
  },
  {
   "cell_type": "code",
   "execution_count": 102,
   "metadata": {
    "scrolled": true
   },
   "outputs": [
    {
     "data": {
      "image/png": "[encoded data removed]",
      "text/plain": [
       "<Figure size 1440x432 with 1 Axes>"
      ]
     },
     "metadata": {},
     "output_type": "display_data"
    },
    {
     "data": {
      "text/plain": [
       "<Figure size 432x288 with 0 Axes>"
      ]
     },
     "metadata": {},
     "output_type": "display_data"
    }
   ],
   "source": [
    "d2 = df.groupby('Company (Manufacturer)').aggregate({'Rating':'mean'})\n",
    "d2 = d2.sort_values('Rating', ascending=False).head(5)\n",
    "d2 = d2.reset_index()\n",
    "\n",
    "sns.set()\n",
    "plt.figure(figsize=(20, 6))\n",
    "sns.barplot(x='Company (Manufacturer)', y='Rating', data=d2,)\n",
    "plt.xlabel(\"\\nChocolate Company\")\n",
    "plt.ylabel(\"Average Rating\")\n",
    "plt.title(\"Top 5 Companies in terms of Average Ratings \\n\")\n",
    "plt.show()\n",
    "plt.savefig('../../../images/top_5_companies_average_ratings.png');"
   ]
  },
  {
   "cell_type": "code",
   "execution_count": null,
   "metadata": {},
   "outputs": [],
   "source": []
  },
  {
   "cell_type": "code",
   "execution_count": null,
   "metadata": {},
   "outputs": [],
   "source": []
  }
 ],
 "metadata": {
  "kernelspec": {
   "display_name": "learn-env",
   "language": "python",
   "name": "learn-env"
  },
  "language_info": {
   "codemirror_mode": {
    "name": "ipython",
    "version": 3
   },
   "file_extension": ".py",
   "mimetype": "text/x-python",
   "name": "python",
   "nbconvert_exporter": "python",
   "pygments_lexer": "ipython3",
   "version": "3.8.3"
  }
 },
 "nbformat": 4,
 "nbformat_minor": 4
}
