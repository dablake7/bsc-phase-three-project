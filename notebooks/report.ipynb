{
 "cells": [
  {
   "cell_type": "code",
   "execution_count": 1,
   "metadata": {},
   "outputs": [],
   "source": [
    "import pandas as pd\n",
    "from sklearn.preprocessing import StandardScaler, OneHotEncoder\n",
    "import numpy as np\n",
    "from sklearn.metrics import precision_score\n",
    "from sklearn.metrics import accuracy_score\n",
    "\n"
   ]
  },
  {
   "cell_type": "code",
   "execution_count": 2,
   "metadata": {},
   "outputs": [
    {
     "data": {
      "text/html": [
       "<div>\n",
       "<style scoped>\n",
       "    .dataframe tbody tr th:only-of-type {\n",
       "        vertical-align: middle;\n",
       "    }\n",
       "\n",
       "    .dataframe tbody tr th {\n",
       "        vertical-align: top;\n",
       "    }\n",
       "\n",
       "    .dataframe thead th {\n",
       "        text-align: right;\n",
       "    }\n",
       "</style>\n",
       "<table border=\"1\" class=\"dataframe\">\n",
       "  <thead>\n",
       "    <tr style=\"text-align: right;\">\n",
       "      <th></th>\n",
       "      <th>REF</th>\n",
       "      <th>Company (Manufacturer)</th>\n",
       "      <th>Company Location</th>\n",
       "      <th>Review Date</th>\n",
       "      <th>Country of Bean Origin</th>\n",
       "      <th>Specific Bean Origin or Bar Name</th>\n",
       "      <th>Cocoa Percent</th>\n",
       "      <th>Ingredients</th>\n",
       "      <th>Most Memorable Characteristics</th>\n",
       "      <th>Rating</th>\n",
       "    </tr>\n",
       "  </thead>\n",
       "  <tbody>\n",
       "    <tr>\n",
       "      <th>0</th>\n",
       "      <td>5</td>\n",
       "      <td>Jacque Torres</td>\n",
       "      <td>U.S.A.</td>\n",
       "      <td>2006</td>\n",
       "      <td>Ghana</td>\n",
       "      <td>Trinatario Treasure</td>\n",
       "      <td>71%</td>\n",
       "      <td>5- B,S,C,V,L</td>\n",
       "      <td>gritty, unrefined, off notes</td>\n",
       "      <td>2.00</td>\n",
       "    </tr>\n",
       "    <tr>\n",
       "      <th>1</th>\n",
       "      <td>15</td>\n",
       "      <td>Neuhaus (Callebaut)</td>\n",
       "      <td>Belgium</td>\n",
       "      <td>2006</td>\n",
       "      <td>Sao Tome</td>\n",
       "      <td>Sao Tome</td>\n",
       "      <td>75%</td>\n",
       "      <td>5- B,S,C,V,L</td>\n",
       "      <td>grassy, earthy, burnt</td>\n",
       "      <td>2.75</td>\n",
       "    </tr>\n",
       "    <tr>\n",
       "      <th>2</th>\n",
       "      <td>15</td>\n",
       "      <td>Neuhaus (Callebaut)</td>\n",
       "      <td>Belgium</td>\n",
       "      <td>2006</td>\n",
       "      <td>Blend</td>\n",
       "      <td>West Africa</td>\n",
       "      <td>73%</td>\n",
       "      <td>5- B,S,C,V,L</td>\n",
       "      <td>non descript, poor aftertaste</td>\n",
       "      <td>2.00</td>\n",
       "    </tr>\n",
       "    <tr>\n",
       "      <th>3</th>\n",
       "      <td>15</td>\n",
       "      <td>Scharffen Berger</td>\n",
       "      <td>U.S.A.</td>\n",
       "      <td>2006</td>\n",
       "      <td>Blend</td>\n",
       "      <td>Bittersweet</td>\n",
       "      <td>70%</td>\n",
       "      <td>5- B,S,C,V,L</td>\n",
       "      <td>cherry, mild bitter</td>\n",
       "      <td>3.50</td>\n",
       "    </tr>\n",
       "    <tr>\n",
       "      <th>4</th>\n",
       "      <td>15</td>\n",
       "      <td>Scharffen Berger</td>\n",
       "      <td>U.S.A.</td>\n",
       "      <td>2006</td>\n",
       "      <td>Blend</td>\n",
       "      <td>Extra Dark</td>\n",
       "      <td>82%</td>\n",
       "      <td>5- B,S,C,V,L</td>\n",
       "      <td>dry, bitter, poor aftertaste</td>\n",
       "      <td>2.00</td>\n",
       "    </tr>\n",
       "  </tbody>\n",
       "</table>\n",
       "</div>"
      ],
      "text/plain": [
       "   REF Company (Manufacturer) Company Location  Review Date  \\\n",
       "0    5          Jacque Torres           U.S.A.         2006   \n",
       "1   15    Neuhaus (Callebaut)          Belgium         2006   \n",
       "2   15    Neuhaus (Callebaut)          Belgium         2006   \n",
       "3   15       Scharffen Berger           U.S.A.         2006   \n",
       "4   15       Scharffen Berger           U.S.A.         2006   \n",
       "\n",
       "  Country of Bean Origin Specific Bean Origin or Bar Name Cocoa Percent  \\\n",
       "0                  Ghana              Trinatario Treasure           71%   \n",
       "1               Sao Tome                         Sao Tome           75%   \n",
       "2                  Blend                      West Africa           73%   \n",
       "3                  Blend                      Bittersweet           70%   \n",
       "4                  Blend                       Extra Dark           82%   \n",
       "\n",
       "    Ingredients Most Memorable Characteristics  Rating  \n",
       "0  5- B,S,C,V,L   gritty, unrefined, off notes    2.00  \n",
       "1  5- B,S,C,V,L          grassy, earthy, burnt    2.75  \n",
       "2  5- B,S,C,V,L  non descript, poor aftertaste    2.00  \n",
       "3  5- B,S,C,V,L            cherry, mild bitter    3.50  \n",
       "4  5- B,S,C,V,L   dry, bitter, poor aftertaste    2.00  "
      ]
     },
     "execution_count": 2,
     "metadata": {},
     "output_type": "execute_result"
    }
   ],
   "source": [
    "df = pd.read_csv('../data/chocolate.csv')\n",
    "df.head()"
   ]
  },
  {
   "cell_type": "markdown",
   "metadata": {},
   "source": [
    "Information tends to be lacking will likely need to supplement with out side sources\n",
    "\n",
    "additionally the categorical data in Most Memorable Characteristics and Ingrediants need to be extacted but can't be one hot encoded\n",
    "\n",
    "Manufacturer and Specific Bean Origin or Bar name aren't specific enough to be useful and should be dropped"
   ]
  },
  {
   "cell_type": "code",
   "execution_count": 3,
   "metadata": {},
   "outputs": [],
   "source": [
    "#define funtions to be used for characteristics extraction\n",
    "def test_fruity(word):\n",
    "    out = 0;\n",
    "    fruit_list = ['fruit','fig','melon','tangerine','papaya','banana','orange','grape','cardamom','citrus','apple']\n",
    "    for i in fruit_list:\n",
    "        if i in word:\n",
    "            out = 1;\n",
    "    return out;\n",
    "\n",
    "def test_sandy(word):\n",
    "    out = 0;\n",
    "    sand_list = ['sand','ash','chalk','cardboard','grit','powdery','dry']\n",
    "    for i in sand_list:\n",
    "        if i in word:\n",
    "            out = 1;\n",
    "    return out;\n",
    "\n",
    "def test_honey(word):\n",
    "    out = 0;\n",
    "    sweet_list = ['honey','molasses','tofee','caramel']\n",
    "    for i in sweet_list:\n",
    "        if i in word:\n",
    "            out = 1;\n",
    "    return out;\n",
    "\n",
    "def test_spice(word):\n",
    "    out = 0;\n",
    "    spice_list = ['spic','pepper']\n",
    "    for i in spice_list:\n",
    "        if i in word:\n",
    "            out = 1;\n",
    "    return out;\n",
    "\n",
    "def test_sour(word):\n",
    "    out = 0;\n",
    "    sour_list = ['sour','tart','lemon','lime','acidic']\n",
    "    for i in sour_list:\n",
    "        if i in word:\n",
    "            out = 1;\n",
    "    return out;\n",
    "\n",
    "def test_nut(word):\n",
    "    out = 0;\n",
    "    nut_list = ['nut','cashew','coconut']\n",
    "    for i in nut_list:\n",
    "        if i in word:\n",
    "            out = 1;\n",
    "    return out;\n",
    "\n",
    "def test_berry(word):\n",
    "    out = 0;\n",
    "    berry_list = ['berry','cherry']\n",
    "    for i in berry_list:\n",
    "        if i in word:\n",
    "            out = 1;\n",
    "    return out;\n",
    "\n",
    "def test_creamy(word):\n",
    "    out = 0;\n",
    "    if 'creamy' in word:\n",
    "        out = 1;\n",
    "    if 'smooth' in word:\n",
    "        out = 1;\n",
    "    return out\n",
    "\n",
    "def test_floral(word):\n",
    "    out = 0;\n",
    "    if 'floral' in word:\n",
    "        out = 1\n",
    "    return out\n",
    "\n",
    "def test_smokey(word):\n",
    "    out = 0;\n",
    "    smoke_list = ['smoke','burnt','woodsy','rustic','earthy','roast','woody']\n",
    "    for i in smoke_list:\n",
    "        if i in word:\n",
    "            out = 1;\n",
    "    return out;\n",
    "\n",
    "def test_bad(word):\n",
    "    out = 0;\n",
    "    bad_list = ['poor', 'unrefined', 'chlorine','mettalic','rubber','off ','chemical','flat','artificial','pungent','wtf','why bother','this is not chocolate','synthetic','too', ' off']\n",
    "    for i in bad_list:\n",
    "        if i in word:\n",
    "            out = 1;\n",
    "    return out;\n",
    "\n",
    "def test_sweet(word):\n",
    "    out = 0;\n",
    "    if 'sweet' in word:\n",
    "        out = 1;\n",
    "    return out\n",
    "\n",
    "def test_coffee(word):\n",
    "    out = 0\n",
    "    cofee_list = ['coffee','mocha']\n",
    "    for i in cofee_list:\n",
    "        if i in word:\n",
    "            out = 1\n",
    "    return out;\n",
    "\n"
   ]
  },
  {
   "cell_type": "code",
   "execution_count": 4,
   "metadata": {},
   "outputs": [],
   "source": [
    "#def funtions to extract ingrediant information\n",
    "def test_num(word):\n",
    "    out = 0\n",
    "    cofee_list = ['1','2','3','4','5','6','7']\n",
    "    for i in cofee_list:\n",
    "        if i in word:\n",
    "            out = i\n",
    "    return out;\n",
    "\n",
    "def test_beans(word):\n",
    "    if 'B' in word:\n",
    "        return 1;\n",
    "    else:\n",
    "        return 0;\n",
    "\n",
    "def test_sugar(word):\n",
    "    if ('S,' in word) or (',S' in word):\n",
    "        return 1;\n",
    "    else:\n",
    "        return 0;\n",
    "\n",
    "def test_sweetner(word):\n",
    "    if 'S*' in word:\n",
    "        return 1;\n",
    "    else:\n",
    "        return 0;\n",
    "\n",
    "def test_butter(word):\n",
    "    if 'C' in word:\n",
    "        return 1;\n",
    "    else:\n",
    "        return 0;\n",
    "\n",
    "def test_vanilla(word):\n",
    "    if 'V' in word:\n",
    "        return 1;\n",
    "    else:\n",
    "        return 0;\n",
    "\n",
    "def test_lecithin(word):\n",
    "    if 'L' in word:\n",
    "        return 1;\n",
    "    else:\n",
    "        return 0;\n",
    "\n",
    "def test_salt(word):\n",
    "    if 'Sa' in word:\n",
    "        return 1;\n",
    "    else:\n",
    "        return 0;\n",
    "\n"
   ]
  },
  {
   "cell_type": "code",
   "execution_count": 5,
   "metadata": {},
   "outputs": [],
   "source": [
    "#define funtions to add in additonal country informaiton: choclate market size, longitude, latitude and climate\n",
    "def export(country):\n",
    "    export_dict ={'U.S.A.':1390101000,'France':1308482000,'Canada':1610247000,'U.K.':1005909000,'Italy':2096444000,\n",
    "    'Belgium':3141521000,'Ecuador':12411000,'Australia':240729000, 'Switzerland':752061000,\n",
    "    'Germany':4866331000,'Spain':470465000,'Denmark':159861000,'Venezuala':1453000,'Japan':81286000,\n",
    "    'Austria':445760000, 'New Zealand':53467000,'Colombia':48650000,'Hungary':220915000,\n",
    "    'Brazil':97136000,'Peru':25395000,'Madagascar':2605000,'Vietnam':17301000,'Singapore':442321000,\n",
    "    'Dominican Republic':3957000,'South Korea':57879000,'Taiwan':10454000,'Guatamala':10965000,\n",
    "    'Costa Rica': 8125000,'Israel':18036000,'Argentina':71008000,'Lithuania':150859000,\n",
    "    'Mexico':604353000,'Netherlands':1844272000,'Poland':2079762000,'Sweden':381286000,'Thailand':36112000,\n",
    "    'U.A.E':90366000,'Ireland':339224000,'Philippines':5703000,'Iceland':3003000,'South Africa':70081000,\n",
    "    'Norway':32641000,'Portugal':34234000,'Malaysia':247820000,'Russia':729156000,'Czech Republic':312272000,\n",
    "    'El Salvador':6837000,'Finland':74163000,'India':100298000,'Chile':13959000,'Ghana':18535000}\n",
    "    if country in export_dict.keys():\n",
    "        return export_dict[country]\n",
    "    else:\n",
    "        return np.nan\n",
    "    \n",
    "def lat(country):\n",
    "    lat_dict = {'Ghana':7.946527, 'Sao Tome':0.18636, 'Colombia':4.570868, 'Dominican Republic':18.735693, 'Madagascar':-18.766947,\n",
    " 'Papua New Guinea':-6.314993, 'Venezuela':6.42375, 'U.S.A.':19.8968, 'Jamaica':18.109581, 'Vanuatu':-15.376706, 'Ecuador':-1.831239,\n",
    " 'Bolivia':-16.290154, 'Trinidad':10.691803, 'Mexico':23.634501, 'Sri Lanka':7.873054, 'Peru':-9.189967, 'Indonesia':-0.789275, 'Cuba':21.521757,\n",
    " 'Liberia':6.428055, 'Panama':8.537981, 'Brazil':-14.235004, 'Burma':21.913965, 'Belize':17.189877, 'St. Lucia':13.909444, 'Nicaragua':12.865416,\n",
    " 'Vietnam':14.058324, 'Gabon':-0.803689, 'Congo':-0.228021, 'Puerto Rico':18.220833, 'Costa Rica':9.748917, 'Haiti':18.971187,\n",
    " 'Philippines':12.879721, 'Tobago':10.691803, 'Martinique':14.641528, 'Grenada':12.262776, 'Guatemala':15.783471, 'Honduras':15.199999,\n",
    " 'Fiji':-16.578193, 'Uganda':1.373333, 'Tanzania':-6.369028, 'El Salvador':13.794185, 'Ivory Coast':7.5400, 'Australia':-25.274398,\n",
    " 'Cameroon':7.369722, 'Togo':8.619543, 'Malaysia':4.210484, 'Solomon Islands':-9.64571, 'Samoa':-13.759029, 'India':20.593684, 'Suriname':3.919305,\n",
    " 'Nigeria':9.081999, 'Sulawesi':1.8479, 'Taiwan':23.69781, 'Sierra Leone':8.460555, 'Sumatra':0.5897, 'Thailand':15.870032,\n",
    " 'DR Congo':4.0383, 'St.Vincent-Grenadines':12.984305, 'Sao Tome & Principe':0.18636, 'Principe':0.18636}\n",
    "    if country in lat_dict.keys():\n",
    "        return lat_dict[country]\n",
    "    else:\n",
    "        return 5.86\n",
    "\n",
    "def long(country):\n",
    "    long_dict = {'Ghana':-1.023194, 'Sao Tome':6.613081, 'Colombia':-74.297333, 'Dominican Republic':-70.162651, 'Madagascar':46.869107,\n",
    " 'Papua New Guinea':143.95555, 'Venezuela':-66.58973, 'U.S.A.':155.5828, 'Jamaica':-77.297508, 'Vanuatu':166.959158, 'Ecuador':-78.183406,\n",
    " 'Bolivia':-63.588653, 'Trinidad':-61.222503, 'Mexico':-102.552784, 'Sri Lanka':80.771797, 'Peru':-75.015152, 'Indonesia':113.921327, 'Cuba':-77.781167,\n",
    " 'Liberia':-9.429499, 'Panama':-80.782127, 'Brazil':-51.92528, 'Burma':95.956223, 'Belize':-88.49765, 'St. Lucia':-60.978893, 'Nicaragua':-85.207229,\n",
    " 'Vietnam':108.277199, 'Gabon':11.609444, 'Congo':15.827659, 'Puerto Rico':-66.590149, 'Costa Rica':-83.753428, 'Haiti':-72.285215,\n",
    " 'Philippines':121.774017, 'Tobago':-61.222503, 'Martinique':-61.024174, 'Grenada':-61.604171, 'Guatemala':-90.230759, 'Honduras':-86.241905,\n",
    " 'Fiji':179.414413, 'Uganda':32.290275, 'Tanzania':34.888822, 'El Salvador':-88.89653, 'Ivory Coast':5.5471, 'Australia':133.775136,\n",
    " 'Cameroon':12.354722, 'Togo':0.824782, 'Malaysia':101.975766, 'Solomon Islands':160.156194, 'Samoa':-172.104629, 'India':78.96288, 'Suriname':-56.027783,\n",
    " 'Nigeria':8.675277, 'Sulawesi':120.5279, 'Taiwan':120.960515, 'Sierra Leone':-11.779889, 'Sumatra':101.3431, 'Thailand':100.992541,\n",
    " 'DR Congo':21.758664, 'St.Vincent-Grenadines':-61.287228, 'Sao Tome & Principe':6.613081, 'Principe':6.613081}\n",
    "    if country in long_dict.keys():\n",
    "        return long_dict [country]\n",
    "    else:\n",
    "        return 3.303\n",
    "\n",
    "def temp(country):\n",
    "        temp_dict = {'Ghana':27.25, 'Sao Tome':27, 'Colombia':24.40, 'Dominican Republic':23.93, 'Madagascar':22.01,\n",
    " 'Papua New Guinea':25.05, 'Venezuela':25.32, 'U.S.A.':27.5, 'Jamaica':24.47, 'Vanuatu':23.84, 'Ecuador':21.33,\n",
    " 'Bolivia':20.98, 'Trinidad':25.86, 'Mexico':20.54, 'Sri Lanka':26.76, 'Peru':19.46, 'Indonesia':25.72, 'Cuba':25.13,\n",
    " 'Liberia':25.25, 'Panama':24.72, 'Brazil':24.92, 'Burma':22.96, 'Belize':25.06, 'St. Lucia':27, 'Nicaragua':24.59,\n",
    " 'Vietnam':24.07, 'Gabon':25.00, 'Congo':24.52, 'Puerto Rico':24.28, 'Costa Rica':23.85, 'Haiti':24.48,\n",
    " 'Philippines':25.33, 'Tobago':25.86, 'Martinique':26.7, 'Grenada':28, 'Guatemala':23.07, 'Honduras':23.39,\n",
    " 'Fiji':23.37, 'Uganda':22.60, 'Tanzania':22.31, 'El Salvador':24.77, 'Ivory Coast':26.30, 'Australia':21.51,\n",
    " 'Cameroon':24.53, 'Togo':26.80, 'Malaysia':25.14, 'Solomon Islands':25.68, 'Samoa':28.5, 'India':23.95, 'Suriname':25.77,\n",
    " 'Nigeria':26.78, 'Sulawesi':21.4, 'Taiwan':22, 'Sierra Leone':26.04, 'Sumatra':25.2, 'Thailand':26.25,\n",
    " 'DR Congo':24.04, 'St.Vincent-Grenadines':26.82, 'Sao Tome & Principe':24.7, 'Principe':24.7}\n",
    "        if country in temp_dict.keys():\n",
    "            return temp_dict[country]\n",
    "        else:\n",
    "            return 24.646\n",
    "\n",
    "def precipitation(country):\n",
    "        precipitation_dict = {'Ghana':1184.94, 'Sao Tome':1382,  'Colombia':2618.59, 'Dominican Republic':1417.07, 'Madagascar':1475.68,\n",
    "         'Papua New Guinea':3106.06, 'Venezuela':1957.65, 'U.S.A.':433, 'Jamaica':2114.18, 'Vanuatu':2662.11, 'Ecuador':1945.27,\n",
    "         'Bolivia':1095.56, 'Trinidad':1831.41, 'Mexico':738.14, 'Sri Lanka':1699.41, 'Peru':1513.24, 'Indonesia':2801.54, 'Cuba':1329.49,\n",
    "         'Liberia':2460.08, 'Panama':2487.03, 'Brazil':1762.97, 'Burma':2007.70, 'Belize':2089.26, 'St. Lucia':1400, 'Nicaragua':2406.97,\n",
    "         'Vietnam':1835.16, 'Gabon':1819.44, 'Congo':1635.05, 'Puerto Rico':2126.02, 'Costa Rica':3268.27, 'Haiti':1480.20,\n",
    "         'Philippines':2317.59, 'Tobago':1831.41, 'Martinique':1159, 'Grenada':1208, 'Guatemala':2606.33, 'Honduras':1945.76,\n",
    "         'Fiji':2905.11, 'Uganda':1207.90, 'Tanzania':1052.38, 'El Salvador':1672.81, 'Ivory Coast':1356.08, 'Australia':473.09,\n",
    "         'Cameroon':1613.07, 'Togo':1189.11, 'Malaysia':2992.79, 'Solomon Islands':3157.37, 'Samoa':4500, 'India':1072.22, 'Suriname':2316.81,\n",
    "         'Nigeria':1138.53, 'Sulawesi':3835, 'Taiwan':2590, 'Sierra Leone':2471.72, 'Sumatra':4000, 'Thailand':1532.48,\n",
    "         'DR Congo':1535.04, 'St.Vincent-Grenadines':1585.97, 'Sao Tome & Principe':1382, 'Principe':1382}\n",
    "        if country in precipitation_dict.keys():\n",
    "            return precipitation_dict[country]\n",
    "        else:\n",
    "            return 1935.22\n",
    "\n",
    "\n"
   ]
  },
  {
   "cell_type": "code",
   "execution_count": 6,
   "metadata": {},
   "outputs": [],
   "source": [
    "#creat a funtion to clean data in easy step\n",
    "def data_clean(df, ohe):\n",
    "    #add in export info\n",
    "    df['Country_export'] = df['Company Location'].apply(export)\n",
    "    df['Country_export'] = df['Country_export'].fillna(500000)\n",
    "    print(df)\n",
    "    df = df.dropna()\n",
    "    #add in climate info\n",
    "    df['Latitude'] = df[\"Country of Bean Origin\"].apply(lat)\n",
    "    df['Longitude'] = df[\"Country of Bean Origin\"].apply(long)\n",
    "    df['Temperature (Celsius)'] = df[\"Country of Bean Origin\"].apply(temp)\n",
    "    df['Precipitation (millimeters)'] = df[\"Country of Bean Origin\"].apply(precipitation)\n",
    "    #extract flavor info\n",
    "    df['fruity'] = df['Most Memorable Characteristics'].apply(test_fruity)\n",
    "    df['honey'] = df['Most Memorable Characteristics'].apply(test_honey)\n",
    "    df['spice'] = df['Most Memorable Characteristics'].apply(test_spice)\n",
    "    df['sour'] = df['Most Memorable Characteristics'].apply(test_sour)\n",
    "    df['nut'] = df['Most Memorable Characteristics'].apply(test_nut)\n",
    "    df['berry'] = df['Most Memorable Characteristics'].apply(test_berry)\n",
    "    df['creamy'] = df['Most Memorable Characteristics'].apply(test_creamy)\n",
    "    df['floral'] = df['Most Memorable Characteristics'].apply(test_floral)\n",
    "    df['smokey'] = df['Most Memorable Characteristics'].apply(test_smokey)\n",
    "    df['bad'] = df['Most Memorable Characteristics'].apply(test_bad)\n",
    "    df['sweet'] = df['Most Memorable Characteristics'].apply(test_sweet)\n",
    "    df['coffee'] = df['Most Memorable Characteristics'].apply(test_coffee)\n",
    "    #extract ingrediant info\n",
    "    df['num_ingred'] = df['Ingredients'].apply(test_num)\n",
    "    df['beans'] = df['Ingredients'].apply(test_beans)\n",
    "    df['sugar'] = df['Ingredients'].apply(test_sugar)\n",
    "    df['sweetner'] = df['Ingredients'].apply(test_sweetner)\n",
    "    df['butter'] = df['Ingredients'].apply(test_butter)\n",
    "    df['vanilla'] =df['Ingredients'].apply(test_vanilla)\n",
    "    df['lecithin'] = df['Ingredients'].apply(test_lecithin)\n",
    "    df['salt'] = df['Ingredients'].apply(test_salt)\n",
    "    #convert coca percent to a float\n",
    "    df['Cocoa Percent'] = df['Cocoa Percent'].str.rstrip('%').astype('float') / 100.0\n",
    "    \n",
    "    df = df.drop(columns = ('Specific Bean Origin or Bar Name'))\n",
    "    #encode company location and country of origin\n",
    "    ohe_cols = ['Company Location', 'Country of Bean Origin']\n",
    "    df_encoded = ohe.transform(df[ohe_cols])\n",
    "    encoded_df = pd.DataFrame(df_encoded, columns=ohe.get_feature_names())\n",
    "    hold_df = pd.concat([df, encoded_df], axis=1)\n",
    "    #drop unnecessary columns\n",
    "    df = hold_df.drop(['Company (Manufacturer)', 'Company Location', 'Country of Bean Origin','Most Memorable Characteristics','Ingredients','Review Date'], axis =1)\n",
    "    print(df)\n",
    "    df = df.dropna()\n",
    "\n",
    "    return df;"
   ]
  },
  {
   "cell_type": "markdown",
   "metadata": {},
   "source": [
    "Data cleaning prep is done next to apply it"
   ]
  },
  {
   "cell_type": "code",
   "execution_count": 7,
   "metadata": {},
   "outputs": [
    {
     "data": {
      "text/plain": [
       "OneHotEncoder(sparse=False)"
      ]
     },
     "execution_count": 7,
     "metadata": {},
     "output_type": "execute_result"
    }
   ],
   "source": [
    "#prepare ohe\n",
    "ohe_cols = ['Company Location', 'Country of Bean Origin']\n",
    "\n",
    "ohe = OneHotEncoder(sparse=False)\n",
    "ohe.fit(df[ohe_cols])\n",
    "\n"
   ]
  },
  {
   "cell_type": "code",
   "execution_count": 8,
   "metadata": {},
   "outputs": [
    {
     "name": "stdout",
     "output_type": "stream",
     "text": [
      "      REF Company (Manufacturer) Company Location  Review Date  \\\n",
      "0       5          Jacque Torres           U.S.A.         2006   \n",
      "1      15    Neuhaus (Callebaut)          Belgium         2006   \n",
      "2      15    Neuhaus (Callebaut)          Belgium         2006   \n",
      "3      15       Scharffen Berger           U.S.A.         2006   \n",
      "4      15       Scharffen Berger           U.S.A.         2006   \n",
      "...   ...                    ...              ...          ...   \n",
      "2357  995            Bahen & Co.        Australia         2012   \n",
      "2358  999          Mast Brothers           U.S.A.         2012   \n",
      "2359  999          Mast Brothers           U.S.A.         2012   \n",
      "2360  999            Bahen & Co.        Australia         2012   \n",
      "2361  999            Bahen & Co.        Australia         2012   \n",
      "\n",
      "     Country of Bean Origin Specific Bean Origin or Bar Name Cocoa Percent  \\\n",
      "0                     Ghana              Trinatario Treasure           71%   \n",
      "1                  Sao Tome                         Sao Tome           75%   \n",
      "2                     Blend                      West Africa           73%   \n",
      "3                     Blend                      Bittersweet           70%   \n",
      "4                     Blend                       Extra Dark           82%   \n",
      "...                     ...                              ...           ...   \n",
      "2357             Madagascar                        Sambirano           70%   \n",
      "2358              Venezuela                            Chuao           73%   \n",
      "2359                  Blend                       Madagascar           72%   \n",
      "2360                 Brazil                            Bahia           70%   \n",
      "2361                  Blend                       Houseblend           70%   \n",
      "\n",
      "       Ingredients Most Memorable Characteristics  Rating  Country_export  \n",
      "0     5- B,S,C,V,L   gritty, unrefined, off notes    2.00    1.390101e+09  \n",
      "1     5- B,S,C,V,L          grassy, earthy, burnt    2.75    3.141521e+09  \n",
      "2     5- B,S,C,V,L  non descript, poor aftertaste    2.00    3.141521e+09  \n",
      "3     5- B,S,C,V,L            cherry, mild bitter    3.50    1.390101e+09  \n",
      "4     5- B,S,C,V,L   dry, bitter, poor aftertaste    2.00    1.390101e+09  \n",
      "...            ...                            ...     ...             ...  \n",
      "2357        2- B,S        unrefined, flat, grassy    3.00    2.407290e+08  \n",
      "2358        2- B,S            gritty, sour, sweet    2.75    1.390101e+09  \n",
      "2359        2- B,S      gritty, overly tart, sour    2.50    1.390101e+09  \n",
      "2360        2- B,S      chalky, intense, chemical    2.50    2.407290e+08  \n",
      "2361        2- B,S     chalky, fragrant, then off    2.50    2.407290e+08  \n",
      "\n",
      "[2362 rows x 11 columns]\n",
      "        REF  Cocoa Percent  Rating  Country_export   Latitude  Longitude  \\\n",
      "0       5.0           0.71    2.00    1.390101e+09   7.946527  -1.023194   \n",
      "1      15.0           0.75    2.75    3.141521e+09   0.186360   6.613081   \n",
      "2      15.0           0.73    2.00    3.141521e+09   5.860000   3.303000   \n",
      "3      15.0           0.70    3.50    1.390101e+09   5.860000   3.303000   \n",
      "4      15.0           0.82    2.00    1.390101e+09   5.860000   3.303000   \n",
      "...     ...            ...     ...             ...        ...        ...   \n",
      "2357  995.0           0.70    3.00    2.407290e+08 -18.766947  46.869107   \n",
      "2358  999.0           0.73    2.75    1.390101e+09   6.423750 -66.589730   \n",
      "2359  999.0           0.72    2.50    1.390101e+09   5.860000   3.303000   \n",
      "2360  999.0           0.70    2.50    2.407290e+08 -14.235004 -51.925280   \n",
      "2361  999.0           0.70    2.50    2.407290e+08   5.860000   3.303000   \n",
      "\n",
      "      Temperature (Celsius)  Precipitation (millimeters)  fruity  honey  ...  \\\n",
      "0                    27.250                      1184.94     0.0    0.0  ...   \n",
      "1                    27.000                      1382.00     0.0    0.0  ...   \n",
      "2                    24.646                      1935.22     0.0    0.0  ...   \n",
      "3                    24.646                      1935.22     0.0    0.0  ...   \n",
      "4                    24.646                      1935.22     0.0    0.0  ...   \n",
      "...                     ...                          ...     ...    ...  ...   \n",
      "2357                 22.010                      1475.68     0.0    0.0  ...   \n",
      "2358                 25.320                      1957.65     0.0    0.0  ...   \n",
      "2359                 24.646                      1935.22     0.0    0.0  ...   \n",
      "2360                 24.920                      1762.97     0.0    0.0  ...   \n",
      "2361                 24.646                      1935.22     0.0    0.0  ...   \n",
      "\n",
      "      x1_Tanzania  x1_Thailand  x1_Tobago  x1_Togo  x1_Trinidad  x1_U.S.A.  \\\n",
      "0             0.0          0.0        0.0      0.0          0.0        0.0   \n",
      "1             0.0          0.0        0.0      0.0          0.0        0.0   \n",
      "2             0.0          0.0        0.0      0.0          0.0        0.0   \n",
      "3             0.0          0.0        0.0      0.0          0.0        0.0   \n",
      "4             0.0          0.0        0.0      0.0          0.0        0.0   \n",
      "...           ...          ...        ...      ...          ...        ...   \n",
      "2357          NaN          NaN        NaN      NaN          NaN        NaN   \n",
      "2358          NaN          NaN        NaN      NaN          NaN        NaN   \n",
      "2359          NaN          NaN        NaN      NaN          NaN        NaN   \n",
      "2360          NaN          NaN        NaN      NaN          NaN        NaN   \n",
      "2361          NaN          NaN        NaN      NaN          NaN        NaN   \n",
      "\n",
      "      x1_Uganda  x1_Vanuatu  x1_Venezuela  x1_Vietnam  \n",
      "0           0.0         0.0           0.0         0.0  \n",
      "1           0.0         0.0           0.0         0.0  \n",
      "2           0.0         0.0           0.0         0.0  \n",
      "3           0.0         0.0           0.0         0.0  \n",
      "4           0.0         0.0           0.0         0.0  \n",
      "...         ...         ...           ...         ...  \n",
      "2357        NaN         NaN           NaN         NaN  \n",
      "2358        NaN         NaN           NaN         NaN  \n",
      "2359        NaN         NaN           NaN         NaN  \n",
      "2360        NaN         NaN           NaN         NaN  \n",
      "2361        NaN         NaN           NaN         NaN  \n",
      "\n",
      "[2355 rows x 156 columns]\n"
     ]
    },
    {
     "name": "stderr",
     "output_type": "stream",
     "text": [
      "<ipython-input-6-44145c596bb1>:9: SettingWithCopyWarning: \n",
      "A value is trying to be set on a copy of a slice from a DataFrame.\n",
      "Try using .loc[row_indexer,col_indexer] = value instead\n",
      "\n",
      "See the caveats in the documentation: https://pandas.pydata.org/pandas-docs/stable/user_guide/indexing.html#returning-a-view-versus-a-copy\n",
      "  df['Latitude'] = df[\"Country of Bean Origin\"].apply(lat)\n",
      "<ipython-input-6-44145c596bb1>:10: SettingWithCopyWarning: \n",
      "A value is trying to be set on a copy of a slice from a DataFrame.\n",
      "Try using .loc[row_indexer,col_indexer] = value instead\n",
      "\n",
      "See the caveats in the documentation: https://pandas.pydata.org/pandas-docs/stable/user_guide/indexing.html#returning-a-view-versus-a-copy\n",
      "  df['Longitude'] = df[\"Country of Bean Origin\"].apply(long)\n",
      "<ipython-input-6-44145c596bb1>:11: SettingWithCopyWarning: \n",
      "A value is trying to be set on a copy of a slice from a DataFrame.\n",
      "Try using .loc[row_indexer,col_indexer] = value instead\n",
      "\n",
      "See the caveats in the documentation: https://pandas.pydata.org/pandas-docs/stable/user_guide/indexing.html#returning-a-view-versus-a-copy\n",
      "  df['Temperature (Celsius)'] = df[\"Country of Bean Origin\"].apply(temp)\n",
      "<ipython-input-6-44145c596bb1>:12: SettingWithCopyWarning: \n",
      "A value is trying to be set on a copy of a slice from a DataFrame.\n",
      "Try using .loc[row_indexer,col_indexer] = value instead\n",
      "\n",
      "See the caveats in the documentation: https://pandas.pydata.org/pandas-docs/stable/user_guide/indexing.html#returning-a-view-versus-a-copy\n",
      "  df['Precipitation (millimeters)'] = df[\"Country of Bean Origin\"].apply(precipitation)\n",
      "<ipython-input-6-44145c596bb1>:14: SettingWithCopyWarning: \n",
      "A value is trying to be set on a copy of a slice from a DataFrame.\n",
      "Try using .loc[row_indexer,col_indexer] = value instead\n",
      "\n",
      "See the caveats in the documentation: https://pandas.pydata.org/pandas-docs/stable/user_guide/indexing.html#returning-a-view-versus-a-copy\n",
      "  df['fruity'] = df['Most Memorable Characteristics'].apply(test_fruity)\n",
      "<ipython-input-6-44145c596bb1>:15: SettingWithCopyWarning: \n",
      "A value is trying to be set on a copy of a slice from a DataFrame.\n",
      "Try using .loc[row_indexer,col_indexer] = value instead\n",
      "\n",
      "See the caveats in the documentation: https://pandas.pydata.org/pandas-docs/stable/user_guide/indexing.html#returning-a-view-versus-a-copy\n",
      "  df['honey'] = df['Most Memorable Characteristics'].apply(test_honey)\n",
      "<ipython-input-6-44145c596bb1>:16: SettingWithCopyWarning: \n",
      "A value is trying to be set on a copy of a slice from a DataFrame.\n",
      "Try using .loc[row_indexer,col_indexer] = value instead\n",
      "\n",
      "See the caveats in the documentation: https://pandas.pydata.org/pandas-docs/stable/user_guide/indexing.html#returning-a-view-versus-a-copy\n",
      "  df['spice'] = df['Most Memorable Characteristics'].apply(test_spice)\n",
      "<ipython-input-6-44145c596bb1>:17: SettingWithCopyWarning: \n",
      "A value is trying to be set on a copy of a slice from a DataFrame.\n",
      "Try using .loc[row_indexer,col_indexer] = value instead\n",
      "\n",
      "See the caveats in the documentation: https://pandas.pydata.org/pandas-docs/stable/user_guide/indexing.html#returning-a-view-versus-a-copy\n",
      "  df['sour'] = df['Most Memorable Characteristics'].apply(test_sour)\n",
      "<ipython-input-6-44145c596bb1>:18: SettingWithCopyWarning: \n",
      "A value is trying to be set on a copy of a slice from a DataFrame.\n",
      "Try using .loc[row_indexer,col_indexer] = value instead\n",
      "\n",
      "See the caveats in the documentation: https://pandas.pydata.org/pandas-docs/stable/user_guide/indexing.html#returning-a-view-versus-a-copy\n",
      "  df['nut'] = df['Most Memorable Characteristics'].apply(test_nut)\n",
      "<ipython-input-6-44145c596bb1>:19: SettingWithCopyWarning: \n",
      "A value is trying to be set on a copy of a slice from a DataFrame.\n",
      "Try using .loc[row_indexer,col_indexer] = value instead\n",
      "\n",
      "See the caveats in the documentation: https://pandas.pydata.org/pandas-docs/stable/user_guide/indexing.html#returning-a-view-versus-a-copy\n",
      "  df['berry'] = df['Most Memorable Characteristics'].apply(test_berry)\n",
      "<ipython-input-6-44145c596bb1>:20: SettingWithCopyWarning: \n",
      "A value is trying to be set on a copy of a slice from a DataFrame.\n",
      "Try using .loc[row_indexer,col_indexer] = value instead\n",
      "\n",
      "See the caveats in the documentation: https://pandas.pydata.org/pandas-docs/stable/user_guide/indexing.html#returning-a-view-versus-a-copy\n",
      "  df['creamy'] = df['Most Memorable Characteristics'].apply(test_creamy)\n",
      "<ipython-input-6-44145c596bb1>:21: SettingWithCopyWarning: \n",
      "A value is trying to be set on a copy of a slice from a DataFrame.\n",
      "Try using .loc[row_indexer,col_indexer] = value instead\n",
      "\n",
      "See the caveats in the documentation: https://pandas.pydata.org/pandas-docs/stable/user_guide/indexing.html#returning-a-view-versus-a-copy\n",
      "  df['floral'] = df['Most Memorable Characteristics'].apply(test_floral)\n",
      "<ipython-input-6-44145c596bb1>:22: SettingWithCopyWarning: \n",
      "A value is trying to be set on a copy of a slice from a DataFrame.\n",
      "Try using .loc[row_indexer,col_indexer] = value instead\n",
      "\n",
      "See the caveats in the documentation: https://pandas.pydata.org/pandas-docs/stable/user_guide/indexing.html#returning-a-view-versus-a-copy\n",
      "  df['smokey'] = df['Most Memorable Characteristics'].apply(test_smokey)\n",
      "<ipython-input-6-44145c596bb1>:23: SettingWithCopyWarning: \n",
      "A value is trying to be set on a copy of a slice from a DataFrame.\n",
      "Try using .loc[row_indexer,col_indexer] = value instead\n",
      "\n",
      "See the caveats in the documentation: https://pandas.pydata.org/pandas-docs/stable/user_guide/indexing.html#returning-a-view-versus-a-copy\n",
      "  df['bad'] = df['Most Memorable Characteristics'].apply(test_bad)\n",
      "<ipython-input-6-44145c596bb1>:24: SettingWithCopyWarning: \n",
      "A value is trying to be set on a copy of a slice from a DataFrame.\n",
      "Try using .loc[row_indexer,col_indexer] = value instead\n",
      "\n",
      "See the caveats in the documentation: https://pandas.pydata.org/pandas-docs/stable/user_guide/indexing.html#returning-a-view-versus-a-copy\n",
      "  df['sweet'] = df['Most Memorable Characteristics'].apply(test_sweet)\n",
      "<ipython-input-6-44145c596bb1>:25: SettingWithCopyWarning: \n",
      "A value is trying to be set on a copy of a slice from a DataFrame.\n",
      "Try using .loc[row_indexer,col_indexer] = value instead\n",
      "\n",
      "See the caveats in the documentation: https://pandas.pydata.org/pandas-docs/stable/user_guide/indexing.html#returning-a-view-versus-a-copy\n",
      "  df['coffee'] = df['Most Memorable Characteristics'].apply(test_coffee)\n",
      "<ipython-input-6-44145c596bb1>:27: SettingWithCopyWarning: \n",
      "A value is trying to be set on a copy of a slice from a DataFrame.\n",
      "Try using .loc[row_indexer,col_indexer] = value instead\n",
      "\n",
      "See the caveats in the documentation: https://pandas.pydata.org/pandas-docs/stable/user_guide/indexing.html#returning-a-view-versus-a-copy\n",
      "  df['num_ingred'] = df['Ingredients'].apply(test_num)\n",
      "<ipython-input-6-44145c596bb1>:28: SettingWithCopyWarning: \n",
      "A value is trying to be set on a copy of a slice from a DataFrame.\n",
      "Try using .loc[row_indexer,col_indexer] = value instead\n",
      "\n",
      "See the caveats in the documentation: https://pandas.pydata.org/pandas-docs/stable/user_guide/indexing.html#returning-a-view-versus-a-copy\n",
      "  df['beans'] = df['Ingredients'].apply(test_beans)\n",
      "<ipython-input-6-44145c596bb1>:29: SettingWithCopyWarning: \n",
      "A value is trying to be set on a copy of a slice from a DataFrame.\n",
      "Try using .loc[row_indexer,col_indexer] = value instead\n",
      "\n",
      "See the caveats in the documentation: https://pandas.pydata.org/pandas-docs/stable/user_guide/indexing.html#returning-a-view-versus-a-copy\n",
      "  df['sugar'] = df['Ingredients'].apply(test_sugar)\n",
      "<ipython-input-6-44145c596bb1>:30: SettingWithCopyWarning: \n",
      "A value is trying to be set on a copy of a slice from a DataFrame.\n",
      "Try using .loc[row_indexer,col_indexer] = value instead\n",
      "\n",
      "See the caveats in the documentation: https://pandas.pydata.org/pandas-docs/stable/user_guide/indexing.html#returning-a-view-versus-a-copy\n",
      "  df['sweetner'] = df['Ingredients'].apply(test_sweetner)\n",
      "<ipython-input-6-44145c596bb1>:31: SettingWithCopyWarning: \n",
      "A value is trying to be set on a copy of a slice from a DataFrame.\n",
      "Try using .loc[row_indexer,col_indexer] = value instead\n",
      "\n",
      "See the caveats in the documentation: https://pandas.pydata.org/pandas-docs/stable/user_guide/indexing.html#returning-a-view-versus-a-copy\n",
      "  df['butter'] = df['Ingredients'].apply(test_butter)\n",
      "<ipython-input-6-44145c596bb1>:32: SettingWithCopyWarning: \n",
      "A value is trying to be set on a copy of a slice from a DataFrame.\n",
      "Try using .loc[row_indexer,col_indexer] = value instead\n",
      "\n",
      "See the caveats in the documentation: https://pandas.pydata.org/pandas-docs/stable/user_guide/indexing.html#returning-a-view-versus-a-copy\n",
      "  df['vanilla'] =df['Ingredients'].apply(test_vanilla)\n",
      "<ipython-input-6-44145c596bb1>:33: SettingWithCopyWarning: \n",
      "A value is trying to be set on a copy of a slice from a DataFrame.\n",
      "Try using .loc[row_indexer,col_indexer] = value instead\n",
      "\n",
      "See the caveats in the documentation: https://pandas.pydata.org/pandas-docs/stable/user_guide/indexing.html#returning-a-view-versus-a-copy\n",
      "  df['lecithin'] = df['Ingredients'].apply(test_lecithin)\n",
      "<ipython-input-6-44145c596bb1>:34: SettingWithCopyWarning: \n",
      "A value is trying to be set on a copy of a slice from a DataFrame.\n",
      "Try using .loc[row_indexer,col_indexer] = value instead\n",
      "\n",
      "See the caveats in the documentation: https://pandas.pydata.org/pandas-docs/stable/user_guide/indexing.html#returning-a-view-versus-a-copy\n",
      "  df['salt'] = df['Ingredients'].apply(test_salt)\n",
      "<ipython-input-6-44145c596bb1>:36: SettingWithCopyWarning: \n",
      "A value is trying to be set on a copy of a slice from a DataFrame.\n",
      "Try using .loc[row_indexer,col_indexer] = value instead\n",
      "\n",
      "See the caveats in the documentation: https://pandas.pydata.org/pandas-docs/stable/user_guide/indexing.html#returning-a-view-versus-a-copy\n",
      "  df['Cocoa Percent'] = df['Cocoa Percent'].str.rstrip('%').astype('float') / 100.0\n"
     ]
    }
   ],
   "source": [
    "#apply funtion\n",
    "df = data_clean(df,ohe)\n",
    "\n"
   ]
  },
  {
   "cell_type": "markdown",
   "metadata": {},
   "source": [
    "Prolem 1: rating is too spread out of a target and as such will be binned to try and decrease the target and increase model accuracy"
   ]
  },
  {
   "cell_type": "code",
   "execution_count": 10,
   "metadata": {},
   "outputs": [],
   "source": [
    "def biner(integer):\n",
    "    if integer < 1.5:\n",
    "        return 1.0\n",
    "    elif integer < 2.0:\n",
    "        return 1.5\n",
    "    elif integer < 2.5:\n",
    "        return 2.0\n",
    "    elif integer < 3.0:\n",
    "        return 2.5\n",
    "    elif integer < 3.5:\n",
    "        return 3.0\n",
    "    elif integer < 4.0:\n",
    "        return 3.5\n",
    "    else:\n",
    "        return 4.0 \n",
    "    "
   ]
  },
  {
   "cell_type": "code",
   "execution_count": 11,
   "metadata": {},
   "outputs": [],
   "source": [
    "df['Rating'] = df['Rating'].apply(biner)\n",
    "df['Rating'] = df['Rating'].astype(str)\n"
   ]
  },
  {
   "cell_type": "markdown",
   "metadata": {},
   "source": [
    "With rating binned, now to split and scale the data"
   ]
  },
  {
   "cell_type": "code",
   "execution_count": 17,
   "metadata": {},
   "outputs": [],
   "source": [
    "from sklearn.model_selection import train_test_split\n",
    "y= df['Rating']\n",
    "x = df.drop(['Rating'], axis=1)\n",
    "\n",
    "x_tr, x_test, y_tr, y_test = train_test_split(x,y, random_state=42)\n",
    "x_train, x_val, y_train, y_val = train_test_split(x_tr, y_tr, random_state=57)"
   ]
  },
  {
   "cell_type": "code",
   "execution_count": 18,
   "metadata": {},
   "outputs": [],
   "source": [
    "scaler = StandardScaler()\n",
    "#only df['Precipitation (millimeters)'] and df['Country_export'] need to be scaled\n",
    "scaled_features = df.copy()\n",
    "\n",
    "col_names = ['Precipitation (millimeters)','Country_export']\n",
    "features = scaled_features[col_names]\n",
    "scaler = StandardScaler().fit(features.values)\n",
    "features = scaler.transform(features.values)\n",
    "\n",
    "scaled_features[col_names] = features\n",
    "df = scaled_features"
   ]
  },
  {
   "cell_type": "markdown",
   "metadata": {},
   "source": [
    "Now to start using models with grid searches being used to try and optimize"
   ]
  },
  {
   "cell_type": "code",
   "execution_count": 17,
   "metadata": {},
   "outputs": [],
   "source": [
    "from sklearn.model_selection import GridSearchCV\n",
    "from sklearn.ensemble import RandomForestClassifier\n",
    "from sklearn.tree import DecisionTreeClassifier\n",
    "\n",
    "def modeling_function(model, X_train, y_train, X_val, y_val):\n",
    "\n",
    "    # fit model on training data\n",
    "    model.fit(X_train, y_train)\n",
    "\n",
    "    # make predictions on training and validation data\n",
    "    train_preds = model.predict(X_train)\n",
    "    val_preds = model.predict(X_val)\n",
    "\n",
    "    # Print accuracy score\n",
    "    print('Training accuracy: ', accuracy_score(y_train, train_preds))\n",
    "    print('Validation accuracy: ', accuracy_score(y_val, val_preds))\n",
    "\n",
    "    # return fitted model\n",
    "    return model\n",
    "\n"
   ]
  },
  {
   "cell_type": "code",
   "execution_count": 21,
   "metadata": {},
   "outputs": [
    {
     "name": "stdout",
     "output_type": "stream",
     "text": [
      "Training accuracy:  1.0\n",
      "Validation accuracy:  0.7493917274939172\n"
     ]
    },
    {
     "data": {
      "text/plain": [
       "DecisionTreeClassifier(random_state=2021)"
      ]
     },
     "execution_count": 21,
     "metadata": {},
     "output_type": "execute_result"
    }
   ],
   "source": [
    "dt = DecisionTreeClassifier(random_state=2021)\n",
    "\n",
    "modeling_function(dt, x_train, y_train, x_val, y_val)"
   ]
  },
  {
   "cell_type": "markdown",
   "metadata": {},
   "source": [
    "Overfit as expected of a decision tree, hopefully limitting the depth can help adress that"
   ]
  },
  {
   "cell_type": "code",
   "execution_count": 22,
   "metadata": {},
   "outputs": [
    {
     "name": "stdout",
     "output_type": "stream",
     "text": [
      "Training accuracy:  0.935098650051921\n",
      "Validation accuracy:  0.7907542579075426\n"
     ]
    },
    {
     "data": {
      "text/plain": [
       "DecisionTreeClassifier(max_depth=10, random_state=2021)"
      ]
     },
     "execution_count": 22,
     "metadata": {},
     "output_type": "execute_result"
    }
   ],
   "source": [
    "dt = DecisionTreeClassifier(random_state=2021, max_depth=10)\n",
    "\n",
    "modeling_function(dt,  x_train, y_train, x_val, y_val)"
   ]
  },
  {
   "cell_type": "markdown",
   "metadata": {},
   "source": [
    "Better but that accuracy is concerningly low, let's move on to a random forest and test the results, this time optimizing with a grid search"
   ]
  },
  {
   "cell_type": "code",
   "execution_count": 18,
   "metadata": {},
   "outputs": [
    {
     "data": {
      "text/plain": [
       "GridSearchCV(estimator=RandomForestClassifier(random_state=42),\n",
       "             param_grid={'max_depth': [1, 3, 5, 7, 10],\n",
       "                         'min_samples_leaf': [1, 2, 3, 4],\n",
       "                         'n_estimators': [21, 22, 23]})"
      ]
     },
     "execution_count": 18,
     "metadata": {},
     "output_type": "execute_result"
    }
   ],
   "source": [
    "param_grid = {'n_estimators': [21, 22, 23],\n",
    "                'max_depth': [1, 3, 5, 7, 10],\n",
    "                'min_samples_leaf': [1, 2, 3, 4]}\n",
    "\n",
    "rf = RandomForestClassifier(random_state=42)\n",
    "\n",
    "\n",
    "rf_gs = GridSearchCV(estimator=rf, param_grid=param_grid)\n",
    "rf_gs.fit(x_train, y_train)"
   ]
  },
  {
   "cell_type": "code",
   "execution_count": 24,
   "metadata": {},
   "outputs": [],
   "source": [
    "best_model = rf_gs.best_estimator_"
   ]
  },
  {
   "cell_type": "code",
   "execution_count": 25,
   "metadata": {},
   "outputs": [
    {
     "data": {
      "text/plain": [
       "{'max_depth': 10, 'min_samples_leaf': 4, 'n_estimators': 23}"
      ]
     },
     "execution_count": 25,
     "metadata": {},
     "output_type": "execute_result"
    }
   ],
   "source": [
    "#test params\n",
    "rf_gs.best_params_"
   ]
  },
  {
   "cell_type": "code",
   "execution_count": 27,
   "metadata": {},
   "outputs": [
    {
     "name": "stdout",
     "output_type": "stream",
     "text": [
      "Training accuracy:  0.6382806163828062\n",
      "Validation accuracy:  0.49391727493917276\n"
     ]
    },
    {
     "data": {
      "text/plain": [
       "RandomForestClassifier(max_depth=10, min_samples_leaf=4, n_estimators=23,\n",
       "                       random_state=42)"
      ]
     },
     "execution_count": 27,
     "metadata": {},
     "output_type": "execute_result"
    }
   ],
   "source": [
    "modeling_function(best_model,x_train, y_train, x_val, y_val)"
   ]
  },
  {
   "cell_type": "markdown",
   "metadata": {},
   "source": [
    "Definently not great just in terms of pure accuracy, let's move on to some other models and see if they can improve things"
   ]
  },
  {
   "cell_type": "code",
   "execution_count": 28,
   "metadata": {},
   "outputs": [
    {
     "name": "stderr",
     "output_type": "stream",
     "text": [
      "/opt/anaconda3/envs/learn-env/lib/python3.8/site-packages/sklearn/model_selection/_split.py:670: UserWarning: The least populated class in y has only 1 members, which is less than n_splits=5.\n",
      "  warnings.warn((\"The least populated class in y has only %d\"\n"
     ]
    },
    {
     "data": {
      "text/plain": [
       "GridSearchCV(estimator=KNeighborsClassifier(),\n",
       "             param_grid={'algorithm': ['ball_tree', 'kd_tree', 'brute'],\n",
       "                         'leaf_size': [1, 2, 3, 4],\n",
       "                         'n_neighbors': [30, 31, 32, 33, 34], 'p': [1, 2],\n",
       "                         'weights': ['uniform']},\n",
       "             scoring='accuracy')"
      ]
     },
     "execution_count": 28,
     "metadata": {},
     "output_type": "execute_result"
    }
   ],
   "source": [
    "from sklearn.neighbors import KNeighborsClassifier\n",
    "from sklearn.model_selection import GridSearchCV\n",
    "\n",
    "GS_KNN = KNeighborsClassifier()\n",
    "\n",
    "#tried wieghts distance, lead to overfitting so it's been removed as an option\n",
    "pram_grid = {'n_neighbors': [30,31,32,33,34], 'weights' : ['uniform'], 'algorithm':['ball_tree','kd_tree','brute'],'leaf_size':[1,2,3,4],'p':[1,2]}\n",
    "\n",
    "GSCV = GridSearchCV(GS_KNN,pram_grid,scoring = 'accuracy')\n",
    "\n",
    "GSCV.fit(x_train,y_train)"
   ]
  },
  {
   "cell_type": "code",
   "execution_count": 29,
   "metadata": {},
   "outputs": [
    {
     "name": "stdout",
     "output_type": "stream",
     "text": [
      "0.4282238442822384\n",
      "0.35523114355231145\n"
     ]
    }
   ],
   "source": [
    "train_pred = GSCV.predict(x_train)\n",
    "val_pred = GSCV.predict(x_val)\n",
    "\n",
    "\n",
    "train_acc = accuracy_score(y_train,train_pred)\n",
    "val_acc = accuracy_score(y_val,val_pred)\n",
    "\n",
    "print(train_acc)\n",
    "print(val_acc)"
   ]
  },
  {
   "cell_type": "markdown",
   "metadata": {},
   "source": [
    "Hm, not great either we're going to need to over haul our strategy. Instead of bining into 7 let's just switch to binary results, 3.0 and above or not.\n",
    "\n",
    "Also opun review accuracy may not be the best metric, given the danger of miss intesting we'll switch to precision instead. In addition let's bring in a new type of model, the support vector machine, and give it a try"
   ]
  },
  {
   "cell_type": "markdown",
   "metadata": {},
   "source": [
    "First we need to reclean data for the new binning strategy"
   ]
  },
  {
   "cell_type": "code",
   "execution_count": 9,
   "metadata": {},
   "outputs": [
    {
     "name": "stdout",
     "output_type": "stream",
     "text": [
      "      REF Company (Manufacturer) Company Location  Review Date  \\\n",
      "0       5          Jacque Torres           U.S.A.         2006   \n",
      "1      15    Neuhaus (Callebaut)          Belgium         2006   \n",
      "2      15    Neuhaus (Callebaut)          Belgium         2006   \n",
      "3      15       Scharffen Berger           U.S.A.         2006   \n",
      "4      15       Scharffen Berger           U.S.A.         2006   \n",
      "...   ...                    ...              ...          ...   \n",
      "2357  995            Bahen & Co.        Australia         2012   \n",
      "2358  999          Mast Brothers           U.S.A.         2012   \n",
      "2359  999          Mast Brothers           U.S.A.         2012   \n",
      "2360  999            Bahen & Co.        Australia         2012   \n",
      "2361  999            Bahen & Co.        Australia         2012   \n",
      "\n",
      "     Country of Bean Origin Specific Bean Origin or Bar Name Cocoa Percent  \\\n",
      "0                     Ghana              Trinatario Treasure           71%   \n",
      "1                  Sao Tome                         Sao Tome           75%   \n",
      "2                     Blend                      West Africa           73%   \n",
      "3                     Blend                      Bittersweet           70%   \n",
      "4                     Blend                       Extra Dark           82%   \n",
      "...                     ...                              ...           ...   \n",
      "2357             Madagascar                        Sambirano           70%   \n",
      "2358              Venezuela                            Chuao           73%   \n",
      "2359                  Blend                       Madagascar           72%   \n",
      "2360                 Brazil                            Bahia           70%   \n",
      "2361                  Blend                       Houseblend           70%   \n",
      "\n",
      "       Ingredients Most Memorable Characteristics  Rating  Country_export  \n",
      "0     5- B,S,C,V,L   gritty, unrefined, off notes    2.00    1.390101e+09  \n",
      "1     5- B,S,C,V,L          grassy, earthy, burnt    2.75    3.141521e+09  \n",
      "2     5- B,S,C,V,L  non descript, poor aftertaste    2.00    3.141521e+09  \n",
      "3     5- B,S,C,V,L            cherry, mild bitter    3.50    1.390101e+09  \n",
      "4     5- B,S,C,V,L   dry, bitter, poor aftertaste    2.00    1.390101e+09  \n",
      "...            ...                            ...     ...             ...  \n",
      "2357        2- B,S        unrefined, flat, grassy    3.00    2.407290e+08  \n",
      "2358        2- B,S            gritty, sour, sweet    2.75    1.390101e+09  \n",
      "2359        2- B,S      gritty, overly tart, sour    2.50    1.390101e+09  \n",
      "2360        2- B,S      chalky, intense, chemical    2.50    2.407290e+08  \n",
      "2361        2- B,S     chalky, fragrant, then off    2.50    2.407290e+08  \n",
      "\n",
      "[2362 rows x 11 columns]\n",
      "        REF  Cocoa Percent  Rating  Country_export   Latitude  Longitude  \\\n",
      "0       5.0           0.71    2.00    1.390101e+09   7.946527  -1.023194   \n",
      "1      15.0           0.75    2.75    3.141521e+09   0.186360   6.613081   \n",
      "2      15.0           0.73    2.00    3.141521e+09   5.860000   3.303000   \n",
      "3      15.0           0.70    3.50    1.390101e+09   5.860000   3.303000   \n",
      "4      15.0           0.82    2.00    1.390101e+09   5.860000   3.303000   \n",
      "...     ...            ...     ...             ...        ...        ...   \n",
      "2357  995.0           0.70    3.00    2.407290e+08 -18.766947  46.869107   \n",
      "2358  999.0           0.73    2.75    1.390101e+09   6.423750 -66.589730   \n",
      "2359  999.0           0.72    2.50    1.390101e+09   5.860000   3.303000   \n",
      "2360  999.0           0.70    2.50    2.407290e+08 -14.235004 -51.925280   \n",
      "2361  999.0           0.70    2.50    2.407290e+08   5.860000   3.303000   \n",
      "\n",
      "      Temperature (Celsius)  Precipitation (millimeters)  fruity  honey  ...  \\\n",
      "0                    27.250                      1184.94     0.0    0.0  ...   \n",
      "1                    27.000                      1382.00     0.0    0.0  ...   \n",
      "2                    24.646                      1935.22     0.0    0.0  ...   \n",
      "3                    24.646                      1935.22     0.0    0.0  ...   \n",
      "4                    24.646                      1935.22     0.0    0.0  ...   \n",
      "...                     ...                          ...     ...    ...  ...   \n",
      "2357                 22.010                      1475.68     0.0    0.0  ...   \n",
      "2358                 25.320                      1957.65     0.0    0.0  ...   \n",
      "2359                 24.646                      1935.22     0.0    0.0  ...   \n",
      "2360                 24.920                      1762.97     0.0    0.0  ...   \n",
      "2361                 24.646                      1935.22     0.0    0.0  ...   \n",
      "\n",
      "      x1_Tanzania  x1_Thailand  x1_Tobago  x1_Togo  x1_Trinidad  x1_U.S.A.  \\\n",
      "0             0.0          0.0        0.0      0.0          0.0        0.0   \n",
      "1             0.0          0.0        0.0      0.0          0.0        0.0   \n",
      "2             0.0          0.0        0.0      0.0          0.0        0.0   \n",
      "3             0.0          0.0        0.0      0.0          0.0        0.0   \n",
      "4             0.0          0.0        0.0      0.0          0.0        0.0   \n",
      "...           ...          ...        ...      ...          ...        ...   \n",
      "2357          NaN          NaN        NaN      NaN          NaN        NaN   \n",
      "2358          NaN          NaN        NaN      NaN          NaN        NaN   \n",
      "2359          NaN          NaN        NaN      NaN          NaN        NaN   \n",
      "2360          NaN          NaN        NaN      NaN          NaN        NaN   \n",
      "2361          NaN          NaN        NaN      NaN          NaN        NaN   \n",
      "\n",
      "      x1_Uganda  x1_Vanuatu  x1_Venezuela  x1_Vietnam  \n",
      "0           0.0         0.0           0.0         0.0  \n",
      "1           0.0         0.0           0.0         0.0  \n",
      "2           0.0         0.0           0.0         0.0  \n",
      "3           0.0         0.0           0.0         0.0  \n",
      "4           0.0         0.0           0.0         0.0  \n",
      "...         ...         ...           ...         ...  \n",
      "2357        NaN         NaN           NaN         NaN  \n",
      "2358        NaN         NaN           NaN         NaN  \n",
      "2359        NaN         NaN           NaN         NaN  \n",
      "2360        NaN         NaN           NaN         NaN  \n",
      "2361        NaN         NaN           NaN         NaN  \n",
      "\n",
      "[2355 rows x 156 columns]\n"
     ]
    },
    {
     "name": "stderr",
     "output_type": "stream",
     "text": [
      "<ipython-input-6-44145c596bb1>:9: SettingWithCopyWarning: \n",
      "A value is trying to be set on a copy of a slice from a DataFrame.\n",
      "Try using .loc[row_indexer,col_indexer] = value instead\n",
      "\n",
      "See the caveats in the documentation: https://pandas.pydata.org/pandas-docs/stable/user_guide/indexing.html#returning-a-view-versus-a-copy\n",
      "  df['Latitude'] = df[\"Country of Bean Origin\"].apply(lat)\n",
      "<ipython-input-6-44145c596bb1>:10: SettingWithCopyWarning: \n",
      "A value is trying to be set on a copy of a slice from a DataFrame.\n",
      "Try using .loc[row_indexer,col_indexer] = value instead\n",
      "\n",
      "See the caveats in the documentation: https://pandas.pydata.org/pandas-docs/stable/user_guide/indexing.html#returning-a-view-versus-a-copy\n",
      "  df['Longitude'] = df[\"Country of Bean Origin\"].apply(long)\n",
      "<ipython-input-6-44145c596bb1>:11: SettingWithCopyWarning: \n",
      "A value is trying to be set on a copy of a slice from a DataFrame.\n",
      "Try using .loc[row_indexer,col_indexer] = value instead\n",
      "\n",
      "See the caveats in the documentation: https://pandas.pydata.org/pandas-docs/stable/user_guide/indexing.html#returning-a-view-versus-a-copy\n",
      "  df['Temperature (Celsius)'] = df[\"Country of Bean Origin\"].apply(temp)\n",
      "<ipython-input-6-44145c596bb1>:12: SettingWithCopyWarning: \n",
      "A value is trying to be set on a copy of a slice from a DataFrame.\n",
      "Try using .loc[row_indexer,col_indexer] = value instead\n",
      "\n",
      "See the caveats in the documentation: https://pandas.pydata.org/pandas-docs/stable/user_guide/indexing.html#returning-a-view-versus-a-copy\n",
      "  df['Precipitation (millimeters)'] = df[\"Country of Bean Origin\"].apply(precipitation)\n",
      "<ipython-input-6-44145c596bb1>:14: SettingWithCopyWarning: \n",
      "A value is trying to be set on a copy of a slice from a DataFrame.\n",
      "Try using .loc[row_indexer,col_indexer] = value instead\n",
      "\n",
      "See the caveats in the documentation: https://pandas.pydata.org/pandas-docs/stable/user_guide/indexing.html#returning-a-view-versus-a-copy\n",
      "  df['fruity'] = df['Most Memorable Characteristics'].apply(test_fruity)\n",
      "<ipython-input-6-44145c596bb1>:15: SettingWithCopyWarning: \n",
      "A value is trying to be set on a copy of a slice from a DataFrame.\n",
      "Try using .loc[row_indexer,col_indexer] = value instead\n",
      "\n",
      "See the caveats in the documentation: https://pandas.pydata.org/pandas-docs/stable/user_guide/indexing.html#returning-a-view-versus-a-copy\n",
      "  df['honey'] = df['Most Memorable Characteristics'].apply(test_honey)\n",
      "<ipython-input-6-44145c596bb1>:16: SettingWithCopyWarning: \n",
      "A value is trying to be set on a copy of a slice from a DataFrame.\n",
      "Try using .loc[row_indexer,col_indexer] = value instead\n",
      "\n",
      "See the caveats in the documentation: https://pandas.pydata.org/pandas-docs/stable/user_guide/indexing.html#returning-a-view-versus-a-copy\n",
      "  df['spice'] = df['Most Memorable Characteristics'].apply(test_spice)\n",
      "<ipython-input-6-44145c596bb1>:17: SettingWithCopyWarning: \n",
      "A value is trying to be set on a copy of a slice from a DataFrame.\n",
      "Try using .loc[row_indexer,col_indexer] = value instead\n",
      "\n",
      "See the caveats in the documentation: https://pandas.pydata.org/pandas-docs/stable/user_guide/indexing.html#returning-a-view-versus-a-copy\n",
      "  df['sour'] = df['Most Memorable Characteristics'].apply(test_sour)\n",
      "<ipython-input-6-44145c596bb1>:18: SettingWithCopyWarning: \n",
      "A value is trying to be set on a copy of a slice from a DataFrame.\n",
      "Try using .loc[row_indexer,col_indexer] = value instead\n",
      "\n",
      "See the caveats in the documentation: https://pandas.pydata.org/pandas-docs/stable/user_guide/indexing.html#returning-a-view-versus-a-copy\n",
      "  df['nut'] = df['Most Memorable Characteristics'].apply(test_nut)\n",
      "<ipython-input-6-44145c596bb1>:19: SettingWithCopyWarning: \n",
      "A value is trying to be set on a copy of a slice from a DataFrame.\n",
      "Try using .loc[row_indexer,col_indexer] = value instead\n",
      "\n",
      "See the caveats in the documentation: https://pandas.pydata.org/pandas-docs/stable/user_guide/indexing.html#returning-a-view-versus-a-copy\n",
      "  df['berry'] = df['Most Memorable Characteristics'].apply(test_berry)\n",
      "<ipython-input-6-44145c596bb1>:20: SettingWithCopyWarning: \n",
      "A value is trying to be set on a copy of a slice from a DataFrame.\n",
      "Try using .loc[row_indexer,col_indexer] = value instead\n",
      "\n",
      "See the caveats in the documentation: https://pandas.pydata.org/pandas-docs/stable/user_guide/indexing.html#returning-a-view-versus-a-copy\n",
      "  df['creamy'] = df['Most Memorable Characteristics'].apply(test_creamy)\n",
      "<ipython-input-6-44145c596bb1>:21: SettingWithCopyWarning: \n",
      "A value is trying to be set on a copy of a slice from a DataFrame.\n",
      "Try using .loc[row_indexer,col_indexer] = value instead\n",
      "\n",
      "See the caveats in the documentation: https://pandas.pydata.org/pandas-docs/stable/user_guide/indexing.html#returning-a-view-versus-a-copy\n",
      "  df['floral'] = df['Most Memorable Characteristics'].apply(test_floral)\n",
      "<ipython-input-6-44145c596bb1>:22: SettingWithCopyWarning: \n",
      "A value is trying to be set on a copy of a slice from a DataFrame.\n",
      "Try using .loc[row_indexer,col_indexer] = value instead\n",
      "\n",
      "See the caveats in the documentation: https://pandas.pydata.org/pandas-docs/stable/user_guide/indexing.html#returning-a-view-versus-a-copy\n",
      "  df['smokey'] = df['Most Memorable Characteristics'].apply(test_smokey)\n",
      "<ipython-input-6-44145c596bb1>:23: SettingWithCopyWarning: \n",
      "A value is trying to be set on a copy of a slice from a DataFrame.\n",
      "Try using .loc[row_indexer,col_indexer] = value instead\n",
      "\n",
      "See the caveats in the documentation: https://pandas.pydata.org/pandas-docs/stable/user_guide/indexing.html#returning-a-view-versus-a-copy\n",
      "  df['bad'] = df['Most Memorable Characteristics'].apply(test_bad)\n",
      "<ipython-input-6-44145c596bb1>:24: SettingWithCopyWarning: \n",
      "A value is trying to be set on a copy of a slice from a DataFrame.\n",
      "Try using .loc[row_indexer,col_indexer] = value instead\n",
      "\n",
      "See the caveats in the documentation: https://pandas.pydata.org/pandas-docs/stable/user_guide/indexing.html#returning-a-view-versus-a-copy\n",
      "  df['sweet'] = df['Most Memorable Characteristics'].apply(test_sweet)\n",
      "<ipython-input-6-44145c596bb1>:25: SettingWithCopyWarning: \n",
      "A value is trying to be set on a copy of a slice from a DataFrame.\n",
      "Try using .loc[row_indexer,col_indexer] = value instead\n",
      "\n",
      "See the caveats in the documentation: https://pandas.pydata.org/pandas-docs/stable/user_guide/indexing.html#returning-a-view-versus-a-copy\n",
      "  df['coffee'] = df['Most Memorable Characteristics'].apply(test_coffee)\n",
      "<ipython-input-6-44145c596bb1>:27: SettingWithCopyWarning: \n",
      "A value is trying to be set on a copy of a slice from a DataFrame.\n",
      "Try using .loc[row_indexer,col_indexer] = value instead\n",
      "\n",
      "See the caveats in the documentation: https://pandas.pydata.org/pandas-docs/stable/user_guide/indexing.html#returning-a-view-versus-a-copy\n",
      "  df['num_ingred'] = df['Ingredients'].apply(test_num)\n",
      "<ipython-input-6-44145c596bb1>:28: SettingWithCopyWarning: \n",
      "A value is trying to be set on a copy of a slice from a DataFrame.\n",
      "Try using .loc[row_indexer,col_indexer] = value instead\n",
      "\n",
      "See the caveats in the documentation: https://pandas.pydata.org/pandas-docs/stable/user_guide/indexing.html#returning-a-view-versus-a-copy\n",
      "  df['beans'] = df['Ingredients'].apply(test_beans)\n",
      "<ipython-input-6-44145c596bb1>:29: SettingWithCopyWarning: \n",
      "A value is trying to be set on a copy of a slice from a DataFrame.\n",
      "Try using .loc[row_indexer,col_indexer] = value instead\n",
      "\n",
      "See the caveats in the documentation: https://pandas.pydata.org/pandas-docs/stable/user_guide/indexing.html#returning-a-view-versus-a-copy\n",
      "  df['sugar'] = df['Ingredients'].apply(test_sugar)\n",
      "<ipython-input-6-44145c596bb1>:30: SettingWithCopyWarning: \n",
      "A value is trying to be set on a copy of a slice from a DataFrame.\n",
      "Try using .loc[row_indexer,col_indexer] = value instead\n",
      "\n",
      "See the caveats in the documentation: https://pandas.pydata.org/pandas-docs/stable/user_guide/indexing.html#returning-a-view-versus-a-copy\n",
      "  df['sweetner'] = df['Ingredients'].apply(test_sweetner)\n",
      "<ipython-input-6-44145c596bb1>:31: SettingWithCopyWarning: \n",
      "A value is trying to be set on a copy of a slice from a DataFrame.\n",
      "Try using .loc[row_indexer,col_indexer] = value instead\n",
      "\n",
      "See the caveats in the documentation: https://pandas.pydata.org/pandas-docs/stable/user_guide/indexing.html#returning-a-view-versus-a-copy\n",
      "  df['butter'] = df['Ingredients'].apply(test_butter)\n",
      "<ipython-input-6-44145c596bb1>:32: SettingWithCopyWarning: \n",
      "A value is trying to be set on a copy of a slice from a DataFrame.\n",
      "Try using .loc[row_indexer,col_indexer] = value instead\n",
      "\n",
      "See the caveats in the documentation: https://pandas.pydata.org/pandas-docs/stable/user_guide/indexing.html#returning-a-view-versus-a-copy\n",
      "  df['vanilla'] =df['Ingredients'].apply(test_vanilla)\n",
      "<ipython-input-6-44145c596bb1>:33: SettingWithCopyWarning: \n",
      "A value is trying to be set on a copy of a slice from a DataFrame.\n",
      "Try using .loc[row_indexer,col_indexer] = value instead\n",
      "\n",
      "See the caveats in the documentation: https://pandas.pydata.org/pandas-docs/stable/user_guide/indexing.html#returning-a-view-versus-a-copy\n",
      "  df['lecithin'] = df['Ingredients'].apply(test_lecithin)\n",
      "<ipython-input-6-44145c596bb1>:34: SettingWithCopyWarning: \n",
      "A value is trying to be set on a copy of a slice from a DataFrame.\n",
      "Try using .loc[row_indexer,col_indexer] = value instead\n",
      "\n",
      "See the caveats in the documentation: https://pandas.pydata.org/pandas-docs/stable/user_guide/indexing.html#returning-a-view-versus-a-copy\n",
      "  df['salt'] = df['Ingredients'].apply(test_salt)\n",
      "<ipython-input-6-44145c596bb1>:36: SettingWithCopyWarning: \n",
      "A value is trying to be set on a copy of a slice from a DataFrame.\n",
      "Try using .loc[row_indexer,col_indexer] = value instead\n",
      "\n",
      "See the caveats in the documentation: https://pandas.pydata.org/pandas-docs/stable/user_guide/indexing.html#returning-a-view-versus-a-copy\n",
      "  df['Cocoa Percent'] = df['Cocoa Percent'].str.rstrip('%').astype('float') / 100.0\n"
     ]
    }
   ],
   "source": [
    "df = pd.read_csv('../data/chocolate.csv')\n",
    "ohe_cols = ['Company Location', 'Country of Bean Origin']\n",
    "\n",
    "ohe = OneHotEncoder(sparse=False)\n",
    "ohe.fit(df[ohe_cols])\n",
    "\n",
    "df = data_clean(df,ohe)\n",
    "\n"
   ]
  },
  {
   "cell_type": "code",
   "execution_count": 10,
   "metadata": {},
   "outputs": [
    {
     "data": {
      "text/plain": [
       "1    1702\n",
       "0     491\n",
       "Name: Rating, dtype: int64"
      ]
     },
     "execution_count": 10,
     "metadata": {},
     "output_type": "execute_result"
    }
   ],
   "source": [
    "def binarizer2(integer):\n",
    "    if integer < 3.0:\n",
    "        return 0\n",
    "    else:\n",
    "        return 1\n",
    "    \n",
    "df['Rating'] = df['Rating'].apply(binarizer2)\n",
    "\n",
    "df['Rating'].value_counts()"
   ]
  },
  {
   "cell_type": "markdown",
   "metadata": {},
   "source": [
    "Binned, now for train test split and scaling"
   ]
  },
  {
   "cell_type": "code",
   "execution_count": 11,
   "metadata": {},
   "outputs": [],
   "source": [
    "from sklearn.model_selection import train_test_split\n",
    "y= df['Rating']\n",
    "x = df.drop(['Rating'], axis=1)\n",
    "\n",
    "x_tr, x_test, y_tr, y_test = train_test_split(x,y, random_state=42)\n",
    "x_train, x_val, y_train, y_val = train_test_split(x_tr, y_tr, random_state=57)"
   ]
  },
  {
   "cell_type": "code",
   "execution_count": 12,
   "metadata": {},
   "outputs": [],
   "source": [
    "scaler = StandardScaler()\n",
    "#only df['Precipitation (millimeters)'] and df['Country_export'] need to be scaled\n",
    "scaled_features = df.copy()\n",
    "\n",
    "col_names = ['Precipitation (millimeters)','Country_export']\n",
    "features = scaled_features[col_names]\n",
    "scaler = StandardScaler().fit(features.values)\n",
    "features = scaler.transform(features.values)\n",
    "\n",
    "scaled_features[col_names] = features\n",
    "df = scaled_features"
   ]
  },
  {
   "cell_type": "markdown",
   "metadata": {},
   "source": [
    "Now for the model."
   ]
  },
  {
   "cell_type": "code",
   "execution_count": null,
   "metadata": {},
   "outputs": [],
   "source": [
    "from sklearn.svm import SVC\n",
    "from sklearn.model_selection import GridSearchCV\n",
    "\n",
    "GS_SCV = SVC()\n",
    "\n",
    "#tried wieghts distance, lead to overfitting so it's been removed as an option\n",
    "pram_grid = {'C': [0.25,0.5,0.1], 'kernel' : ['linear','poly','rbf','sigmoid'],'gamma':['scale','auto'], 'degree':[1,2,3,4,5], 'max_iter':[1000000]}\n",
    "\n",
    "GSCV = GridSearchCV(GS_SCV,pram_grid,scoring = 'precision')\n",
    "\n",
    "GSCV.fit(x_train,y_train)"
   ]
  },
  {
   "cell_type": "code",
   "execution_count": null,
   "metadata": {},
   "outputs": [],
   "source": [
    "GSCV.best_params_"
   ]
  },
  {
   "cell_type": "code",
   "execution_count": null,
   "metadata": {},
   "outputs": [],
   "source": [
    "\n",
    "train_pred = GSCV.predict(x_train)\n",
    "val_pred = GSCV.predict(x_val)\n",
    "from sklearn.metrics import precision_score\n",
    "\n",
    "train_precision = precision_score(y_train,train_pred)\n",
    "val_precision = precision_score(y_val,val_pred)\n",
    "\n",
    "print(train_precision)\n",
    "print(val_precision)"
   ]
  },
  {
   "cell_type": "markdown",
   "metadata": {},
   "source": [
    "Huh, pretty good, but there is a class imbalance with the new bining so let's introduce smote and try again, for time we'll just reuse the hyper parameters"
   ]
  },
  {
   "cell_type": "code",
   "execution_count": 13,
   "metadata": {},
   "outputs": [],
   "source": [
    "from imblearn.over_sampling import SMOTE\n",
    "\n",
    "smote = SMOTE()\n",
    "x_train, y_train = smote.fit_sample(x_train, y_train) "
   ]
  },
  {
   "cell_type": "code",
   "execution_count": 37,
   "metadata": {},
   "outputs": [
    {
     "name": "stderr",
     "output_type": "stream",
     "text": [
      "/opt/anaconda3/envs/learn-env/lib/python3.8/site-packages/sklearn/svm/_base.py:246: ConvergenceWarning: Solver terminated early (max_iter=1000000).  Consider pre-processing your data with StandardScaler or MinMaxScaler.\n",
      "  warnings.warn('Solver terminated early (max_iter=%i).'\n"
     ]
    },
    {
     "data": {
      "text/plain": [
       "SVC(C=0.25, degree=1, gamma='auto', kernel='poly', max_iter=1000000)"
      ]
     },
     "execution_count": 37,
     "metadata": {},
     "output_type": "execute_result"
    }
   ],
   "source": [
    "from sklearn.svm import SVC\n",
    "\n",
    "\n",
    "svm = SVC(C = 0.25, kernel = 'poly',degree = 1,gamma = 'auto', max_iter=1000000 )\n",
    "\n",
    "svm.fit(x_train,y_train)"
   ]
  },
  {
   "cell_type": "code",
   "execution_count": 38,
   "metadata": {},
   "outputs": [
    {
     "data": {
      "text/plain": [
       "array([0, 0, 0, 0, 0, 0, 0, 0, 0, 0, 0, 0, 0, 0, 0, 0, 0, 0, 0, 0, 0, 0,\n",
       "       0, 0, 0, 0, 0, 0, 0, 0, 0, 0, 0, 0, 0, 0, 0, 0, 0, 0, 0, 0, 0, 0,\n",
       "       0, 0, 0, 0, 0, 0, 0, 0, 0, 0, 0, 0, 0, 0, 0, 0, 0, 0, 0, 0, 0, 0,\n",
       "       0, 0, 0, 0, 0, 0, 0, 0, 0, 0, 0, 0, 0, 0, 0, 0, 0, 0, 0, 0, 0, 0,\n",
       "       0, 0, 0, 0, 0, 0, 0, 0, 0, 0, 0, 0, 0, 0, 0, 0, 0, 0, 0, 0, 0, 0,\n",
       "       0, 0, 0, 0, 0, 0, 0, 0, 0, 0, 0, 0, 0, 0, 0, 0, 0, 0, 0, 0, 0, 0,\n",
       "       0, 0, 0, 0, 0, 0, 0, 0, 0, 0, 0, 0, 0, 0, 0, 0, 0, 0, 0, 0, 0, 0,\n",
       "       0, 0, 0, 0, 0, 0, 0, 0, 0, 0, 0, 0, 0, 0, 0, 0, 0, 0, 0, 0, 0, 0,\n",
       "       0, 0, 0, 0, 0, 0, 0, 0, 0, 0, 0, 0, 0, 0, 0, 0, 0, 0, 0, 0, 0, 0,\n",
       "       0, 0, 0, 0, 0, 0, 0, 0, 0, 0, 0, 0, 0, 0, 0, 0, 0, 0, 0, 0, 0, 0,\n",
       "       0, 0, 0, 0, 0, 0, 0, 0, 0, 0, 0, 0, 0, 0, 0, 0, 0, 0, 0, 0, 0, 0,\n",
       "       0, 0, 0, 0, 0, 0, 0, 0, 0, 0, 0, 0, 0, 0, 0, 0, 0, 0, 0, 0, 0, 0,\n",
       "       0, 0, 0, 0, 0, 0, 0, 0, 0, 0, 0, 0, 0, 0, 0, 0, 0, 0, 0, 0, 0, 0,\n",
       "       0, 0, 0, 0, 0, 0, 0, 0, 0, 0, 0, 0, 0, 0, 0, 0, 0, 0, 0, 0, 0, 0,\n",
       "       0, 0, 0, 0, 0, 0, 0, 0, 0, 0, 0, 0, 0, 0, 0, 0, 0, 0, 0, 0, 0, 0,\n",
       "       0, 0, 0, 0, 0, 0, 0, 0, 0, 0, 0, 0, 0, 0, 0, 0, 0, 0, 0, 0, 0, 0,\n",
       "       0, 0, 0, 0, 0, 0, 0, 0, 0, 0, 0, 0, 0, 0, 0, 0, 0, 0, 0, 0, 0, 0,\n",
       "       0, 0, 0, 0, 0, 0, 0, 0, 0, 0, 0, 0, 0, 0, 0, 0, 0, 0, 0, 0, 0, 0,\n",
       "       0, 0, 0, 0, 0, 0, 0, 0, 0, 0, 0, 0, 0, 0, 0, 0, 0, 0, 0, 0, 0, 0,\n",
       "       0, 0, 0, 0, 0, 0, 0, 0, 0, 0, 0, 0, 0, 0, 0, 0, 0, 0, 0, 0, 0, 0,\n",
       "       0, 0, 0, 0, 0, 0, 0, 0, 0, 0, 0, 0, 0, 0, 0, 0, 0, 0, 0, 0, 0, 0,\n",
       "       0, 0, 0, 0, 0, 0, 0, 0, 0, 0, 0, 0, 0, 0, 0, 0, 0, 0, 0, 0, 0, 0,\n",
       "       0, 0, 0, 0, 0, 0, 0, 0, 0, 0, 0, 0, 0, 0, 0, 0, 0, 0, 0, 0, 0, 0,\n",
       "       0, 0, 0, 0, 0, 0, 0, 0, 0, 0, 0, 0, 0, 0, 0, 0, 0, 0, 0, 0, 0, 0,\n",
       "       0, 0, 0, 0, 0, 0, 0, 0, 0, 0, 0, 0, 0, 0, 0, 0, 0, 0, 0, 0, 0, 0,\n",
       "       0, 0, 0, 0, 0, 0, 0, 0, 0, 0, 0, 0, 0, 0, 0, 0, 0, 0, 0, 0, 0, 0,\n",
       "       0, 0, 0, 0, 0, 0, 0, 0, 0, 0, 0, 0, 0, 0, 0, 0, 0, 0, 0, 0, 0, 0,\n",
       "       0, 0, 0, 0, 0, 0, 0, 0, 0, 0, 0, 0, 0, 0, 0, 0, 0, 0, 0, 0, 0, 0,\n",
       "       0, 0, 0, 0, 0, 0, 0, 0, 0, 0, 0, 0, 0, 0, 0, 0, 0, 0, 0, 0, 0, 0,\n",
       "       0, 0, 0, 0, 0, 0, 0, 0, 0, 0, 0, 0, 0, 0, 0, 0, 0, 0, 0, 0, 0, 0,\n",
       "       0, 0, 0, 0, 0, 0, 0, 0, 0, 0, 0, 0, 0, 0, 0, 0, 0, 0, 0, 0, 0, 0,\n",
       "       0, 0, 0, 0, 0, 0, 0, 0, 0, 0, 0, 0, 0, 0, 0, 0, 0, 0, 0, 0, 0, 0,\n",
       "       0, 0, 0, 0, 0, 0, 0, 0, 0, 0, 0, 0, 0, 0, 0, 0, 0, 0, 0, 0, 0, 0,\n",
       "       0, 0, 0, 0, 0, 0, 0, 0, 0, 0, 0, 0, 0, 0, 0, 0, 0, 0, 0, 0, 0, 0,\n",
       "       0, 0, 0, 0, 0, 0, 0, 0, 0, 0, 0, 0, 0, 0, 0, 0, 0, 0, 0, 0, 0, 0,\n",
       "       0, 0, 0, 0, 0, 0, 0, 0, 0, 0, 0, 0, 0, 0, 0, 0, 0, 0, 0, 0, 0, 0,\n",
       "       0, 0, 0, 0, 0, 0, 0, 0, 0, 0, 0, 0, 0, 0, 0, 0, 0, 0, 0, 0, 0, 0,\n",
       "       0, 0, 0, 0, 0, 0, 0, 0, 0, 0, 0, 0, 0, 0, 0, 0, 0, 0, 0, 0, 0, 0,\n",
       "       0, 0, 0, 0, 0, 0, 0, 0, 0, 0, 0, 0, 0, 0, 0, 0, 0, 0, 0, 0, 0, 0,\n",
       "       0, 0, 0, 0, 0, 0, 0, 0, 0, 0, 0, 0, 0, 0, 0, 0, 0, 0, 0, 0, 0, 0,\n",
       "       0, 0, 0, 0, 0, 0, 0, 0, 0, 0, 0, 0, 0, 0, 0, 0, 0, 0, 0, 0, 0, 0,\n",
       "       0, 0, 0, 0, 0, 0, 0, 0, 0, 0, 0, 0, 0, 0, 0, 0, 0, 0, 0, 0, 0, 0,\n",
       "       0, 0, 0, 0, 0, 0, 0, 0, 0, 0, 0, 0, 0, 0, 0, 0, 0, 0, 0, 0, 0, 0,\n",
       "       0, 0, 0, 0, 0, 0, 0, 0, 0, 0, 0, 0, 0, 0, 0, 0, 0, 0, 0, 0, 0, 0,\n",
       "       0, 0, 0, 0, 0, 0, 0, 0, 0, 0, 0, 0, 0, 0, 0, 0, 0, 0, 0, 0, 0, 0,\n",
       "       0, 0, 0, 0, 0, 0, 0, 0, 0, 0, 0, 0, 0, 0, 0, 0, 0, 0, 0, 0, 0, 0,\n",
       "       0, 0, 0, 0, 0, 0, 0, 0, 0, 0, 0, 0, 0, 0, 0, 0, 0, 0, 0, 0, 0, 0,\n",
       "       0, 0, 0, 0, 0, 0, 0, 0, 0, 0, 0, 0, 0, 0, 0, 0, 0, 0, 0, 0, 0, 0,\n",
       "       0, 0, 0, 0, 0, 0, 0, 0, 0, 0, 0, 0, 0, 0, 0, 0, 0, 0, 0, 0, 0, 0,\n",
       "       0, 0, 0, 0, 0, 0, 0, 0, 0, 0, 0, 0, 0, 0, 0, 0, 0, 0, 0, 0, 0, 0,\n",
       "       0, 0, 0, 0, 0, 0, 0, 0, 0, 0, 0, 0, 0, 0, 0, 0, 0, 0, 0, 0, 0, 0,\n",
       "       0, 0, 0, 0, 0, 0, 0, 0, 0, 0, 0, 0, 0, 0, 0, 0, 0, 0, 0, 0, 0, 0,\n",
       "       0, 0, 0, 0, 0, 0, 0, 0, 0, 0, 0, 0, 0, 0, 0, 0, 0, 0, 0, 0, 0, 0,\n",
       "       0, 0, 0, 0, 0, 0, 0, 0, 0, 0, 0, 0, 0, 0, 0, 0, 0, 0, 0, 0, 0, 0,\n",
       "       0, 0, 0, 0, 0, 0, 0, 0, 0, 0, 0, 0, 0, 0, 0, 0, 0, 0, 0, 0, 0, 0,\n",
       "       0, 0, 0, 0, 0, 0, 0, 0, 0, 0, 0, 0, 0, 0, 0, 0, 0, 0, 0, 0, 0, 0,\n",
       "       0, 0, 0, 0, 0, 0, 0, 0, 0, 0, 0, 0, 0, 0, 0, 0, 0, 0, 0, 0, 0, 0,\n",
       "       0, 0, 0, 0, 0, 0, 0, 0, 0, 0, 0, 0, 0, 0, 0, 0, 0, 0, 0, 0, 0, 0,\n",
       "       0, 0, 0, 0, 0, 0, 0, 0, 0, 0, 0, 0, 0, 0, 0, 0, 0, 0, 0, 0, 0, 0,\n",
       "       0, 0, 0, 0, 0, 0, 0, 0, 0, 0, 0, 0, 0, 0, 0, 0, 0, 0, 0, 0, 0, 0,\n",
       "       0, 0, 0, 0, 0, 0, 0, 0, 0, 0, 0, 0, 0, 0, 0, 0, 0, 0, 0, 0, 0, 0,\n",
       "       0, 0, 0, 0, 0, 0, 0, 0, 0, 0, 0, 0, 0, 0, 0, 0, 0, 0, 0, 0, 0, 0,\n",
       "       0, 0, 0, 0, 0, 0, 0, 0, 0, 0, 0, 0, 0, 0, 0, 0, 0, 0, 0, 0, 0, 0,\n",
       "       0, 0, 0, 0, 0, 0, 0, 0, 0, 0, 0, 0, 0, 0, 0, 0, 0, 0, 0, 0, 0, 0,\n",
       "       0, 0, 0, 0, 0, 0, 0, 0, 0, 0, 0, 0, 0, 0, 0, 0, 0, 0, 0, 0, 0, 0,\n",
       "       0, 0, 0, 0, 0, 0, 0, 0, 0, 0, 0, 0, 0, 0, 0, 0, 0, 0, 0, 0, 0, 0,\n",
       "       0, 0, 0, 0, 0, 0, 0, 0, 0, 0, 0, 0, 0, 0, 0, 0, 0, 0, 0, 0, 0, 0,\n",
       "       0, 0, 0, 0, 0, 0, 0, 0, 0, 0, 0, 0, 0, 0, 0, 0, 0, 0, 0, 0, 0, 0,\n",
       "       0, 0, 0, 0, 0, 0, 0, 0, 0, 0, 0, 0, 0, 0, 0, 0, 0, 0, 0, 0, 0, 0,\n",
       "       0, 0, 0, 0, 0, 0, 0, 0, 0, 0, 0, 0, 0, 0, 0, 0, 0, 0, 0, 0, 0, 0,\n",
       "       0, 0, 0, 0, 0, 0, 0, 0, 0, 0, 0, 0, 0, 0, 0, 0, 0, 0, 0, 0, 0, 0,\n",
       "       0, 0, 0, 0, 0, 0, 0, 0, 0, 0, 0, 0, 0, 0, 0, 0, 0, 0, 0, 0, 0, 0,\n",
       "       0, 0, 0, 0, 0, 0, 0, 0, 0, 0, 0, 0, 0, 0, 0, 0, 0, 0, 0, 0, 0, 0,\n",
       "       0, 0, 0, 0, 0, 0, 0, 0, 0, 0, 0, 0, 0, 0, 0, 0, 0, 0, 0, 0, 0, 0,\n",
       "       0, 0, 0, 0, 0, 0, 0, 0, 0, 0, 0, 0, 0, 0, 0, 0, 0, 0, 0, 0, 0, 0,\n",
       "       0, 0, 0, 0, 0, 0, 0, 0, 0, 0, 0, 0, 0, 0, 0, 0, 0, 0, 0, 0, 0, 0,\n",
       "       0, 0, 0, 0, 0, 0, 0, 0, 0, 0, 0, 0, 0, 0, 0, 0, 0, 0, 0, 0, 0, 0,\n",
       "       0, 0, 0, 0, 0, 0, 0, 0, 0, 0, 0, 0, 0, 0, 0, 0, 0, 0, 0, 0, 0, 0,\n",
       "       0, 0, 0, 0, 0, 0, 0, 0, 0, 0, 0, 0, 0, 0, 0, 0, 0, 0, 0, 0, 0, 0,\n",
       "       0, 0, 0, 0, 0, 0, 0, 0, 0, 0, 0, 0, 0, 0, 0, 0, 0, 0, 0, 0, 0, 0,\n",
       "       0, 0, 0, 0, 0, 0, 0, 0, 0, 0, 0, 0, 0, 0, 0, 0, 0, 0, 0, 0, 0, 0,\n",
       "       0, 0, 0, 0, 0, 0, 0, 0, 0, 0, 0, 0, 0, 0, 0, 0, 0, 0, 0, 0, 0, 0,\n",
       "       0, 0, 0, 0, 0, 0, 0, 0, 0, 0, 0, 0, 0, 0, 0, 0, 0, 0, 0, 0, 0, 0,\n",
       "       0, 0, 0, 0, 0, 0, 0, 0, 0, 0, 0, 0, 0, 0, 0, 0, 0, 0, 0, 0, 0, 0,\n",
       "       0, 0, 0, 0, 0, 0, 0, 0, 0, 0, 0, 0, 0, 0, 0, 0, 0, 0, 0, 0, 0, 0,\n",
       "       0, 0, 0, 0, 0, 0, 0, 0, 0, 0, 0, 0, 0, 0, 0, 0, 0, 0, 0, 0, 0, 0,\n",
       "       0, 0, 0, 0, 0, 0, 0, 0, 0, 0, 0, 0, 0, 0, 0, 0, 0, 0, 0, 0, 0, 0,\n",
       "       0, 0, 0, 0, 0, 0, 0, 0, 0, 0, 0, 0])"
      ]
     },
     "execution_count": 38,
     "metadata": {},
     "output_type": "execute_result"
    }
   ],
   "source": [
    "train_pred = svm.predict(x_train)\n",
    "np.set_printoptions(threshold=np.inf)\n",
    "train_pred"
   ]
  },
  {
   "cell_type": "markdown",
   "metadata": {},
   "source": [
    "From the looks of things, we're actually just dealing with a naive classifier which was preforming well due to the class imbalance, let's call this and bust and move back to the KNN and RandomForest, starting with RandomForest"
   ]
  },
  {
   "cell_type": "code",
   "execution_count": 14,
   "metadata": {},
   "outputs": [],
   "source": [
    "#need to adjust funtion for new scoring\n",
    "def modeling_function(model, X_train, y_train, X_val, y_val):\n",
    "\n",
    "    # fit model on training data\n",
    "    model.fit(X_train, y_train)\n",
    "\n",
    "    # make predictions on training and validation data\n",
    "    train_preds = model.predict(X_train)\n",
    "    val_preds = model.predict(X_val)\n",
    "\n",
    "    # Print accuracy score\n",
    "    print('Training precission: ', precision_score(y_train, train_preds))\n",
    "    print('Validation accuracy: ', precision_score(y_val, val_preds))\n",
    "\n",
    "    # return fitted model\n",
    "    return model"
   ]
  },
  {
   "cell_type": "code",
   "execution_count": 19,
   "metadata": {},
   "outputs": [
    {
     "data": {
      "text/plain": [
       "GridSearchCV(estimator=RandomForestClassifier(random_state=42),\n",
       "             param_grid={'max_depth': [1, 3, 5, 7, 10],\n",
       "                         'min_samples_leaf': [1, 2, 3, 4],\n",
       "                         'n_estimators': [21, 22, 23]},\n",
       "             scoring='precision')"
      ]
     },
     "execution_count": 19,
     "metadata": {},
     "output_type": "execute_result"
    }
   ],
   "source": [
    "from sklearn.model_selection import GridSearchCV\n",
    "\n",
    "\n",
    "param_grid = {'n_estimators': [21, 22, 23],\n",
    "                'max_depth': [1, 3, 5, 7, 10],\n",
    "                'min_samples_leaf': [1, 2, 3, 4]}\n",
    "\n",
    "rf_gs = GridSearchCV(estimator=rf, param_grid=param_grid, scoring = 'precision')\n",
    "rf_gs.fit(x_train, y_train)"
   ]
  },
  {
   "cell_type": "code",
   "execution_count": 20,
   "metadata": {},
   "outputs": [],
   "source": [
    "best_model = rf_gs.best_estimator_"
   ]
  },
  {
   "cell_type": "code",
   "execution_count": 21,
   "metadata": {},
   "outputs": [
    {
     "data": {
      "text/plain": [
       "{'max_depth': 10, 'min_samples_leaf': 1, 'n_estimators': 23}"
      ]
     },
     "execution_count": 21,
     "metadata": {},
     "output_type": "execute_result"
    }
   ],
   "source": [
    "rf_gs.best_params_"
   ]
  },
  {
   "cell_type": "code",
   "execution_count": 22,
   "metadata": {},
   "outputs": [
    {
     "data": {
      "text/plain": [
       "array([1, 1, 1, 1, 0, 1, 1, 1, 1, 1, 1, 1, 1, 1, 1, 1, 1, 1, 1, 1, 1, 1,\n",
       "       1, 1, 1, 0, 1, 1, 0, 1, 1, 1, 1, 0, 0, 1, 1, 1, 0, 1, 1, 1, 1, 1,\n",
       "       1, 1, 0, 1, 1, 1, 1, 1, 1, 1, 1, 1, 1, 1, 1, 1, 1, 1, 1, 0, 1, 1,\n",
       "       1, 1, 1, 1, 1, 1, 0, 1, 1, 1, 1, 1, 1, 1, 1, 1, 1, 1, 1, 1, 1, 1,\n",
       "       1, 1, 1, 1, 1, 1, 1, 1, 1, 1, 1, 0, 1, 1, 1, 1, 0, 1, 1, 1, 1, 1,\n",
       "       1, 0, 1, 0, 1, 1, 1, 0, 1, 1, 1, 1, 1, 1, 1, 1, 1, 1, 1, 1, 1, 1,\n",
       "       1, 1, 1, 1, 1, 1, 1, 0, 1, 1, 1, 0, 1, 1, 0, 1, 0, 0, 1, 1, 1, 0,\n",
       "       1, 1, 1, 1, 1, 1, 1, 1, 1, 1, 1, 1, 1, 1, 1, 1, 0, 1, 1, 1, 1, 1,\n",
       "       1, 0, 1, 0, 1, 0, 1, 1, 1, 1, 1, 1, 1, 0, 1, 1, 1, 1, 0, 1, 1, 1,\n",
       "       0, 1, 1, 1, 1, 1, 1, 1, 0, 1, 1, 1, 1, 1, 1, 1, 1, 1, 0, 0, 1, 1,\n",
       "       1, 1, 1, 0, 1, 1, 0, 1, 1, 1, 1, 1, 1, 1, 1, 0, 1, 1, 1, 1, 1, 1,\n",
       "       0, 1, 0, 0, 1, 1, 1, 1, 1, 1, 1, 1, 1, 1, 1, 1, 1, 0, 0, 1, 1, 0,\n",
       "       1, 1, 1, 1, 1, 0, 1, 1, 1, 0, 1, 0, 1, 1, 1, 0, 0, 1, 1, 1, 1, 1,\n",
       "       1, 1, 0, 1, 1, 1, 1, 1, 1, 1, 1, 1, 1, 1, 1, 1, 1, 0, 1, 1, 1, 1,\n",
       "       1, 1, 1, 1, 1, 0, 1, 1, 1, 1, 0, 1, 1, 1, 1, 1, 1, 0, 0, 1, 1, 1,\n",
       "       1, 0, 1, 1, 1, 1, 1, 0, 1, 1, 1, 0, 1, 1, 1, 1, 1, 0, 1, 1, 1, 1,\n",
       "       1, 1, 1, 1, 1, 1, 0, 1, 1, 1, 1, 1, 1, 1, 1, 1, 1, 1, 1, 1, 1, 1,\n",
       "       0, 0, 1, 1, 0, 1, 0, 1, 1, 1, 1, 1, 1, 1, 1, 0, 0, 0, 1, 0, 1, 1,\n",
       "       1, 1, 1, 1, 1, 1, 1, 0, 1, 1, 1, 1, 1, 1, 1, 1, 1, 1, 1, 1, 0, 1,\n",
       "       1, 1, 1, 1, 1, 1, 1, 0, 1, 1, 1, 0, 1, 0, 1, 1, 1, 1, 0, 1, 1, 1,\n",
       "       1, 1, 1, 1, 1, 1, 0, 1, 1, 1, 0, 1, 1, 1, 0, 1, 1, 1, 0, 0, 0, 1,\n",
       "       1, 1, 1, 1, 1, 1, 1, 1, 1, 1, 1, 1, 1, 1, 0, 1, 1, 1, 1, 1, 1, 0,\n",
       "       0, 1, 1, 1, 1, 1, 1, 1, 1, 1, 1, 0, 1, 1, 1, 1, 1, 1, 1, 1, 1, 0,\n",
       "       1, 0, 1, 1, 1, 1, 1, 1, 1, 1, 1, 0, 1, 1, 1, 1, 1, 1, 0, 1, 1, 1,\n",
       "       1, 0, 0, 1, 1, 1, 1, 1, 1, 1, 0, 1, 1, 0, 1, 1, 1, 1, 1, 1, 1, 1,\n",
       "       0, 1, 1, 1, 1, 1, 1, 1, 0, 1, 1, 0, 1, 1, 0, 1, 1, 1, 1, 1, 1, 1,\n",
       "       1, 1, 1, 1, 0, 1, 1, 1, 0, 1, 1, 1, 0, 1, 1, 1, 1, 1, 0, 1, 1, 1,\n",
       "       1, 0, 1, 0, 1, 0, 1, 1, 1, 1, 1, 1, 0, 1, 1, 0, 1, 0, 1, 1, 1, 1,\n",
       "       1, 1, 1, 0, 1, 1, 0, 0, 1, 1, 1, 1, 0, 1, 1, 1, 1, 1, 1, 1, 1, 1,\n",
       "       1, 1, 1, 1, 1, 1, 1, 1, 1, 1, 1, 1, 1, 1, 1, 1, 1, 0, 1, 1, 1, 1,\n",
       "       1, 1, 0, 1, 1, 0, 1, 0, 1, 1, 1, 1, 1, 1, 1, 0, 1, 1, 1, 1, 1, 1,\n",
       "       1, 0, 1, 1, 1, 1, 1, 1, 1, 1, 1, 1, 0, 1, 1, 1, 1, 0, 1, 1, 1, 1,\n",
       "       1, 0, 1, 1, 1, 1, 1, 1, 1, 1, 1, 1, 1, 1, 1, 1, 1, 1, 1, 1, 1, 1,\n",
       "       1, 1, 1, 1, 1, 1, 0, 1, 1, 1, 1, 1, 1, 0, 1, 1, 1, 1, 1, 1, 1, 1,\n",
       "       1, 1, 1, 1, 1, 1, 1, 1, 1, 1, 1, 1, 1, 1, 1, 1, 1, 1, 1, 1, 1, 0,\n",
       "       1, 1, 1, 1, 1, 1, 1, 0, 0, 1, 1, 1, 1, 1, 1, 1, 1, 0, 1, 1, 1, 1,\n",
       "       1, 1, 1, 0, 0, 1, 1, 0, 1, 1, 1, 1, 1, 1, 0, 1, 1, 1, 1, 0, 1, 1,\n",
       "       1, 1, 1, 1, 0, 1, 1, 1, 1, 1, 1, 0, 1, 1, 1, 1, 1, 1, 1, 1, 1, 0,\n",
       "       0, 1, 1, 1, 1, 1, 1, 1, 0, 0, 1, 1, 1, 1, 0, 1, 0, 1, 1, 1, 1, 1,\n",
       "       1, 1, 1, 1, 1, 1, 1, 1, 1, 1, 1, 1, 1, 1, 1, 1, 1, 0, 1, 0, 1, 0,\n",
       "       1, 1, 1, 1, 1, 0, 1, 1, 1, 1, 1, 1, 1, 1, 1, 1, 1, 1, 1, 1, 1, 1,\n",
       "       0, 1, 1, 1, 1, 1, 1, 1, 0, 1, 0, 0, 0, 1, 1, 0, 1, 0, 1, 1, 1, 1,\n",
       "       1, 1, 1, 1, 1, 0, 1, 0, 1, 0, 1, 1, 1, 1, 1, 1, 1, 1, 1, 1, 1, 1,\n",
       "       0, 1, 1, 1, 1, 1, 1, 1, 0, 0, 1, 1, 0, 1, 1, 1, 1, 1, 1, 1, 1, 1,\n",
       "       1, 1, 0, 1, 1, 1, 0, 1, 1, 1, 1, 1, 0, 0, 0, 1, 1, 1, 1, 1, 1, 1,\n",
       "       1, 1, 1, 1, 0, 1, 1, 1, 1, 1, 1, 1, 1, 1, 1, 1, 1, 1, 0, 1, 1, 1,\n",
       "       1, 1, 1, 1, 1, 1, 1, 1, 1, 0, 1, 1, 1, 1, 1, 1, 1, 0, 1, 0, 1, 1,\n",
       "       1, 1, 1, 1, 1, 1, 1, 1, 1, 1, 0, 1, 1, 1, 1, 1, 1, 1, 1, 1, 1, 1,\n",
       "       1, 0, 1, 1, 1, 1, 0, 1, 1, 0, 1, 1, 1, 1, 1, 1, 1, 1, 1, 1, 0, 1,\n",
       "       1, 1, 1, 1, 1, 1, 1, 1, 1, 1, 1, 1, 1, 1, 1, 0, 1, 1, 1, 1, 0, 1,\n",
       "       1, 1, 1, 1, 1, 1, 1, 1, 1, 1, 1, 1, 1, 1, 1, 0, 1, 1, 1, 1, 0, 1,\n",
       "       1, 1, 0, 1, 1, 1, 1, 1, 1, 1, 1, 1, 1, 1, 1, 1, 1, 1, 1, 1, 1, 1,\n",
       "       1, 1, 1, 1, 1, 1, 0, 1, 1, 1, 0, 1, 1, 1, 1, 1, 1, 0, 1, 1, 1, 1,\n",
       "       0, 1, 1, 1, 1, 0, 1, 1, 1, 0, 1, 1, 1, 0, 1, 1, 1, 1, 1, 1, 1, 1,\n",
       "       1, 1, 1, 1, 0, 0, 1, 1, 1, 1, 1, 1, 1, 1, 1, 1, 1, 1, 1, 1, 1, 0,\n",
       "       1, 1, 1, 1, 1, 1, 1, 0, 1, 1, 1, 1, 1, 1, 0, 1, 1, 1, 1, 1, 0, 0,\n",
       "       1, 0, 0, 0, 0, 0, 0, 0, 0, 0, 0, 0, 0, 0, 0, 0, 0, 0, 0, 0, 0, 0,\n",
       "       0, 0, 0, 0, 0, 0, 0, 0, 0, 0, 0, 0, 0, 0, 0, 0, 0, 0, 0, 0, 0, 0,\n",
       "       0, 0, 0, 0, 0, 0, 0, 0, 0, 0, 0, 0, 0, 0, 0, 0, 0, 0, 0, 0, 0, 0,\n",
       "       0, 0, 0, 0, 0, 0, 0, 0, 0, 0, 0, 0, 0, 0, 0, 0, 0, 0, 0, 0, 0, 0,\n",
       "       0, 0, 0, 0, 0, 0, 0, 0, 0, 0, 0, 0, 0, 0, 0, 0, 0, 0, 0, 0, 0, 0,\n",
       "       0, 0, 0, 0, 0, 0, 0, 0, 0, 0, 0, 0, 0, 0, 0, 0, 0, 0, 0, 0, 0, 0,\n",
       "       0, 0, 0, 0, 0, 0, 0, 0, 0, 0, 0, 0, 0, 0, 0, 0, 0, 0, 0, 0, 0, 0,\n",
       "       0, 0, 0, 0, 0, 0, 0, 0, 0, 0, 0, 0, 0, 0, 0, 0, 0, 0, 0, 0, 0, 0,\n",
       "       0, 0, 0, 0, 0, 0, 0, 0, 0, 0, 0, 0, 0, 0, 0, 0, 0, 0, 0, 0, 0, 0,\n",
       "       0, 0, 0, 0, 0, 0, 0, 0, 0, 0, 0, 0, 0, 0, 0, 0, 0, 0, 0, 0, 0, 0,\n",
       "       0, 0, 0, 0, 0, 0, 0, 0, 0, 0, 0, 0, 0, 0, 0, 0, 0, 0, 0, 0, 0, 0,\n",
       "       0, 0, 0, 0, 0, 0, 0, 0, 0, 0, 0, 0, 0, 0, 0, 0, 0, 0, 0, 0, 0, 0,\n",
       "       0, 0, 0, 0, 0, 0, 0, 0, 0, 0, 0, 0, 0, 0, 0, 0, 0, 0, 0, 0, 0, 0,\n",
       "       0, 0, 0, 0, 0, 0, 0, 0, 0, 0, 0, 0, 0, 0, 0, 0, 0, 0, 0, 0, 0, 0,\n",
       "       0, 0, 0, 0, 0, 0, 0, 0, 0, 0, 0, 0, 0, 0, 0, 0, 0, 0, 0, 0, 0, 0,\n",
       "       0, 0, 0, 0, 0, 0, 0, 0, 0, 0, 0, 0, 0, 0, 0, 0, 0, 0, 0, 0, 0, 0,\n",
       "       0, 0, 0, 0, 0, 0, 0, 0, 1, 0, 0, 0, 0, 0, 0, 0, 0, 0, 0, 0, 0, 0,\n",
       "       0, 0, 0, 0, 0, 0, 0, 0, 0, 0, 0, 0, 0, 0, 0, 0, 0, 0, 0, 0, 0, 0,\n",
       "       0, 0, 0, 0, 0, 0, 0, 0, 0, 0, 0, 0, 0, 0, 0, 0, 0, 0, 0, 0, 0, 0,\n",
       "       0, 0, 0, 0, 0, 0, 0, 0, 0, 0, 0, 0, 0, 0, 0, 0, 0, 0, 0, 0, 0, 0,\n",
       "       0, 0, 0, 0, 0, 0, 0, 0, 0, 0, 0, 0, 0, 0, 0, 0, 0, 0, 0, 0, 0, 0,\n",
       "       0, 0, 0, 0, 0, 0, 0, 0, 0, 0, 0, 0, 0, 0, 0, 0, 0, 0, 0, 0, 0, 0,\n",
       "       0, 0, 0, 0, 0, 0, 0, 0, 0, 0, 0, 0, 0, 0, 0, 0, 0, 0, 0, 0, 0, 0,\n",
       "       0, 0, 0, 0, 0, 0, 0, 0, 0, 0, 0, 0, 0, 0, 0, 0, 0, 0, 0, 0, 0, 0,\n",
       "       0, 0, 0, 0, 0, 0, 0, 0, 0, 0, 0, 0, 0, 0, 0, 0, 0, 0, 0, 0, 0, 0,\n",
       "       0, 0, 0, 0, 0, 0, 0, 0, 0, 0, 0, 0, 0, 0, 0, 0, 0, 0, 0, 0, 0, 0,\n",
       "       0, 0, 0, 0, 0, 0, 0, 0, 0, 0, 0, 0, 0, 0, 0, 0, 0, 0, 0, 0, 0, 0,\n",
       "       0, 0, 0, 0, 0, 0, 0, 0, 0, 0, 0, 0, 0, 0, 0, 0, 0, 0, 0, 0, 0, 0,\n",
       "       0, 0, 0, 0, 0, 0, 0, 0, 0, 0, 0, 0, 0, 0, 0, 0, 0, 0, 0, 0, 0, 0,\n",
       "       0, 0, 0, 0, 0, 0, 0, 0, 0, 0, 0, 0, 0, 0, 0, 0, 0, 0, 0, 0, 0, 0,\n",
       "       0, 0, 0, 0, 0, 0, 0, 0, 0, 0, 0, 0, 0, 0, 0, 0, 0, 0, 0, 0, 0, 0,\n",
       "       0, 0, 0, 0, 0, 0, 0, 0, 0, 0, 0, 0])"
      ]
     },
     "execution_count": 22,
     "metadata": {},
     "output_type": "execute_result"
    }
   ],
   "source": [
    "train_pred = rf_gs.predict(x_train)\n",
    "np.set_printoptions(threshold=np.inf)\n",
    "train_pred"
   ]
  },
  {
   "cell_type": "code",
   "execution_count": 23,
   "metadata": {},
   "outputs": [
    {
     "name": "stdout",
     "output_type": "stream",
     "text": [
      "Training accuracy:  0.9397715472481828\n",
      "Validation accuracy:  0.8223844282238443\n"
     ]
    },
    {
     "data": {
      "text/plain": [
       "RandomForestClassifier(max_depth=10, n_estimators=23, random_state=42)"
      ]
     },
     "execution_count": 23,
     "metadata": {},
     "output_type": "execute_result"
    }
   ],
   "source": [
    "modeling_function(best_model,x_train, y_train, x_val, y_val)"
   ]
  },
  {
   "cell_type": "code",
   "execution_count": 24,
   "metadata": {},
   "outputs": [
    {
     "name": "stdout",
     "output_type": "stream",
     "text": [
      "0.9593301435406698\n"
     ]
    }
   ],
   "source": [
    "test_pred = best_model.predict(x_test)\n",
    "test_precision = precision_score(test_pred, y_test)\n",
    "print(test_precision)"
   ]
  },
  {
   "cell_type": "code",
   "execution_count": 25,
   "metadata": {},
   "outputs": [
    {
     "data": {
      "text/plain": [
       "<sklearn.metrics._plot.confusion_matrix.ConfusionMatrixDisplay at 0x7fdfa691da90>"
      ]
     },
     "execution_count": 25,
     "metadata": {},
     "output_type": "execute_result"
    },
    {
     "data": {
      "image/png": "[encoded data removed]",
      "text/plain": [
       "<Figure size 432x288 with 2 Axes>"
      ]
     },
     "metadata": {
      "needs_background": "light"
     },
     "output_type": "display_data"
    }
   ],
   "source": [
    "from sklearn.metrics import plot_confusion_matrix\n",
    "plot_confusion_matrix(best_model,x_test, y_test)"
   ]
  },
  {
   "cell_type": "code",
   "execution_count": 26,
   "metadata": {},
   "outputs": [
    {
     "data": {
      "text/plain": [
       "<Figure size 432x288 with 0 Axes>"
      ]
     },
     "metadata": {},
     "output_type": "display_data"
    }
   ],
   "source": [
    "import matplotlib.pyplot as plt\n",
    "plt.savefig('../images/confusion_random.png');\n"
   ]
  },
  {
   "cell_type": "markdown",
   "metadata": {},
   "source": [
    "And to finish let's do KNN"
   ]
  },
  {
   "cell_type": "code",
   "execution_count": 45,
   "metadata": {},
   "outputs": [
    {
     "data": {
      "text/plain": [
       "GridSearchCV(estimator=KNeighborsClassifier(),\n",
       "             param_grid={'algorithm': ['ball_tree', 'kd_tree', 'brute'],\n",
       "                         'leaf_size': [10, 15, 20, 25],\n",
       "                         'n_neighbors': [7, 8, 9, 10, 11, 12], 'p': [1, 2],\n",
       "                         'weights': ['uniform']},\n",
       "             scoring='precision')"
      ]
     },
     "execution_count": 45,
     "metadata": {},
     "output_type": "execute_result"
    }
   ],
   "source": [
    "GS_KNN = KNeighborsClassifier()\n",
    "\n",
    "#tried wieghts distance, lead to overfitting so it's been removed as an option\n",
    "pram_grid = {'n_neighbors': [7,8,9,10,11,12], 'weights' : ['uniform'], 'algorithm':['ball_tree','kd_tree','brute'],'leaf_size':[10,15,20,25],'p':[1,2]}\n",
    "\n",
    "GSCV = GridSearchCV(GS_KNN,pram_grid,scoring = 'precision')\n",
    "\n",
    "GSCV.fit(x_train,y_train)"
   ]
  },
  {
   "cell_type": "code",
   "execution_count": 46,
   "metadata": {},
   "outputs": [],
   "source": [
    "train_pred = GSCV.predict(x_train)\n",
    "val_pred = GSCV.predict(x_val)"
   ]
  },
  {
   "cell_type": "code",
   "execution_count": 47,
   "metadata": {},
   "outputs": [
    {
     "data": {
      "text/plain": [
       "array([1, 1, 0, 0, 0, 1, 0, 1, 0, 0, 1, 1, 0, 1, 1, 1, 1, 0, 0, 0, 1, 1,\n",
       "       1, 0, 0, 0, 1, 1, 0, 1, 0, 1, 1, 0, 0, 0, 0, 1, 0, 0, 1, 1, 0, 1,\n",
       "       1, 1, 1, 0, 1, 0, 1, 0, 1, 1, 0, 0, 1, 1, 1, 1, 0, 1, 1, 0, 1, 1,\n",
       "       0, 1, 0, 0, 1, 1, 0, 1, 1, 0, 0, 1, 1, 0, 1, 1, 1, 0, 1, 1, 0, 1,\n",
       "       0, 0, 0, 1, 0, 1, 1, 0, 0, 0, 1, 0, 1, 1, 1, 1, 1, 1, 1, 0, 0, 1,\n",
       "       1, 0, 1, 0, 1, 0, 0, 1, 0, 1, 1, 1, 0, 0, 1, 0, 0, 1, 1, 0, 1, 1,\n",
       "       1, 1, 1, 1, 1, 1, 1, 0, 1, 0, 1, 0, 0, 1, 0, 1, 0, 0, 0, 1, 1, 0,\n",
       "       1, 1, 0, 1, 1, 0, 0, 0, 0, 1, 1, 0, 1, 1, 0, 1, 0, 1, 0, 1, 1, 1,\n",
       "       1, 0, 0, 0, 1, 0, 1, 1, 1, 1, 0, 0, 1, 1, 1, 1, 0, 1, 1, 0, 1, 1,\n",
       "       0, 1, 1, 1, 0, 0, 1, 1, 0, 1, 1, 1, 1, 0, 0, 0, 0, 0, 0, 0, 1, 0,\n",
       "       1, 1, 1, 0, 1, 0, 0, 1, 0, 1, 0, 1, 1, 1, 0, 0, 1, 0, 1, 1, 1, 1,\n",
       "       1, 1, 0, 0, 1, 1, 0, 1, 0, 1, 1, 1, 1, 0, 1, 1, 1, 0, 0, 1, 1, 1,\n",
       "       1, 0, 1, 1, 0, 1, 1, 0, 0, 0, 0, 0, 1, 0, 1, 0, 0, 1, 0, 0, 0, 0,\n",
       "       1, 0, 0, 1, 0, 1, 0, 1, 1, 0, 0, 1, 1, 1, 1, 0, 0, 0, 0, 1, 1, 1,\n",
       "       0, 1, 1, 1, 1, 0, 0, 0, 1, 1, 0, 0, 0, 1, 1, 0, 1, 0, 0, 1, 1, 0,\n",
       "       0, 0, 1, 1, 1, 1, 1, 1, 1, 0, 0, 0, 0, 0, 1, 1, 0, 1, 1, 0, 1, 0,\n",
       "       1, 1, 0, 0, 1, 1, 0, 1, 0, 1, 0, 0, 0, 1, 1, 0, 0, 0, 1, 0, 1, 0,\n",
       "       0, 0, 0, 0, 0, 1, 0, 0, 1, 1, 1, 0, 1, 1, 1, 0, 0, 0, 1, 1, 0, 1,\n",
       "       0, 1, 0, 0, 0, 0, 1, 1, 1, 0, 0, 1, 0, 0, 0, 1, 1, 1, 1, 1, 0, 1,\n",
       "       1, 1, 1, 1, 1, 1, 1, 0, 1, 0, 0, 0, 0, 0, 0, 0, 1, 0, 0, 0, 0, 1,\n",
       "       1, 1, 1, 1, 0, 1, 0, 0, 1, 0, 1, 1, 0, 1, 0, 0, 1, 1, 1, 0, 0, 1,\n",
       "       1, 1, 1, 0, 0, 1, 0, 1, 1, 0, 0, 1, 1, 1, 0, 0, 1, 0, 1, 0, 1, 1,\n",
       "       1, 1, 0, 0, 1, 1, 1, 1, 1, 1, 1, 0, 0, 1, 0, 1, 1, 1, 0, 1, 1, 0,\n",
       "       0, 1, 1, 0, 1, 0, 0, 1, 1, 0, 1, 0, 0, 1, 0, 0, 0, 1, 0, 0, 0, 1,\n",
       "       1, 0, 0, 1, 1, 0, 1, 1, 1, 1, 0, 1, 1, 0, 1, 1, 0, 1, 1, 1, 1, 0,\n",
       "       0, 0, 1, 0, 1, 1, 1, 0, 0, 0, 1, 0, 1, 0, 0, 0, 1, 0, 0, 1, 1, 1,\n",
       "       1, 0, 1, 1, 0, 0, 1, 0, 0, 0, 1, 1, 0, 1, 1, 0, 0, 1, 0, 1, 0, 0,\n",
       "       1, 0, 0, 0, 0, 0, 1, 1, 1, 1, 1, 1, 0, 1, 1, 0, 1, 0, 0, 0, 1, 1,\n",
       "       0, 0, 1, 0, 1, 0, 1, 0, 1, 0, 0, 0, 0, 0, 0, 1, 1, 0, 1, 0, 1, 1,\n",
       "       0, 1, 0, 0, 1, 1, 1, 1, 1, 1, 1, 0, 0, 1, 1, 1, 1, 0, 1, 1, 1, 1,\n",
       "       1, 0, 0, 0, 1, 0, 0, 0, 0, 0, 0, 0, 1, 0, 1, 1, 1, 0, 1, 1, 1, 1,\n",
       "       0, 1, 0, 1, 1, 1, 1, 0, 1, 1, 1, 1, 0, 0, 0, 1, 0, 0, 1, 1, 1, 1,\n",
       "       1, 0, 1, 1, 1, 1, 1, 0, 0, 1, 1, 1, 1, 1, 1, 1, 1, 0, 1, 1, 1, 1,\n",
       "       0, 1, 0, 1, 1, 1, 0, 1, 1, 0, 0, 1, 1, 0, 1, 1, 1, 1, 0, 1, 0, 0,\n",
       "       0, 0, 1, 1, 1, 0, 1, 1, 0, 0, 0, 1, 1, 1, 0, 0, 0, 1, 1, 1, 1, 0,\n",
       "       1, 0, 1, 1, 1, 0, 1, 1, 1, 1, 0, 0, 0, 1, 1, 1, 0, 0, 1, 1, 1, 1,\n",
       "       1, 1, 1, 0, 0, 0, 0, 0, 1, 1, 1, 1, 1, 1, 0, 1, 1, 1, 1, 1, 1, 1,\n",
       "       1, 0, 1, 0, 1, 1, 0, 0, 0, 0, 1, 0, 1, 0, 0, 1, 0, 1, 1, 1, 1, 1,\n",
       "       0, 1, 1, 1, 1, 1, 0, 1, 0, 0, 0, 1, 0, 1, 1, 1, 0, 1, 1, 0, 1, 1,\n",
       "       1, 1, 0, 1, 1, 1, 0, 1, 1, 0, 1, 1, 0, 1, 1, 1, 1, 0, 1, 1, 1, 0,\n",
       "       1, 1, 0, 1, 1, 0, 1, 0, 1, 1, 1, 1, 1, 0, 1, 1, 0, 1, 1, 1, 0, 1,\n",
       "       0, 0, 0, 1, 0, 1, 1, 1, 1, 1, 1, 0, 0, 0, 1, 1, 0, 0, 0, 1, 1, 1,\n",
       "       1, 1, 0, 1, 1, 0, 1, 0, 1, 0, 0, 0, 1, 1, 1, 1, 0, 0, 1, 1, 1, 0,\n",
       "       1, 0, 1, 1, 1, 0, 0, 1, 0, 1, 1, 1, 0, 1, 0, 1, 1, 0, 0, 1, 1, 1,\n",
       "       1, 1, 0, 1, 0, 1, 0, 1, 0, 1, 1, 0, 0, 0, 0, 0, 1, 1, 1, 0, 1, 0,\n",
       "       0, 1, 0, 0, 0, 0, 0, 1, 1, 1, 1, 1, 1, 0, 1, 1, 0, 0, 0, 1, 1, 1,\n",
       "       0, 1, 1, 1, 1, 1, 1, 0, 0, 0, 1, 1, 1, 0, 1, 1, 1, 0, 1, 1, 1, 1,\n",
       "       1, 1, 1, 1, 1, 1, 0, 1, 1, 1, 0, 1, 1, 0, 0, 1, 1, 1, 0, 1, 0, 0,\n",
       "       0, 0, 1, 1, 1, 1, 0, 1, 1, 1, 0, 1, 0, 1, 1, 1, 0, 1, 0, 1, 0, 0,\n",
       "       1, 0, 1, 1, 0, 1, 0, 0, 1, 1, 0, 0, 1, 1, 0, 1, 0, 1, 1, 1, 1, 1,\n",
       "       1, 1, 1, 0, 1, 1, 1, 1, 1, 1, 1, 1, 0, 1, 1, 1, 1, 1, 1, 1, 0, 1,\n",
       "       1, 1, 0, 1, 0, 1, 1, 1, 1, 0, 1, 0, 1, 0, 0, 0, 1, 1, 1, 1, 0, 1,\n",
       "       0, 0, 1, 1, 1, 1, 0, 1, 0, 1, 0, 0, 0, 0, 1, 1, 0, 0, 1, 0, 0, 1,\n",
       "       0, 1, 0, 1, 0, 0, 1, 1, 1, 0, 1, 0, 0, 0, 1, 1, 0, 0, 1, 0, 0, 1,\n",
       "       1, 1, 1, 1, 1, 1, 0, 0, 0, 1, 1, 1, 1, 1, 1, 1, 0, 0, 0, 1, 1, 0,\n",
       "       1, 0, 0, 0, 0, 1, 0, 0, 0, 1, 1, 1, 1, 0, 0, 1, 1, 1, 1, 0, 0, 0,\n",
       "       1, 0, 0, 0, 0, 0, 0, 1, 0, 0, 0, 1, 0, 0, 0, 0, 0, 0, 1, 0, 0, 0,\n",
       "       0, 0, 0, 0, 0, 0, 0, 1, 0, 0, 0, 0, 0, 0, 0, 0, 0, 0, 0, 0, 0, 0,\n",
       "       0, 0, 0, 0, 0, 0, 0, 0, 0, 0, 0, 0, 1, 0, 0, 0, 0, 1, 0, 0, 1, 0,\n",
       "       0, 1, 0, 0, 1, 0, 0, 0, 0, 0, 0, 0, 0, 0, 0, 0, 0, 0, 0, 0, 0, 0,\n",
       "       0, 0, 0, 0, 0, 0, 0, 0, 0, 1, 0, 0, 0, 0, 1, 0, 0, 0, 0, 1, 0, 0,\n",
       "       0, 0, 0, 0, 0, 0, 1, 1, 0, 0, 0, 0, 0, 0, 0, 0, 0, 0, 0, 0, 1, 0,\n",
       "       0, 0, 0, 0, 0, 0, 0, 0, 0, 0, 0, 0, 0, 1, 0, 0, 0, 0, 0, 0, 0, 0,\n",
       "       0, 0, 0, 1, 0, 0, 0, 1, 0, 0, 0, 0, 0, 0, 0, 0, 0, 0, 0, 0, 0, 0,\n",
       "       0, 0, 0, 0, 0, 0, 0, 0, 0, 0, 0, 0, 0, 0, 0, 0, 0, 0, 0, 0, 0, 0,\n",
       "       0, 0, 1, 0, 0, 0, 0, 0, 0, 0, 0, 0, 0, 1, 0, 0, 0, 0, 0, 0, 0, 0,\n",
       "       1, 0, 0, 1, 0, 0, 0, 0, 0, 0, 0, 0, 1, 0, 0, 0, 0, 0, 0, 0, 0, 0,\n",
       "       0, 0, 0, 0, 0, 0, 0, 0, 0, 0, 0, 0, 1, 0, 0, 0, 0, 0, 1, 0, 0, 0,\n",
       "       0, 0, 0, 0, 1, 0, 0, 0, 0, 0, 0, 1, 0, 0, 0, 0, 0, 0, 0, 0, 0, 1,\n",
       "       0, 0, 0, 0, 0, 0, 0, 1, 0, 0, 0, 0, 0, 0, 0, 0, 0, 0, 1, 0, 0, 0,\n",
       "       0, 0, 1, 0, 0, 0, 0, 0, 1, 0, 0, 0, 0, 0, 0, 0, 0, 0, 0, 0, 0, 0,\n",
       "       0, 0, 0, 0, 0, 0, 0, 0, 0, 0, 0, 0, 0, 1, 0, 0, 0, 0, 0, 0, 0, 0,\n",
       "       0, 0, 1, 0, 0, 1, 0, 0, 0, 0, 0, 0, 0, 1, 0, 0, 0, 0, 0, 1, 0, 0,\n",
       "       0, 0, 0, 0, 0, 0, 0, 0, 0, 0, 0, 0, 0, 1, 0, 0, 0, 0, 0, 0, 0, 1,\n",
       "       0, 0, 0, 1, 0, 0, 0, 0, 0, 0, 0, 0, 0, 0, 0, 0, 1, 0, 0, 0, 0, 0,\n",
       "       0, 0, 0, 0, 0, 0, 1, 0, 1, 0, 0, 0, 0, 0, 0, 0, 0, 0, 0, 0, 0, 0,\n",
       "       0, 0, 1, 0, 0, 0, 0, 0, 0, 0, 0, 0, 1, 0, 0, 0, 0, 0, 0, 1, 0, 0,\n",
       "       0, 0, 0, 0, 0, 0, 0, 0, 0, 0, 0, 0, 0, 0, 1, 0, 0, 0, 0, 0, 0, 0,\n",
       "       0, 0, 0, 0, 0, 0, 1, 0, 0, 0, 0, 0, 0, 0, 0, 0, 0, 0, 0, 0, 0, 0,\n",
       "       1, 0, 0, 1, 0, 1, 0, 0, 0, 0, 0, 0, 0, 0, 0, 0, 0, 0, 0, 0, 1, 0,\n",
       "       1, 0, 0, 0, 0, 0, 0, 0, 0, 1, 0, 0, 0, 0, 0, 0, 0, 0, 0, 0, 1, 0,\n",
       "       0, 0, 0, 1, 0, 0, 0, 0, 0, 0, 0, 0, 0, 0, 0, 0, 0, 0, 0, 0, 0, 0,\n",
       "       0, 0, 0, 0, 0, 1, 0, 0, 0, 0, 0, 0, 0, 1, 0, 0, 0, 0, 0, 0, 0, 0,\n",
       "       0, 1, 0, 0, 0, 0, 0, 1, 0, 0, 0, 1, 0, 0, 0, 0, 0, 0, 0, 0, 0, 0,\n",
       "       0, 0, 0, 0, 0, 0, 0, 0, 0, 0, 0, 0, 0, 0, 0, 0, 0, 0, 0, 0, 0, 0,\n",
       "       0, 0, 0, 0, 0, 0, 0, 0, 1, 0, 0, 0, 0, 0, 0, 0, 0, 0, 0, 0, 0, 0,\n",
       "       0, 0, 0, 0, 0, 0, 0, 0, 0, 0, 0, 0, 0, 0, 0, 1, 1, 0, 1, 0, 0, 1,\n",
       "       0, 0, 0, 0, 0, 0, 0, 0, 0, 0, 0, 0])"
      ]
     },
     "execution_count": 47,
     "metadata": {},
     "output_type": "execute_result"
    }
   ],
   "source": [
    "#check that it's not naive after previous error\n",
    "np.set_printoptions(threshold=np.inf)\n",
    "train_pred"
   ]
  },
  {
   "cell_type": "code",
   "execution_count": 48,
   "metadata": {},
   "outputs": [
    {
     "name": "stdout",
     "output_type": "stream",
     "text": [
      "0.8487179487179487\n",
      "0.7925311203319502\n"
     ]
    }
   ],
   "source": [
    "train_precision = precision_score(y_train,train_pred)\n",
    "val_precision = precision_score(y_val,val_pred)\n",
    "print(train_precision)\n",
    "print(val_precision)\n"
   ]
  },
  {
   "cell_type": "code",
   "execution_count": null,
   "metadata": {},
   "outputs": [],
   "source": []
  }
 ],
 "metadata": {
  "kernelspec": {
   "display_name": "Python 3",
   "language": "python",
   "name": "python3"
  },
  "language_info": {
   "codemirror_mode": {
    "name": "ipython",
    "version": 3
   },
   "file_extension": ".py",
   "mimetype": "text/x-python",
   "name": "python",
   "nbconvert_exporter": "python",
   "pygments_lexer": "ipython3",
   "version": "3.8.5"
  }
 },
 "nbformat": 4,
 "nbformat_minor": 5
}
