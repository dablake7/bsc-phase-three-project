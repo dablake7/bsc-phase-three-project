{
 "cells": [
  {
   "cell_type": "code",
   "execution_count": 14,
   "id": "90114d8f",
   "metadata": {},
   "outputs": [],
   "source": [
    "import pandas as pd\n",
    "df = pd.read_csv('../data/chocolate_encoded2.csv')\n",
    "\n",
    "df['Rating'] = df['Rating'].astype(str)"
   ]
  },
  {
   "cell_type": "code",
   "execution_count": 15,
   "id": "e2599e21",
   "metadata": {},
   "outputs": [],
   "source": [
    "from sklearn.model_selection import train_test_split\n",
    "y= df['Rating']\n",
    "x = df.drop(['Rating'], axis=1)\n",
    "\n",
    "x_tr, x_test, y_tr, y_test = train_test_split(x,y, random_state=42)\n",
    "x_train, x_val, y_train, y_val = train_test_split(x_tr, y_tr, random_state=57)"
   ]
  },
  {
   "cell_type": "code",
   "execution_count": 16,
   "id": "df00f574",
   "metadata": {},
   "outputs": [],
   "source": [
    "from sklearn.neighbors import KNeighborsClassifier"
   ]
  },
  {
   "cell_type": "code",
   "execution_count": 17,
   "id": "96caf86b",
   "metadata": {},
   "outputs": [],
   "source": [
    "base_KNN = KNeighborsClassifier()\n",
    "\n",
    "base_KNN.fit(x_train, y_train)\n",
    "\n",
    "train_pred = base_KNN.predict(x_train)\n",
    "val_pred = base_KNN.predict(x_val)\n",
    "\n",
    "\n"
   ]
  },
  {
   "cell_type": "code",
   "execution_count": 18,
   "id": "587d1869",
   "metadata": {},
   "outputs": [
    {
     "name": "stdout",
     "output_type": "stream",
     "text": [
      "0.45904298459042986\n",
      "0.18004866180048662\n"
     ]
    }
   ],
   "source": [
    "from sklearn.metrics import accuracy_score\n",
    "\n",
    "train_acc = accuracy_score(y_train,train_pred)\n",
    "val_acc = accuracy_score(y_val,val_pred)\n",
    "\n",
    "print(train_acc)\n",
    "print(val_acc)"
   ]
  },
  {
   "cell_type": "code",
   "execution_count": 35,
   "id": "cab0eeac",
   "metadata": {},
   "outputs": [
    {
     "name": "stderr",
     "output_type": "stream",
     "text": [
      "/opt/anaconda3/lib/python3.8/site-packages/sklearn/model_selection/_split.py:666: UserWarning: The least populated class in y has only 1 members, which is less than n_splits=5.\n",
      "  warnings.warn((\"The least populated class in y has only %d\"\n"
     ]
    },
    {
     "data": {
      "text/plain": [
       "GridSearchCV(estimator=KNeighborsClassifier(),\n",
       "             param_grid={'algorithm': ['ball_tree', 'kd_tree', 'brute'],\n",
       "                         'leaf_size': [1, 2, 3], 'n_neighbors': [166, 165, 166],\n",
       "                         'p': [1, 2], 'weights': ['uniform', 'distance']},\n",
       "             scoring='accuracy')"
      ]
     },
     "execution_count": 35,
     "metadata": {},
     "output_type": "execute_result"
    }
   ],
   "source": [
    "from sklearn.model_selection import GridSearchCV\n",
    "\n",
    "GS_KNN = KNeighborsClassifier()\n",
    "\n",
    "#tried wieghts distance, lead to overfitting so it's been removed as an option\n",
    "pram_grid = {'n_neighbors': [166,165,166], 'weights' : ['uniform','distance'], 'algorithm':['ball_tree','kd_tree','brute'],'leaf_size':[1,2,3],'p':[1,2]}\n",
    "\n",
    "GSCV = GridSearchCV(GS_KNN,pram_grid,scoring = 'accuracy')\n",
    "\n",
    "GSCV.fit(x_train,y_train)"
   ]
  },
  {
   "cell_type": "code",
   "execution_count": 36,
   "id": "d653b54a",
   "metadata": {},
   "outputs": [
    {
     "data": {
      "text/plain": [
       "{'algorithm': 'brute',\n",
       " 'leaf_size': 1,\n",
       " 'n_neighbors': 165,\n",
       " 'p': 1,\n",
       " 'weights': 'uniform'}"
      ]
     },
     "execution_count": 36,
     "metadata": {},
     "output_type": "execute_result"
    }
   ],
   "source": [
    "GSCV.best_params_"
   ]
  },
  {
   "cell_type": "code",
   "execution_count": 37,
   "id": "21c969a1",
   "metadata": {},
   "outputs": [
    {
     "name": "stdout",
     "output_type": "stream",
     "text": [
      "0.2733171127331711\n",
      "0.2360097323600973\n"
     ]
    }
   ],
   "source": [
    "train_pred = GSCV.predict(x_train)\n",
    "val_pred = GSCV.predict(x_val)\n",
    "\n",
    "\n",
    "train_acc = accuracy_score(y_train,train_pred)\n",
    "val_acc = accuracy_score(y_val,val_pred)\n",
    "\n",
    "print(train_acc)\n",
    "print(val_acc)"
   ]
  },
  {
   "cell_type": "code",
   "execution_count": 38,
   "id": "40646c73",
   "metadata": {},
   "outputs": [
    {
     "data": {
      "text/plain": [
       "0.23357664233576642"
      ]
     },
     "execution_count": 38,
     "metadata": {},
     "output_type": "execute_result"
    }
   ],
   "source": [
    "previous: 0.2749391727493917\n",
    "0.23357664233576642"
   ]
  },
  {
   "cell_type": "code",
   "execution_count": null,
   "id": "d2cd8fb0",
   "metadata": {},
   "outputs": [],
   "source": []
  }
 ],
 "metadata": {
  "kernelspec": {
   "display_name": "Python 3",
   "language": "python",
   "name": "python3"
  },
  "language_info": {
   "codemirror_mode": {
    "name": "ipython",
    "version": 3
   },
   "file_extension": ".py",
   "mimetype": "text/x-python",
   "name": "python",
   "nbconvert_exporter": "python",
   "pygments_lexer": "ipython3",
   "version": "3.8.8"
  }
 },
 "nbformat": 4,
 "nbformat_minor": 5
}
