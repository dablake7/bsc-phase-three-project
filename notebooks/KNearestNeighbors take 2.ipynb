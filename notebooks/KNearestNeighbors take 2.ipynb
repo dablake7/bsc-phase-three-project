{
 "cells": [
  {
   "cell_type": "code",
   "execution_count": 1,
   "metadata": {},
   "outputs": [],
   "source": [
    "import pandas as pd\n",
    "df = pd.read_csv('../data/chocolate_encoded2.csv')\n",
    "\n"
   ]
  },
  {
   "cell_type": "code",
   "execution_count": 2,
   "metadata": {},
   "outputs": [
    {
     "data": {
      "text/html": [
       "<div>\n",
       "<style scoped>\n",
       "    .dataframe tbody tr th:only-of-type {\n",
       "        vertical-align: middle;\n",
       "    }\n",
       "\n",
       "    .dataframe tbody tr th {\n",
       "        vertical-align: top;\n",
       "    }\n",
       "\n",
       "    .dataframe thead th {\n",
       "        text-align: right;\n",
       "    }\n",
       "</style>\n",
       "<table border=\"1\" class=\"dataframe\">\n",
       "  <thead>\n",
       "    <tr style=\"text-align: right;\">\n",
       "      <th></th>\n",
       "      <th>Unnamed: 0</th>\n",
       "      <th>REF</th>\n",
       "      <th>Cocoa Percent</th>\n",
       "      <th>Rating</th>\n",
       "      <th>fruity</th>\n",
       "      <th>sandy</th>\n",
       "      <th>honey</th>\n",
       "      <th>spice</th>\n",
       "      <th>sour</th>\n",
       "      <th>nut</th>\n",
       "      <th>...</th>\n",
       "      <th>x2_Tanzania</th>\n",
       "      <th>x2_Thailand</th>\n",
       "      <th>x2_Tobago</th>\n",
       "      <th>x2_Togo</th>\n",
       "      <th>x2_Trinidad</th>\n",
       "      <th>x2_U.S.A.</th>\n",
       "      <th>x2_Uganda</th>\n",
       "      <th>x2_Vanuatu</th>\n",
       "      <th>x2_Venezuela</th>\n",
       "      <th>x2_Vietnam</th>\n",
       "    </tr>\n",
       "  </thead>\n",
       "  <tbody>\n",
       "    <tr>\n",
       "      <th>0</th>\n",
       "      <td>0</td>\n",
       "      <td>5.0</td>\n",
       "      <td>0.71</td>\n",
       "      <td>2.00</td>\n",
       "      <td>0.0</td>\n",
       "      <td>1.0</td>\n",
       "      <td>0.0</td>\n",
       "      <td>0.0</td>\n",
       "      <td>0.0</td>\n",
       "      <td>0.0</td>\n",
       "      <td>...</td>\n",
       "      <td>0.0</td>\n",
       "      <td>0.0</td>\n",
       "      <td>0.0</td>\n",
       "      <td>0.0</td>\n",
       "      <td>0.0</td>\n",
       "      <td>0.0</td>\n",
       "      <td>0.0</td>\n",
       "      <td>0.0</td>\n",
       "      <td>0.0</td>\n",
       "      <td>0.0</td>\n",
       "    </tr>\n",
       "    <tr>\n",
       "      <th>1</th>\n",
       "      <td>1</td>\n",
       "      <td>15.0</td>\n",
       "      <td>0.75</td>\n",
       "      <td>2.75</td>\n",
       "      <td>0.0</td>\n",
       "      <td>0.0</td>\n",
       "      <td>0.0</td>\n",
       "      <td>0.0</td>\n",
       "      <td>0.0</td>\n",
       "      <td>0.0</td>\n",
       "      <td>...</td>\n",
       "      <td>0.0</td>\n",
       "      <td>0.0</td>\n",
       "      <td>0.0</td>\n",
       "      <td>0.0</td>\n",
       "      <td>0.0</td>\n",
       "      <td>0.0</td>\n",
       "      <td>0.0</td>\n",
       "      <td>0.0</td>\n",
       "      <td>0.0</td>\n",
       "      <td>0.0</td>\n",
       "    </tr>\n",
       "    <tr>\n",
       "      <th>2</th>\n",
       "      <td>2</td>\n",
       "      <td>15.0</td>\n",
       "      <td>0.73</td>\n",
       "      <td>2.00</td>\n",
       "      <td>0.0</td>\n",
       "      <td>0.0</td>\n",
       "      <td>0.0</td>\n",
       "      <td>0.0</td>\n",
       "      <td>0.0</td>\n",
       "      <td>0.0</td>\n",
       "      <td>...</td>\n",
       "      <td>0.0</td>\n",
       "      <td>0.0</td>\n",
       "      <td>0.0</td>\n",
       "      <td>0.0</td>\n",
       "      <td>0.0</td>\n",
       "      <td>0.0</td>\n",
       "      <td>0.0</td>\n",
       "      <td>0.0</td>\n",
       "      <td>0.0</td>\n",
       "      <td>0.0</td>\n",
       "    </tr>\n",
       "    <tr>\n",
       "      <th>3</th>\n",
       "      <td>3</td>\n",
       "      <td>15.0</td>\n",
       "      <td>0.70</td>\n",
       "      <td>3.50</td>\n",
       "      <td>0.0</td>\n",
       "      <td>0.0</td>\n",
       "      <td>0.0</td>\n",
       "      <td>0.0</td>\n",
       "      <td>0.0</td>\n",
       "      <td>0.0</td>\n",
       "      <td>...</td>\n",
       "      <td>0.0</td>\n",
       "      <td>0.0</td>\n",
       "      <td>0.0</td>\n",
       "      <td>0.0</td>\n",
       "      <td>0.0</td>\n",
       "      <td>0.0</td>\n",
       "      <td>0.0</td>\n",
       "      <td>0.0</td>\n",
       "      <td>0.0</td>\n",
       "      <td>0.0</td>\n",
       "    </tr>\n",
       "    <tr>\n",
       "      <th>4</th>\n",
       "      <td>4</td>\n",
       "      <td>15.0</td>\n",
       "      <td>0.82</td>\n",
       "      <td>2.00</td>\n",
       "      <td>0.0</td>\n",
       "      <td>1.0</td>\n",
       "      <td>0.0</td>\n",
       "      <td>0.0</td>\n",
       "      <td>0.0</td>\n",
       "      <td>0.0</td>\n",
       "      <td>...</td>\n",
       "      <td>0.0</td>\n",
       "      <td>0.0</td>\n",
       "      <td>0.0</td>\n",
       "      <td>0.0</td>\n",
       "      <td>0.0</td>\n",
       "      <td>0.0</td>\n",
       "      <td>0.0</td>\n",
       "      <td>0.0</td>\n",
       "      <td>0.0</td>\n",
       "      <td>0.0</td>\n",
       "    </tr>\n",
       "  </tbody>\n",
       "</table>\n",
       "<p>5 rows × 667 columns</p>\n",
       "</div>"
      ],
      "text/plain": [
       "   Unnamed: 0   REF  Cocoa Percent  Rating  fruity  sandy  honey  spice  sour  \\\n",
       "0           0   5.0           0.71    2.00     0.0    1.0    0.0    0.0   0.0   \n",
       "1           1  15.0           0.75    2.75     0.0    0.0    0.0    0.0   0.0   \n",
       "2           2  15.0           0.73    2.00     0.0    0.0    0.0    0.0   0.0   \n",
       "3           3  15.0           0.70    3.50     0.0    0.0    0.0    0.0   0.0   \n",
       "4           4  15.0           0.82    2.00     0.0    1.0    0.0    0.0   0.0   \n",
       "\n",
       "   nut  ...  x2_Tanzania  x2_Thailand  x2_Tobago  x2_Togo  x2_Trinidad  \\\n",
       "0  0.0  ...          0.0          0.0        0.0      0.0          0.0   \n",
       "1  0.0  ...          0.0          0.0        0.0      0.0          0.0   \n",
       "2  0.0  ...          0.0          0.0        0.0      0.0          0.0   \n",
       "3  0.0  ...          0.0          0.0        0.0      0.0          0.0   \n",
       "4  0.0  ...          0.0          0.0        0.0      0.0          0.0   \n",
       "\n",
       "   x2_U.S.A.  x2_Uganda  x2_Vanuatu  x2_Venezuela  x2_Vietnam  \n",
       "0        0.0        0.0         0.0           0.0         0.0  \n",
       "1        0.0        0.0         0.0           0.0         0.0  \n",
       "2        0.0        0.0         0.0           0.0         0.0  \n",
       "3        0.0        0.0         0.0           0.0         0.0  \n",
       "4        0.0        0.0         0.0           0.0         0.0  \n",
       "\n",
       "[5 rows x 667 columns]"
      ]
     },
     "execution_count": 2,
     "metadata": {},
     "output_type": "execute_result"
    }
   ],
   "source": [
    "df.head()"
   ]
  },
  {
   "cell_type": "code",
   "execution_count": 3,
   "metadata": {},
   "outputs": [],
   "source": [
    "def biner(integer):\n",
    "    if integer < 1.5:\n",
    "        return 1.0\n",
    "    elif integer < 2.0:\n",
    "        return 1.5\n",
    "    elif integer < 2.5:\n",
    "        return 2.0\n",
    "    elif integer < 3.0:\n",
    "        return 2.5\n",
    "    elif integer < 3.5:\n",
    "        return 3.0\n",
    "    elif integer < 4.0:\n",
    "        return 3.5\n",
    "    else:\n",
    "        return 4.0 \n",
    "    \n",
    "\n",
    "def binarizer(integer):\n",
    "    if integer < 3.5:\n",
    "        return 0\n",
    "    else:\n",
    "        return 1"
   ]
  },
  {
   "cell_type": "code",
   "execution_count": 4,
   "metadata": {},
   "outputs": [],
   "source": [
    "df['Rating'] = df['Rating'].apply(binarizer)\n",
    "#df['Rating'] = df['Rating'].astype(str)"
   ]
  },
  {
   "cell_type": "code",
   "execution_count": 5,
   "metadata": {},
   "outputs": [],
   "source": [
    "from sklearn.model_selection import train_test_split\n",
    "y= df['Rating']\n",
    "x = df.drop(['Rating'], axis=1)\n",
    "\n",
    "x_tr, x_test, y_tr, y_test = train_test_split(x,y, random_state=42)\n",
    "x_train, x_val, y_train, y_val = train_test_split(x_tr, y_tr, random_state=57)"
   ]
  },
  {
   "cell_type": "code",
   "execution_count": 6,
   "metadata": {},
   "outputs": [],
   "source": [
    "from sklearn.neighbors import KNeighborsClassifier"
   ]
  },
  {
   "cell_type": "code",
   "execution_count": 48,
   "metadata": {},
   "outputs": [],
   "source": [
    "base_KNN = KNeighborsClassifier()\n",
    "\n",
    "base_KNN.fit(x_train, y_train)\n",
    "\n",
    "train_pred = base_KNN.predict(x_train)\n",
    "val_pred = base_KNN.predict(x_val)\n",
    "\n",
    "\n"
   ]
  },
  {
   "cell_type": "code",
   "execution_count": 49,
   "metadata": {},
   "outputs": [
    {
     "name": "stdout",
     "output_type": "stream",
     "text": [
      "0.740470397404704\n",
      "0.5863746958637469\n"
     ]
    }
   ],
   "source": [
    "from sklearn.metrics import accuracy_score\n",
    "\n",
    "train_acc = accuracy_score(y_train,train_pred)\n",
    "val_acc = accuracy_score(y_val,val_pred)\n",
    "\n",
    "print(train_acc)\n",
    "print(val_acc)"
   ]
  },
  {
   "cell_type": "code",
   "execution_count": 50,
   "metadata": {},
   "outputs": [
    {
     "data": {
      "text/plain": [
       "0    1354\n",
       "1     839\n",
       "Name: Rating, dtype: int64"
      ]
     },
     "execution_count": 50,
     "metadata": {},
     "output_type": "execute_result"
    }
   ],
   "source": [
    "df['Rating'].value_counts()"
   ]
  },
  {
   "cell_type": "code",
   "execution_count": 58,
   "metadata": {},
   "outputs": [
    {
     "data": {
      "text/plain": [
       "GridSearchCV(estimator=KNeighborsClassifier(),\n",
       "             param_grid={'algorithm': ['ball_tree', 'kd_tree', 'brute'],\n",
       "                         'leaf_size': [6, 7, 8, 9, 10],\n",
       "                         'n_neighbors': [3, 4, 5, 6, 7], 'p': [1, 2],\n",
       "                         'weights': ['uniform']},\n",
       "             scoring='accuracy')"
      ]
     },
     "execution_count": 58,
     "metadata": {},
     "output_type": "execute_result"
    }
   ],
   "source": [
    "from sklearn.model_selection import GridSearchCV\n",
    "\n",
    "GS_KNN = KNeighborsClassifier()\n",
    "\n",
    "#tried wieghts distance, lead to overfitting so it's been removed as an option\n",
    "pram_grid = {'n_neighbors': [3,4,5,6,7], 'weights' : ['uniform'], 'algorithm':['ball_tree','kd_tree','brute'],'leaf_size':[6,7,8,9,10],'p':[1,2]}\n",
    "\n",
    "GSCV = GridSearchCV(GS_KNN,pram_grid,scoring = 'accuracy')\n",
    "\n",
    "GSCV.fit(x_train,y_train)"
   ]
  },
  {
   "cell_type": "code",
   "execution_count": 59,
   "metadata": {},
   "outputs": [
    {
     "data": {
      "text/plain": [
       "{'algorithm': 'ball_tree',\n",
       " 'leaf_size': 6,\n",
       " 'n_neighbors': 6,\n",
       " 'p': 1,\n",
       " 'weights': 'uniform'}"
      ]
     },
     "execution_count": 59,
     "metadata": {},
     "output_type": "execute_result"
    }
   ],
   "source": [
    "GSCV.best_params_"
   ]
  },
  {
   "cell_type": "code",
   "execution_count": 60,
   "metadata": {},
   "outputs": [
    {
     "name": "stdout",
     "output_type": "stream",
     "text": [
      "0.7177615571776156\n",
      "0.6155717761557178\n"
     ]
    }
   ],
   "source": [
    "train_pred = GSCV.predict(x_train)\n",
    "val_pred = GSCV.predict(x_val)\n",
    "\n",
    "\n",
    "train_acc = accuracy_score(y_train,train_pred)\n",
    "val_acc = accuracy_score(y_val,val_pred)\n",
    "\n",
    "print(train_acc)\n",
    "print(val_acc)"
   ]
  },
  {
   "cell_type": "markdown",
   "metadata": {},
   "source": [
    "previous: 0.2733171127331711\n",
    "0.2360097323600973"
   ]
  },
  {
   "cell_type": "markdown",
   "metadata": {},
   "source": [
    "#distance\n",
    "1.0\n",
    "0.39416058394160586\n",
    "\n",
    "\n",
    "\n",
    "\n",
    "overfit issues?"
   ]
  },
  {
   "cell_type": "code",
   "execution_count": null,
   "metadata": {},
   "outputs": [],
   "source": [
    "0.781021897810219\n",
    "0.781021897810219"
   ]
  },
  {
   "cell_type": "code",
   "execution_count": null,
   "metadata": {},
   "outputs": [],
   "source": [
    "0.6982968369829684\n",
    "0.6180048661800487\n",
    "\n",
    "#problematically close to a random model, probably over fitting."
   ]
  },
  {
   "cell_type": "code",
   "execution_count": 69,
   "metadata": {},
   "outputs": [],
   "source": [
    "df = pd.read_csv('../data/chocolate_encoded2.csv')\n",
    "\n",
    "def binarizer2(integer):\n",
    "    if integer < 3.0:\n",
    "        return 0\n",
    "    else:\n",
    "        return 1\n",
    "    \n",
    "df['Rating'] = df['Rating'].apply(binarizer2)\n",
    "\n"
   ]
  },
  {
   "cell_type": "code",
   "execution_count": 70,
   "metadata": {},
   "outputs": [],
   "source": [
    "from sklearn.model_selection import train_test_split\n",
    "y= df['Rating']\n",
    "x = df.drop(['Rating'], axis=1)\n",
    "\n",
    "x_tr, x_test, y_tr, y_test = train_test_split(x,y, random_state=42)\n",
    "x_train, x_val, y_train, y_val = train_test_split(x_tr, y_tr, random_state=57)"
   ]
  },
  {
   "cell_type": "code",
   "execution_count": 71,
   "metadata": {},
   "outputs": [],
   "source": [
    "from sklearn.neighbors import KNeighborsClassifier\n",
    "from sklearn.metrics import accuracy_score\n",
    "\n"
   ]
  },
  {
   "cell_type": "code",
   "execution_count": 72,
   "metadata": {},
   "outputs": [
    {
     "data": {
      "text/plain": [
       "1    1702\n",
       "0     491\n",
       "Name: Rating, dtype: int64"
      ]
     },
     "execution_count": 72,
     "metadata": {},
     "output_type": "execute_result"
    }
   ],
   "source": [
    "df['Rating'].value_counts()"
   ]
  },
  {
   "cell_type": "code",
   "execution_count": 99,
   "metadata": {},
   "outputs": [
    {
     "data": {
      "text/plain": [
       "GridSearchCV(estimator=KNeighborsClassifier(),\n",
       "             param_grid={'algorithm': ['ball_tree', 'kd_tree', 'brute'],\n",
       "                         'leaf_size': [1, 2, 3, 4],\n",
       "                         'n_neighbors': [30, 31, 32, 33, 34], 'p': [1, 2],\n",
       "                         'weights': ['uniform']},\n",
       "             scoring='accuracy')"
      ]
     },
     "execution_count": 99,
     "metadata": {},
     "output_type": "execute_result"
    }
   ],
   "source": [
    "from sklearn.model_selection import GridSearchCV\n",
    "\n",
    "GS_KNN = KNeighborsClassifier()\n",
    "\n",
    "#tried wieghts distance, lead to overfitting so it's been removed as an option\n",
    "pram_grid = {'n_neighbors': [30,31,32,33,34], 'weights' : ['uniform'], 'algorithm':['ball_tree','kd_tree','brute'],'leaf_size':[1,2,3,4],'p':[1,2]}\n",
    "\n",
    "GSCV = GridSearchCV(GS_KNN,pram_grid,scoring = 'accuracy')\n",
    "\n",
    "GSCV.fit(x_train,y_train)"
   ]
  },
  {
   "cell_type": "code",
   "execution_count": 100,
   "metadata": {},
   "outputs": [
    {
     "data": {
      "text/plain": [
       "{'algorithm': 'ball_tree',\n",
       " 'leaf_size': 1,\n",
       " 'n_neighbors': 31,\n",
       " 'p': 1,\n",
       " 'weights': 'uniform'}"
      ]
     },
     "execution_count": 100,
     "metadata": {},
     "output_type": "execute_result"
    }
   ],
   "source": [
    "GSCV.best_params_"
   ]
  },
  {
   "cell_type": "code",
   "execution_count": 101,
   "metadata": {},
   "outputs": [
    {
     "name": "stdout",
     "output_type": "stream",
     "text": [
      "0.781021897810219\n",
      "0.781021897810219\n"
     ]
    }
   ],
   "source": [
    "train_pred = GSCV.predict(x_train)\n",
    "val_pred = GSCV.predict(x_val)\n",
    "\n",
    "\n",
    "train_acc = accuracy_score(y_train,train_pred)\n",
    "val_acc = accuracy_score(y_val,val_pred)\n",
    "\n",
    "print(train_acc)\n",
    "print(val_acc)"
   ]
  },
  {
   "cell_type": "markdown",
   "metadata": {},
   "source": [
    "0.781021897810219\n",
    "0.781021897810219\n",
    "\n",
    "71%"
   ]
  },
  {
   "cell_type": "markdown",
   "metadata": {},
   "source": [
    "this is about good as I think this'll get stategy wise, next let's try using smote"
   ]
  },
  {
   "cell_type": "code",
   "execution_count": null,
   "metadata": {},
   "outputs": [],
   "source": []
  },
  {
   "cell_type": "code",
   "execution_count": 13,
   "metadata": {},
   "outputs": [],
   "source": [
    "from imblearn.over_sampling import SMOTE\n",
    "import numpy as np"
   ]
  },
  {
   "cell_type": "code",
   "execution_count": 20,
   "metadata": {},
   "outputs": [
    {
     "data": {
      "text/plain": [
       "array([0, 1])"
      ]
     },
     "execution_count": 20,
     "metadata": {},
     "output_type": "execute_result"
    }
   ],
   "source": [
    "df = pd.read_csv('../data/chocolate_encoded2.csv')\n",
    "\n",
    "def binarizer2(integer):\n",
    "    if integer < 3.0:\n",
    "        return 0\n",
    "    else:\n",
    "        return 1\n",
    "    \n",
    "df['Rating'] = df['Rating'].apply(binarizer2)\n",
    "\n",
    "y= df['Rating']\n",
    "x = df.drop(['Rating'], axis=1)\n",
    "\n",
    "x_tr, x_test, y_tr, y_test = train_test_split(x,y, random_state=42)\n",
    "x_train, x_val, y_train, y_val = train_test_split(x_tr, y_tr, random_state=57)\n",
    "\n",
    "np.unique(y)"
   ]
  },
  {
   "cell_type": "code",
   "execution_count": 21,
   "metadata": {},
   "outputs": [],
   "source": [
    "smote = SMOTE()\n",
    "x_train, y_train = smote.fit_sample(x_train, y_train) "
   ]
  },
  {
   "cell_type": "code",
   "execution_count": 36,
   "metadata": {},
   "outputs": [
    {
     "data": {
      "text/plain": [
       "GridSearchCV(estimator=KNeighborsClassifier(),\n",
       "             param_grid={'algorithm': ['ball_tree', 'kd_tree', 'brute'],\n",
       "                         'leaf_size': [10, 15, 20, 25],\n",
       "                         'n_neighbors': [7, 8, 9, 10, 11, 12], 'p': [1, 2],\n",
       "                         'weights': ['uniform']},\n",
       "             scoring='accuracy')"
      ]
     },
     "execution_count": 36,
     "metadata": {},
     "output_type": "execute_result"
    }
   ],
   "source": [
    "from sklearn.model_selection import GridSearchCV\n",
    "\n",
    "GS_KNN = KNeighborsClassifier()\n",
    "\n",
    "#tried wieghts distance, lead to overfitting so it's been removed as an option\n",
    "pram_grid = {'n_neighbors': [7,8,9,10,11,12], 'weights' : ['uniform'], 'algorithm':['ball_tree','kd_tree','brute'],'leaf_size':[10,15,20,25],'p':[1,2]}\n",
    "\n",
    "GSCV = GridSearchCV(GS_KNN,pram_grid,scoring = 'accuracy')\n",
    "\n",
    "GSCV.fit(x_train,y_train)"
   ]
  },
  {
   "cell_type": "code",
   "execution_count": 37,
   "metadata": {},
   "outputs": [
    {
     "data": {
      "text/plain": [
       "{'algorithm': 'ball_tree',\n",
       " 'leaf_size': 10,\n",
       " 'n_neighbors': 7,\n",
       " 'p': 1,\n",
       " 'weights': 'uniform'}"
      ]
     },
     "execution_count": 37,
     "metadata": {},
     "output_type": "execute_result"
    }
   ],
   "source": [
    "GSCV.best_params_"
   ]
  },
  {
   "cell_type": "code",
   "execution_count": 38,
   "metadata": {},
   "outputs": [
    {
     "name": "stdout",
     "output_type": "stream",
     "text": [
      "0.8001038421599169\n",
      "0.5693430656934306\n"
     ]
    }
   ],
   "source": [
    "from sklearn.metrics import accuracy_score\n",
    "\n",
    "\n",
    "train_pred = GSCV.predict(x_train)\n",
    "val_pred = GSCV.predict(x_val)\n",
    "\n",
    "\n",
    "train_acc = accuracy_score(y_train,train_pred)\n",
    "val_acc = accuracy_score(y_val,val_pred)\n",
    "\n",
    "print(train_acc)\n",
    "print(val_acc)"
   ]
  },
  {
   "cell_type": "markdown",
   "metadata": {},
   "source": [
    "1.0\n",
    "0.6593673965936739"
   ]
  },
  {
   "cell_type": "code",
   "execution_count": null,
   "metadata": {},
   "outputs": [],
   "source": [
    "0.7710280373831776\n",
    "0.5450121654501217"
   ]
  },
  {
   "cell_type": "code",
   "execution_count": null,
   "metadata": {},
   "outputs": [],
   "source": [
    "0.839563862928349\n",
    "0.5912408759124088\n",
    "{'algorithm': 'ball_tree',\n",
    " 'leaf_size': 20,\n",
    " 'n_neighbors': 5,\n",
    " 'p': 1,\n",
    " 'weights': 'uniform'}"
   ]
  },
  {
   "cell_type": "code",
   "execution_count": null,
   "metadata": {},
   "outputs": [],
   "source": [
    "0.8001038421599169\n",
    "0.5693430656934306\n",
    "'algorithm': 'ball_tree',\n",
    " 'leaf_size': 10,\n",
    " 'n_neighbors': 7,\n",
    " 'p': 1,\n",
    " 'weights': 'uniform'}"
   ]
  },
  {
   "cell_type": "markdown",
   "metadata": {},
   "source": [
    "This is obviously not working, and onyl really hurting the overfit issue, so I'm going into the data cleaning notebook real quick to see if I can figure out a fix by reducing noise."
   ]
  },
  {
   "cell_type": "code",
   "execution_count": 41,
   "metadata": {},
   "outputs": [],
   "source": [
    "df= pd.read_csv('../data/chocalate_nomaker.csv')"
   ]
  },
  {
   "cell_type": "code",
   "execution_count": 42,
   "metadata": {},
   "outputs": [
    {
     "data": {
      "text/plain": [
       "array([0, 1])"
      ]
     },
     "execution_count": 42,
     "metadata": {},
     "output_type": "execute_result"
    }
   ],
   "source": [
    "def binarizer2(integer):\n",
    "    if integer < 3.0:\n",
    "        return 0\n",
    "    else:\n",
    "        return 1\n",
    "    \n",
    "df['Rating'] = df['Rating'].apply(binarizer2)\n",
    "\n",
    "y= df['Rating']\n",
    "x = df.drop(['Rating'], axis=1)\n",
    "\n",
    "x_tr, x_test, y_tr, y_test = train_test_split(x,y, random_state=42)\n",
    "x_train, x_val, y_train, y_val = train_test_split(x_tr, y_tr, random_state=57)\n",
    "\n",
    "np.unique(y)"
   ]
  },
  {
   "cell_type": "code",
   "execution_count": 43,
   "metadata": {},
   "outputs": [],
   "source": [
    "smote = SMOTE()\n",
    "x_train, y_train = smote.fit_sample(x_train, y_train) "
   ]
  },
  {
   "cell_type": "code",
   "execution_count": 47,
   "metadata": {},
   "outputs": [
    {
     "data": {
      "text/plain": [
       "GridSearchCV(estimator=KNeighborsClassifier(),\n",
       "             param_grid={'algorithm': ['ball_tree', 'kd_tree', 'brute'],\n",
       "                         'leaf_size': [3, 5, 7, 10], 'n_neighbors': [5, 10, 15],\n",
       "                         'p': [1, 2], 'weights': ['uniform']},\n",
       "             scoring='accuracy')"
      ]
     },
     "execution_count": 47,
     "metadata": {},
     "output_type": "execute_result"
    }
   ],
   "source": [
    "from sklearn.model_selection import GridSearchCV\n",
    "\n",
    "GS_KNN = KNeighborsClassifier()\n",
    "\n",
    "#tried wieghts distance, lead to overfitting so it's been removed as an option\n",
    "pram_grid = {'n_neighbors': [5,10,15], 'weights' : ['uniform'], 'algorithm':['ball_tree','kd_tree','brute'],'leaf_size':[3,5,7,10],'p':[1,2]}\n",
    "\n",
    "GSCV = GridSearchCV(GS_KNN,pram_grid,scoring = 'accuracy')\n",
    "\n",
    "GSCV.fit(x_train,y_train)"
   ]
  },
  {
   "cell_type": "code",
   "execution_count": 48,
   "metadata": {},
   "outputs": [
    {
     "data": {
      "text/plain": [
       "{'algorithm': 'ball_tree',\n",
       " 'leaf_size': 5,\n",
       " 'n_neighbors': 5,\n",
       " 'p': 1,\n",
       " 'weights': 'uniform'}"
      ]
     },
     "execution_count": 48,
     "metadata": {},
     "output_type": "execute_result"
    }
   ],
   "source": [
    "GSCV.best_params_"
   ]
  },
  {
   "cell_type": "code",
   "execution_count": 49,
   "metadata": {},
   "outputs": [
    {
     "name": "stdout",
     "output_type": "stream",
     "text": [
      "0.8229491173416407\n",
      "0.6082725060827251\n"
     ]
    }
   ],
   "source": [
    "from sklearn.metrics import accuracy_score\n",
    "\n",
    "\n",
    "train_pred = GSCV.predict(x_train)\n",
    "val_pred = GSCV.predict(x_val)\n",
    "\n",
    "\n",
    "train_acc = accuracy_score(y_train,train_pred)\n",
    "val_acc = accuracy_score(y_val,val_pred)\n",
    "\n",
    "print(train_acc)\n",
    "print(val_acc)"
   ]
  },
  {
   "cell_type": "code",
   "execution_count": null,
   "metadata": {},
   "outputs": [],
   "source": [
    "{'algorithm': 'ball_tree',\n",
    " 'leaf_size': 10,\n",
    " 'n_neighbors': 1,\n",
    " 'p': 1,\n",
    " 'weights': 'uniform'}\n",
    "1.0\n",
    "0.6739659367396593"
   ]
  },
  {
   "cell_type": "code",
   "execution_count": null,
   "metadata": {},
   "outputs": [],
   "source": [
    "'algorithm': 'ball_tree',\n",
    " 'leaf_size': 5,\n",
    " 'n_neighbors': 5,\n",
    " 'p': 1,\n",
    " 'weights': 'uniform'}\n",
    "0.8229491173416407\n",
    "0.6082725060827251"
   ]
  }
 ],
 "metadata": {
  "kernelspec": {
   "display_name": "Python 3",
   "language": "python",
   "name": "python3"
  },
  "language_info": {
   "codemirror_mode": {
    "name": "ipython",
    "version": 3
   },
   "file_extension": ".py",
   "mimetype": "text/x-python",
   "name": "python",
   "nbconvert_exporter": "python",
   "pygments_lexer": "ipython3",
   "version": "3.8.5"
  }
 },
 "nbformat": 4,
 "nbformat_minor": 5
}
